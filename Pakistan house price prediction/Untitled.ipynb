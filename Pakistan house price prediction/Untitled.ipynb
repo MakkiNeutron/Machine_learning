{
  "nbformat": 4,
  "nbformat_minor": 0,
  "metadata": {
    "colab": {
      "name": "Untitled",
      "provenance": [],
      "collapsed_sections": []
    },
    "kernelspec": {
      "display_name": "Python 3",
      "name": "python3"
    },
    "language_info": {
      "name": "python"
    }
  },
  "cells": [
    {
      "cell_type": "code",
      "metadata": {
        "colab": {
          "base_uri": "https://localhost:8080/"
        },
        "id": "ADcgsw0S17ge",
        "outputId": "f5c22e3b-66a1-43d1-b448-ede7a40eafe7"
      },
      "source": [
        "from google.colab import drive\n",
        "drive.mount('/content/drive')"
      ],
      "execution_count": null,
      "outputs": [
        {
          "output_type": "stream",
          "text": [
            "Drive already mounted at /content/drive; to attempt to forcibly remount, call drive.mount(\"/content/drive\", force_remount=True).\n"
          ],
          "name": "stdout"
        }
      ]
    },
    {
      "cell_type": "code",
      "metadata": {
        "id": "BZVNg2fMFq56"
      },
      "source": [
        "#!pip install autoviz"
      ],
      "execution_count": null,
      "outputs": []
    },
    {
      "cell_type": "code",
      "metadata": {
        "id": "c0shbew02N1s"
      },
      "source": [
        "import numpy as np\n",
        "import pandas as pd\n",
        "import seaborn as sns\n",
        "import matplotlib.pyplot as plt\n",
        "#from autoviz.AutoViz_Class import AutoViz_Class"
      ],
      "execution_count": null,
      "outputs": []
    },
    {
      "cell_type": "code",
      "metadata": {
        "id": "zOW-PW6kHpNb"
      },
      "source": [
        "b= sns\n",
        "sns.set_theme(style=\"whitegrid\") \n",
        "color=sns.color_palette(\"husl\", 6)\n"
      ],
      "execution_count": null,
      "outputs": []
    },
    {
      "cell_type": "code",
      "metadata": {
        "id": "1ddN9qTz2kF9"
      },
      "source": [
        "df= pd.read_csv('/content/drive/MyDrive/Data science/My projects/Pakistan house price prediction/Property_with_Feature_Engineering.csv')"
      ],
      "execution_count": null,
      "outputs": []
    },
    {
      "cell_type": "code",
      "metadata": {
        "colab": {
          "base_uri": "https://localhost:8080/",
          "height": 455
        },
        "id": "YUtmir9y2t0R",
        "outputId": "b5d922f0-939d-4691-c8cd-56424ad0d3f5"
      },
      "source": [
        "df.head()"
      ],
      "execution_count": null,
      "outputs": [
        {
          "output_type": "execute_result",
          "data": {
            "text/html": [
              "<div>\n",
              "<style scoped>\n",
              "    .dataframe tbody tr th:only-of-type {\n",
              "        vertical-align: middle;\n",
              "    }\n",
              "\n",
              "    .dataframe tbody tr th {\n",
              "        vertical-align: top;\n",
              "    }\n",
              "\n",
              "    .dataframe thead th {\n",
              "        text-align: right;\n",
              "    }\n",
              "</style>\n",
              "<table border=\"1\" class=\"dataframe\">\n",
              "  <thead>\n",
              "    <tr style=\"text-align: right;\">\n",
              "      <th></th>\n",
              "      <th>property_id</th>\n",
              "      <th>location_id</th>\n",
              "      <th>page_url</th>\n",
              "      <th>property_type</th>\n",
              "      <th>price</th>\n",
              "      <th>price_bin</th>\n",
              "      <th>location</th>\n",
              "      <th>city</th>\n",
              "      <th>province_name</th>\n",
              "      <th>locality</th>\n",
              "      <th>latitude</th>\n",
              "      <th>longitude</th>\n",
              "      <th>baths</th>\n",
              "      <th>area</th>\n",
              "      <th>area_marla</th>\n",
              "      <th>area_sqft</th>\n",
              "      <th>purpose</th>\n",
              "      <th>bedrooms</th>\n",
              "      <th>date_added</th>\n",
              "      <th>year</th>\n",
              "      <th>month</th>\n",
              "      <th>day</th>\n",
              "      <th>agency</th>\n",
              "      <th>agent</th>\n",
              "    </tr>\n",
              "  </thead>\n",
              "  <tbody>\n",
              "    <tr>\n",
              "      <th>0</th>\n",
              "      <td>347795</td>\n",
              "      <td>8</td>\n",
              "      <td>https://www.zameen.com/Property/lahore_model_t...</td>\n",
              "      <td>House</td>\n",
              "      <td>220000000</td>\n",
              "      <td>Very High</td>\n",
              "      <td>Model Town</td>\n",
              "      <td>Lahore</td>\n",
              "      <td>Punjab</td>\n",
              "      <td>Model Town, Lahore, Punjab</td>\n",
              "      <td>31.483869</td>\n",
              "      <td>74.325686</td>\n",
              "      <td>0</td>\n",
              "      <td>6 Kanal</td>\n",
              "      <td>120.0</td>\n",
              "      <td>32670.12</td>\n",
              "      <td>For Sale</td>\n",
              "      <td>0</td>\n",
              "      <td>07-17-2019</td>\n",
              "      <td>2019</td>\n",
              "      <td>7</td>\n",
              "      <td>17</td>\n",
              "      <td>Real Biz International</td>\n",
              "      <td>Usama Khan</td>\n",
              "    </tr>\n",
              "    <tr>\n",
              "      <th>1</th>\n",
              "      <td>482892</td>\n",
              "      <td>48</td>\n",
              "      <td>https://www.zameen.com/Property/lahore_multan_...</td>\n",
              "      <td>House</td>\n",
              "      <td>40000000</td>\n",
              "      <td>Very High</td>\n",
              "      <td>Multan Road</td>\n",
              "      <td>Lahore</td>\n",
              "      <td>Punjab</td>\n",
              "      <td>Multan Road, Lahore, Punjab</td>\n",
              "      <td>31.431593</td>\n",
              "      <td>74.179980</td>\n",
              "      <td>5</td>\n",
              "      <td>1 Kanal</td>\n",
              "      <td>20.0</td>\n",
              "      <td>5445.02</td>\n",
              "      <td>For Sale</td>\n",
              "      <td>5</td>\n",
              "      <td>10-06-2018</td>\n",
              "      <td>2018</td>\n",
              "      <td>10</td>\n",
              "      <td>6</td>\n",
              "      <td>Khan Estate</td>\n",
              "      <td>mohsinkhan and B</td>\n",
              "    </tr>\n",
              "    <tr>\n",
              "      <th>2</th>\n",
              "      <td>555962</td>\n",
              "      <td>75</td>\n",
              "      <td>https://www.zameen.com/Property/eden_eden_aven...</td>\n",
              "      <td>House</td>\n",
              "      <td>9500000</td>\n",
              "      <td>Low</td>\n",
              "      <td>Eden</td>\n",
              "      <td>Lahore</td>\n",
              "      <td>Punjab</td>\n",
              "      <td>Eden, Lahore, Punjab</td>\n",
              "      <td>31.499348</td>\n",
              "      <td>74.416959</td>\n",
              "      <td>0</td>\n",
              "      <td>9 Marla</td>\n",
              "      <td>9.0</td>\n",
              "      <td>2450.26</td>\n",
              "      <td>For Sale</td>\n",
              "      <td>3</td>\n",
              "      <td>07-03-2019</td>\n",
              "      <td>2019</td>\n",
              "      <td>7</td>\n",
              "      <td>3</td>\n",
              "      <td>Shahum Estate 2</td>\n",
              "      <td>Babar Hameed, Raja Omar</td>\n",
              "    </tr>\n",
              "    <tr>\n",
              "      <th>3</th>\n",
              "      <td>562843</td>\n",
              "      <td>3821</td>\n",
              "      <td>https://www.zameen.com/Property/gulberg_2_gulb...</td>\n",
              "      <td>House</td>\n",
              "      <td>125000000</td>\n",
              "      <td>Very High</td>\n",
              "      <td>Gulberg</td>\n",
              "      <td>Lahore</td>\n",
              "      <td>Punjab</td>\n",
              "      <td>Gulberg, Lahore, Punjab</td>\n",
              "      <td>31.522069</td>\n",
              "      <td>74.355512</td>\n",
              "      <td>7</td>\n",
              "      <td>1 Kanal</td>\n",
              "      <td>20.0</td>\n",
              "      <td>5445.02</td>\n",
              "      <td>For Sale</td>\n",
              "      <td>8</td>\n",
              "      <td>04-04-2019</td>\n",
              "      <td>2019</td>\n",
              "      <td>4</td>\n",
              "      <td>4</td>\n",
              "      <td>NaN</td>\n",
              "      <td>NaN</td>\n",
              "    </tr>\n",
              "    <tr>\n",
              "      <th>4</th>\n",
              "      <td>686990</td>\n",
              "      <td>3522</td>\n",
              "      <td>https://www.zameen.com/Property/allama_iqbal_t...</td>\n",
              "      <td>House</td>\n",
              "      <td>21000000</td>\n",
              "      <td>High</td>\n",
              "      <td>Allama Iqbal Town</td>\n",
              "      <td>Lahore</td>\n",
              "      <td>Punjab</td>\n",
              "      <td>Allama Iqbal Town, Lahore, Punjab</td>\n",
              "      <td>31.506483</td>\n",
              "      <td>74.286017</td>\n",
              "      <td>5</td>\n",
              "      <td>11 Marla</td>\n",
              "      <td>11.0</td>\n",
              "      <td>2994.76</td>\n",
              "      <td>For Sale</td>\n",
              "      <td>6</td>\n",
              "      <td>04-04-2019</td>\n",
              "      <td>2019</td>\n",
              "      <td>4</td>\n",
              "      <td>4</td>\n",
              "      <td>NaN</td>\n",
              "      <td>NaN</td>\n",
              "    </tr>\n",
              "  </tbody>\n",
              "</table>\n",
              "</div>"
            ],
            "text/plain": [
              "   property_id  location_id  ...                  agency                    agent\n",
              "0       347795            8  ...  Real Biz International               Usama Khan\n",
              "1       482892           48  ...             Khan Estate         mohsinkhan and B\n",
              "2       555962           75  ...         Shahum Estate 2  Babar Hameed, Raja Omar\n",
              "3       562843         3821  ...                     NaN                      NaN\n",
              "4       686990         3522  ...                     NaN                      NaN\n",
              "\n",
              "[5 rows x 24 columns]"
            ]
          },
          "metadata": {
            "tags": []
          },
          "execution_count": 9
        }
      ]
    },
    {
      "cell_type": "code",
      "metadata": {
        "colab": {
          "base_uri": "https://localhost:8080/"
        },
        "id": "PaozIGnN2ven",
        "outputId": "1631e208-4c5d-47e1-edb5-7e3ba174e105"
      },
      "source": [
        "df.shape"
      ],
      "execution_count": null,
      "outputs": [
        {
          "output_type": "execute_result",
          "data": {
            "text/plain": [
              "(191393, 24)"
            ]
          },
          "metadata": {
            "tags": []
          },
          "execution_count": 10
        }
      ]
    },
    {
      "cell_type": "code",
      "metadata": {
        "colab": {
          "base_uri": "https://localhost:8080/",
          "height": 488
        },
        "id": "fahmg4ZR3EDC",
        "outputId": "da3ffaba-308e-4e84-fe36-84a01cd6034f"
      },
      "source": [
        "df.tail()"
      ],
      "execution_count": null,
      "outputs": [
        {
          "output_type": "execute_result",
          "data": {
            "text/html": [
              "<div>\n",
              "<style scoped>\n",
              "    .dataframe tbody tr th:only-of-type {\n",
              "        vertical-align: middle;\n",
              "    }\n",
              "\n",
              "    .dataframe tbody tr th {\n",
              "        vertical-align: top;\n",
              "    }\n",
              "\n",
              "    .dataframe thead th {\n",
              "        text-align: right;\n",
              "    }\n",
              "</style>\n",
              "<table border=\"1\" class=\"dataframe\">\n",
              "  <thead>\n",
              "    <tr style=\"text-align: right;\">\n",
              "      <th></th>\n",
              "      <th>property_id</th>\n",
              "      <th>location_id</th>\n",
              "      <th>page_url</th>\n",
              "      <th>property_type</th>\n",
              "      <th>price</th>\n",
              "      <th>price_bin</th>\n",
              "      <th>location</th>\n",
              "      <th>city</th>\n",
              "      <th>province_name</th>\n",
              "      <th>locality</th>\n",
              "      <th>latitude</th>\n",
              "      <th>longitude</th>\n",
              "      <th>baths</th>\n",
              "      <th>area</th>\n",
              "      <th>area_marla</th>\n",
              "      <th>area_sqft</th>\n",
              "      <th>purpose</th>\n",
              "      <th>bedrooms</th>\n",
              "      <th>date_added</th>\n",
              "      <th>year</th>\n",
              "      <th>month</th>\n",
              "      <th>day</th>\n",
              "      <th>agency</th>\n",
              "      <th>agent</th>\n",
              "    </tr>\n",
              "  </thead>\n",
              "  <tbody>\n",
              "    <tr>\n",
              "      <th>191388</th>\n",
              "      <td>17468383</td>\n",
              "      <td>174</td>\n",
              "      <td>https://www.zameen.com/Property/islamabad_i_8_...</td>\n",
              "      <td>Upper Portion</td>\n",
              "      <td>70000</td>\n",
              "      <td>Very High</td>\n",
              "      <td>I-8</td>\n",
              "      <td>Islamabad</td>\n",
              "      <td>Islamabad Capital</td>\n",
              "      <td>I-8, Islamabad, Islamabad Capital</td>\n",
              "      <td>33.668497</td>\n",
              "      <td>73.074160</td>\n",
              "      <td>0</td>\n",
              "      <td>12.4 Marla</td>\n",
              "      <td>12.4</td>\n",
              "      <td>3375.91</td>\n",
              "      <td>For Rent</td>\n",
              "      <td>3</td>\n",
              "      <td>07-24-2019</td>\n",
              "      <td>2019</td>\n",
              "      <td>7</td>\n",
              "      <td>24</td>\n",
              "      <td>Property World</td>\n",
              "      <td>Zafran</td>\n",
              "    </tr>\n",
              "    <tr>\n",
              "      <th>191389</th>\n",
              "      <td>17468384</td>\n",
              "      <td>174</td>\n",
              "      <td>https://www.zameen.com/Property/islamabad_i_8_...</td>\n",
              "      <td>Upper Portion</td>\n",
              "      <td>40000</td>\n",
              "      <td>Medium</td>\n",
              "      <td>I-8</td>\n",
              "      <td>Islamabad</td>\n",
              "      <td>Islamabad Capital</td>\n",
              "      <td>I-8, Islamabad, Islamabad Capital</td>\n",
              "      <td>33.668497</td>\n",
              "      <td>73.074160</td>\n",
              "      <td>0</td>\n",
              "      <td>12.4 Marla</td>\n",
              "      <td>12.4</td>\n",
              "      <td>3375.91</td>\n",
              "      <td>For Rent</td>\n",
              "      <td>2</td>\n",
              "      <td>07-24-2019</td>\n",
              "      <td>2019</td>\n",
              "      <td>7</td>\n",
              "      <td>24</td>\n",
              "      <td>Property World</td>\n",
              "      <td>Zafran</td>\n",
              "    </tr>\n",
              "    <tr>\n",
              "      <th>191390</th>\n",
              "      <td>17468482</td>\n",
              "      <td>167</td>\n",
              "      <td>https://www.zameen.com/Property/islamabad_g_10...</td>\n",
              "      <td>House</td>\n",
              "      <td>160000</td>\n",
              "      <td>High</td>\n",
              "      <td>G-10</td>\n",
              "      <td>Islamabad</td>\n",
              "      <td>Islamabad Capital</td>\n",
              "      <td>G-10, Islamabad, Islamabad Capital</td>\n",
              "      <td>33.676104</td>\n",
              "      <td>73.013842</td>\n",
              "      <td>6</td>\n",
              "      <td>1 Kanal</td>\n",
              "      <td>20.0</td>\n",
              "      <td>5445.02</td>\n",
              "      <td>For Rent</td>\n",
              "      <td>6</td>\n",
              "      <td>07-24-2019</td>\n",
              "      <td>2019</td>\n",
              "      <td>7</td>\n",
              "      <td>24</td>\n",
              "      <td>Azaan Associates</td>\n",
              "      <td>Usman Rehman</td>\n",
              "    </tr>\n",
              "    <tr>\n",
              "      <th>191391</th>\n",
              "      <td>17468586</td>\n",
              "      <td>339</td>\n",
              "      <td>https://www.zameen.com/Property/dha_defence_dh...</td>\n",
              "      <td>Flat</td>\n",
              "      <td>25000</td>\n",
              "      <td>Low</td>\n",
              "      <td>DHA Defence</td>\n",
              "      <td>Islamabad</td>\n",
              "      <td>Islamabad Capital</td>\n",
              "      <td>DHA Defence, Islamabad, Islamabad Capital</td>\n",
              "      <td>33.527944</td>\n",
              "      <td>73.161392</td>\n",
              "      <td>2</td>\n",
              "      <td>2.7 Marla</td>\n",
              "      <td>2.7</td>\n",
              "      <td>735.08</td>\n",
              "      <td>For Rent</td>\n",
              "      <td>2</td>\n",
              "      <td>07-24-2019</td>\n",
              "      <td>2019</td>\n",
              "      <td>7</td>\n",
              "      <td>24</td>\n",
              "      <td>New National Properties</td>\n",
              "      <td>TALHA   MIAN AHMAD</td>\n",
              "    </tr>\n",
              "    <tr>\n",
              "      <th>191392</th>\n",
              "      <td>17468660</td>\n",
              "      <td>3421</td>\n",
              "      <td>https://www.zameen.com/Property/i_10_i_10_2_i_...</td>\n",
              "      <td>Upper Portion</td>\n",
              "      <td>26000</td>\n",
              "      <td>Low</td>\n",
              "      <td>I-10</td>\n",
              "      <td>Islamabad</td>\n",
              "      <td>Islamabad Capital</td>\n",
              "      <td>I-10, Islamabad, Islamabad Capital</td>\n",
              "      <td>33.649779</td>\n",
              "      <td>73.029385</td>\n",
              "      <td>1</td>\n",
              "      <td>0 Marla</td>\n",
              "      <td>0.0</td>\n",
              "      <td>0.00</td>\n",
              "      <td>For Rent</td>\n",
              "      <td>3</td>\n",
              "      <td>07-24-2019</td>\n",
              "      <td>2019</td>\n",
              "      <td>7</td>\n",
              "      <td>24</td>\n",
              "      <td>Select Homes</td>\n",
              "      <td>Qaiser Shahzad, Chaudhary Waseem</td>\n",
              "    </tr>\n",
              "  </tbody>\n",
              "</table>\n",
              "</div>"
            ],
            "text/plain": [
              "        property_id  ...                             agent\n",
              "191388     17468383  ...                            Zafran\n",
              "191389     17468384  ...                            Zafran\n",
              "191390     17468482  ...                      Usman Rehman\n",
              "191391     17468586  ...                TALHA   MIAN AHMAD\n",
              "191392     17468660  ...  Qaiser Shahzad, Chaudhary Waseem\n",
              "\n",
              "[5 rows x 24 columns]"
            ]
          },
          "metadata": {
            "tags": []
          },
          "execution_count": 11
        }
      ]
    },
    {
      "cell_type": "code",
      "metadata": {
        "colab": {
          "base_uri": "https://localhost:8080/"
        },
        "id": "wovDeWY_2yd_",
        "outputId": "fc8a95e4-3fe5-4269-8de5-83d425aef4c7"
      },
      "source": [
        "df.info()"
      ],
      "execution_count": null,
      "outputs": [
        {
          "output_type": "stream",
          "text": [
            "<class 'pandas.core.frame.DataFrame'>\n",
            "RangeIndex: 191393 entries, 0 to 191392\n",
            "Data columns (total 24 columns):\n",
            " #   Column         Non-Null Count   Dtype  \n",
            "---  ------         --------------   -----  \n",
            " 0   property_id    191393 non-null  int64  \n",
            " 1   location_id    191393 non-null  int64  \n",
            " 2   page_url       191393 non-null  object \n",
            " 3   property_type  191393 non-null  object \n",
            " 4   price          191393 non-null  int64  \n",
            " 5   price_bin      191393 non-null  object \n",
            " 6   location       191393 non-null  object \n",
            " 7   city           191393 non-null  object \n",
            " 8   province_name  191393 non-null  object \n",
            " 9   locality       191393 non-null  object \n",
            " 10  latitude       191393 non-null  float64\n",
            " 11  longitude      191393 non-null  float64\n",
            " 12  baths          191393 non-null  int64  \n",
            " 13  area           191393 non-null  object \n",
            " 14  area_marla     191393 non-null  float64\n",
            " 15  area_sqft      191393 non-null  float64\n",
            " 16  purpose        191393 non-null  object \n",
            " 17  bedrooms       191393 non-null  int64  \n",
            " 18  date_added     191393 non-null  object \n",
            " 19  year           191393 non-null  int64  \n",
            " 20  month          191393 non-null  int64  \n",
            " 21  day            191393 non-null  int64  \n",
            " 22  agency         144014 non-null  object \n",
            " 23  agent          144013 non-null  object \n",
            "dtypes: float64(4), int64(8), object(12)\n",
            "memory usage: 35.0+ MB\n"
          ],
          "name": "stdout"
        }
      ]
    },
    {
      "cell_type": "code",
      "metadata": {
        "colab": {
          "base_uri": "https://localhost:8080/",
          "height": 357
        },
        "id": "846k0t0N24wH",
        "outputId": "45f45122-d062-4755-d3e6-ce4f6814144e"
      },
      "source": [
        "df.loc[:3]"
      ],
      "execution_count": null,
      "outputs": [
        {
          "output_type": "execute_result",
          "data": {
            "text/html": [
              "<div>\n",
              "<style scoped>\n",
              "    .dataframe tbody tr th:only-of-type {\n",
              "        vertical-align: middle;\n",
              "    }\n",
              "\n",
              "    .dataframe tbody tr th {\n",
              "        vertical-align: top;\n",
              "    }\n",
              "\n",
              "    .dataframe thead th {\n",
              "        text-align: right;\n",
              "    }\n",
              "</style>\n",
              "<table border=\"1\" class=\"dataframe\">\n",
              "  <thead>\n",
              "    <tr style=\"text-align: right;\">\n",
              "      <th></th>\n",
              "      <th>property_id</th>\n",
              "      <th>location_id</th>\n",
              "      <th>page_url</th>\n",
              "      <th>property_type</th>\n",
              "      <th>price</th>\n",
              "      <th>price_bin</th>\n",
              "      <th>location</th>\n",
              "      <th>city</th>\n",
              "      <th>province_name</th>\n",
              "      <th>locality</th>\n",
              "      <th>latitude</th>\n",
              "      <th>longitude</th>\n",
              "      <th>baths</th>\n",
              "      <th>area</th>\n",
              "      <th>area_marla</th>\n",
              "      <th>area_sqft</th>\n",
              "      <th>purpose</th>\n",
              "      <th>bedrooms</th>\n",
              "      <th>date_added</th>\n",
              "      <th>year</th>\n",
              "      <th>month</th>\n",
              "      <th>day</th>\n",
              "      <th>agency</th>\n",
              "      <th>agent</th>\n",
              "    </tr>\n",
              "  </thead>\n",
              "  <tbody>\n",
              "    <tr>\n",
              "      <th>0</th>\n",
              "      <td>347795</td>\n",
              "      <td>8</td>\n",
              "      <td>https://www.zameen.com/Property/lahore_model_t...</td>\n",
              "      <td>House</td>\n",
              "      <td>220000000</td>\n",
              "      <td>Very High</td>\n",
              "      <td>Model Town</td>\n",
              "      <td>Lahore</td>\n",
              "      <td>Punjab</td>\n",
              "      <td>Model Town, Lahore, Punjab</td>\n",
              "      <td>31.483869</td>\n",
              "      <td>74.325686</td>\n",
              "      <td>0</td>\n",
              "      <td>6 Kanal</td>\n",
              "      <td>120.0</td>\n",
              "      <td>32670.12</td>\n",
              "      <td>For Sale</td>\n",
              "      <td>0</td>\n",
              "      <td>07-17-2019</td>\n",
              "      <td>2019</td>\n",
              "      <td>7</td>\n",
              "      <td>17</td>\n",
              "      <td>Real Biz International</td>\n",
              "      <td>Usama Khan</td>\n",
              "    </tr>\n",
              "    <tr>\n",
              "      <th>1</th>\n",
              "      <td>482892</td>\n",
              "      <td>48</td>\n",
              "      <td>https://www.zameen.com/Property/lahore_multan_...</td>\n",
              "      <td>House</td>\n",
              "      <td>40000000</td>\n",
              "      <td>Very High</td>\n",
              "      <td>Multan Road</td>\n",
              "      <td>Lahore</td>\n",
              "      <td>Punjab</td>\n",
              "      <td>Multan Road, Lahore, Punjab</td>\n",
              "      <td>31.431593</td>\n",
              "      <td>74.179980</td>\n",
              "      <td>5</td>\n",
              "      <td>1 Kanal</td>\n",
              "      <td>20.0</td>\n",
              "      <td>5445.02</td>\n",
              "      <td>For Sale</td>\n",
              "      <td>5</td>\n",
              "      <td>10-06-2018</td>\n",
              "      <td>2018</td>\n",
              "      <td>10</td>\n",
              "      <td>6</td>\n",
              "      <td>Khan Estate</td>\n",
              "      <td>mohsinkhan and B</td>\n",
              "    </tr>\n",
              "    <tr>\n",
              "      <th>2</th>\n",
              "      <td>555962</td>\n",
              "      <td>75</td>\n",
              "      <td>https://www.zameen.com/Property/eden_eden_aven...</td>\n",
              "      <td>House</td>\n",
              "      <td>9500000</td>\n",
              "      <td>Low</td>\n",
              "      <td>Eden</td>\n",
              "      <td>Lahore</td>\n",
              "      <td>Punjab</td>\n",
              "      <td>Eden, Lahore, Punjab</td>\n",
              "      <td>31.499348</td>\n",
              "      <td>74.416959</td>\n",
              "      <td>0</td>\n",
              "      <td>9 Marla</td>\n",
              "      <td>9.0</td>\n",
              "      <td>2450.26</td>\n",
              "      <td>For Sale</td>\n",
              "      <td>3</td>\n",
              "      <td>07-03-2019</td>\n",
              "      <td>2019</td>\n",
              "      <td>7</td>\n",
              "      <td>3</td>\n",
              "      <td>Shahum Estate 2</td>\n",
              "      <td>Babar Hameed, Raja Omar</td>\n",
              "    </tr>\n",
              "    <tr>\n",
              "      <th>3</th>\n",
              "      <td>562843</td>\n",
              "      <td>3821</td>\n",
              "      <td>https://www.zameen.com/Property/gulberg_2_gulb...</td>\n",
              "      <td>House</td>\n",
              "      <td>125000000</td>\n",
              "      <td>Very High</td>\n",
              "      <td>Gulberg</td>\n",
              "      <td>Lahore</td>\n",
              "      <td>Punjab</td>\n",
              "      <td>Gulberg, Lahore, Punjab</td>\n",
              "      <td>31.522069</td>\n",
              "      <td>74.355512</td>\n",
              "      <td>7</td>\n",
              "      <td>1 Kanal</td>\n",
              "      <td>20.0</td>\n",
              "      <td>5445.02</td>\n",
              "      <td>For Sale</td>\n",
              "      <td>8</td>\n",
              "      <td>04-04-2019</td>\n",
              "      <td>2019</td>\n",
              "      <td>4</td>\n",
              "      <td>4</td>\n",
              "      <td>NaN</td>\n",
              "      <td>NaN</td>\n",
              "    </tr>\n",
              "  </tbody>\n",
              "</table>\n",
              "</div>"
            ],
            "text/plain": [
              "   property_id  location_id  ...                  agency                    agent\n",
              "0       347795            8  ...  Real Biz International               Usama Khan\n",
              "1       482892           48  ...             Khan Estate         mohsinkhan and B\n",
              "2       555962           75  ...         Shahum Estate 2  Babar Hameed, Raja Omar\n",
              "3       562843         3821  ...                     NaN                      NaN\n",
              "\n",
              "[4 rows x 24 columns]"
            ]
          },
          "metadata": {
            "tags": []
          },
          "execution_count": 13
        }
      ]
    },
    {
      "cell_type": "code",
      "metadata": {
        "colab": {
          "base_uri": "https://localhost:8080/"
        },
        "id": "9iT_qONq3Pbq",
        "outputId": "7e2801cd-a600-4553-a5cc-7e80dceefddc"
      },
      "source": [
        "df.isnull().sum()"
      ],
      "execution_count": null,
      "outputs": [
        {
          "output_type": "execute_result",
          "data": {
            "text/plain": [
              "property_id          0\n",
              "location_id          0\n",
              "page_url             0\n",
              "property_type        0\n",
              "price                0\n",
              "price_bin            0\n",
              "location             0\n",
              "city                 0\n",
              "province_name        0\n",
              "locality             0\n",
              "latitude             0\n",
              "longitude            0\n",
              "baths                0\n",
              "area                 0\n",
              "area_marla           0\n",
              "area_sqft            0\n",
              "purpose              0\n",
              "bedrooms             0\n",
              "date_added           0\n",
              "year                 0\n",
              "month                0\n",
              "day                  0\n",
              "agency           47379\n",
              "agent            47380\n",
              "dtype: int64"
            ]
          },
          "metadata": {
            "tags": []
          },
          "execution_count": 14
        }
      ]
    },
    {
      "cell_type": "code",
      "metadata": {
        "id": "CDU7Tp5E5QWZ"
      },
      "source": [
        "#df=df.drop_duplicates()"
      ],
      "execution_count": null,
      "outputs": []
    },
    {
      "cell_type": "code",
      "metadata": {
        "id": "0ZtI0MDN5mMK"
      },
      "source": [
        "#df.shape"
      ],
      "execution_count": null,
      "outputs": []
    },
    {
      "cell_type": "code",
      "metadata": {
        "id": "y1e5WmMG5qxJ"
      },
      "source": [
        "df=df.drop(['property_id', 'location_id', 'page_url', 'area', 'area_marla', 'locality', 'agency', 'agent'],axis=1)"
      ],
      "execution_count": null,
      "outputs": []
    },
    {
      "cell_type": "code",
      "metadata": {
        "colab": {
          "base_uri": "https://localhost:8080/"
        },
        "id": "weLmY7b26Fw9",
        "outputId": "62029064-8a9d-4851-b60a-06d41efa2258"
      },
      "source": [
        "df.columns"
      ],
      "execution_count": null,
      "outputs": [
        {
          "output_type": "execute_result",
          "data": {
            "text/plain": [
              "Index(['property_type', 'price', 'price_bin', 'location', 'city',\n",
              "       'province_name', 'latitude', 'longitude', 'baths', 'area_sqft',\n",
              "       'purpose', 'bedrooms', 'date_added', 'year', 'month', 'day'],\n",
              "      dtype='object')"
            ]
          },
          "metadata": {
            "tags": []
          },
          "execution_count": 18
        }
      ]
    },
    {
      "cell_type": "code",
      "metadata": {
        "id": "w-Xmx-LamPIw"
      },
      "source": [
        "index = df[df.purpose =='For Rent'].index\n",
        "df = df.drop(index)"
      ],
      "execution_count": null,
      "outputs": []
    },
    {
      "cell_type": "code",
      "metadata": {
        "id": "VgfUHcvNcrfx"
      },
      "source": [
        "df= df.drop(['purpose','price_bin','province_name','date_added'],axis=1)"
      ],
      "execution_count": null,
      "outputs": []
    },
    {
      "cell_type": "code",
      "metadata": {
        "id": "umwg8vBfI8_B"
      },
      "source": [
        "#df=df.rename(columns={'Area Size':'Area_size','Area Type':'Area_type','Area Category':'Area_category'})"
      ],
      "execution_count": null,
      "outputs": []
    },
    {
      "cell_type": "markdown",
      "metadata": {
        "id": "lkwaKvydjLC-"
      },
      "source": [
        "# Data Cleaning\n",
        "Check for na values\n",
        "\n",
        "\n",
        "\n",
        "\n",
        "Verify unique values of each column\n"
      ]
    },
    {
      "cell_type": "code",
      "metadata": {
        "colab": {
          "base_uri": "https://localhost:8080/"
        },
        "id": "vJQxbVaFmHV7",
        "outputId": "8f102563-bc64-4c8b-bb3e-c0fe3034ca7a"
      },
      "source": [
        "df.shape"
      ],
      "execution_count": null,
      "outputs": [
        {
          "output_type": "execute_result",
          "data": {
            "text/plain": [
              "(127018, 12)"
            ]
          },
          "metadata": {
            "tags": []
          },
          "execution_count": 22
        }
      ]
    },
    {
      "cell_type": "markdown",
      "metadata": {
        "id": "JVdLIMvljcrv"
      },
      "source": [
        "### Handling null values"
      ]
    },
    {
      "cell_type": "code",
      "metadata": {
        "colab": {
          "base_uri": "https://localhost:8080/"
        },
        "id": "NIv_fdLg6HgH",
        "outputId": "2d5d4abf-0cab-4950-d021-af58aefdb79d"
      },
      "source": [
        "df.isnull().sum().sort_values(ascending=False)"
      ],
      "execution_count": null,
      "outputs": [
        {
          "output_type": "execute_result",
          "data": {
            "text/plain": [
              "day              0\n",
              "month            0\n",
              "year             0\n",
              "bedrooms         0\n",
              "area_sqft        0\n",
              "baths            0\n",
              "longitude        0\n",
              "latitude         0\n",
              "city             0\n",
              "location         0\n",
              "price            0\n",
              "property_type    0\n",
              "dtype: int64"
            ]
          },
          "metadata": {
            "tags": []
          },
          "execution_count": 23
        }
      ]
    },
    {
      "cell_type": "code",
      "metadata": {
        "colab": {
          "base_uri": "https://localhost:8080/",
          "height": 48
        },
        "id": "UVufCgFp6pEE",
        "outputId": "5acbbc43-51c2-42f7-f816-ec88d923cc5e"
      },
      "source": [
        "df[df.isnull().any(axis=1)].head()"
      ],
      "execution_count": null,
      "outputs": [
        {
          "output_type": "execute_result",
          "data": {
            "text/html": [
              "<div>\n",
              "<style scoped>\n",
              "    .dataframe tbody tr th:only-of-type {\n",
              "        vertical-align: middle;\n",
              "    }\n",
              "\n",
              "    .dataframe tbody tr th {\n",
              "        vertical-align: top;\n",
              "    }\n",
              "\n",
              "    .dataframe thead th {\n",
              "        text-align: right;\n",
              "    }\n",
              "</style>\n",
              "<table border=\"1\" class=\"dataframe\">\n",
              "  <thead>\n",
              "    <tr style=\"text-align: right;\">\n",
              "      <th></th>\n",
              "      <th>property_type</th>\n",
              "      <th>price</th>\n",
              "      <th>location</th>\n",
              "      <th>city</th>\n",
              "      <th>latitude</th>\n",
              "      <th>longitude</th>\n",
              "      <th>baths</th>\n",
              "      <th>area_sqft</th>\n",
              "      <th>bedrooms</th>\n",
              "      <th>year</th>\n",
              "      <th>month</th>\n",
              "      <th>day</th>\n",
              "    </tr>\n",
              "  </thead>\n",
              "  <tbody>\n",
              "  </tbody>\n",
              "</table>\n",
              "</div>"
            ],
            "text/plain": [
              "Empty DataFrame\n",
              "Columns: [property_type, price, location, city, latitude, longitude, baths, area_sqft, bedrooms, year, month, day]\n",
              "Index: []"
            ]
          },
          "metadata": {
            "tags": []
          },
          "execution_count": 24
        }
      ]
    },
    {
      "cell_type": "code",
      "metadata": {
        "id": "3kDaYpt17k0a"
      },
      "source": [
        "#remove null values with rows\n",
        "df=df.dropna()"
      ],
      "execution_count": null,
      "outputs": []
    },
    {
      "cell_type": "code",
      "metadata": {
        "colab": {
          "base_uri": "https://localhost:8080/",
          "height": 294
        },
        "id": "FmN5ndMB7xEC",
        "outputId": "b5b8a99e-d1b5-4576-99e7-de743b83023f"
      },
      "source": [
        "#Statistical Summary\n",
        "df.describe()"
      ],
      "execution_count": null,
      "outputs": [
        {
          "output_type": "execute_result",
          "data": {
            "text/html": [
              "<div>\n",
              "<style scoped>\n",
              "    .dataframe tbody tr th:only-of-type {\n",
              "        vertical-align: middle;\n",
              "    }\n",
              "\n",
              "    .dataframe tbody tr th {\n",
              "        vertical-align: top;\n",
              "    }\n",
              "\n",
              "    .dataframe thead th {\n",
              "        text-align: right;\n",
              "    }\n",
              "</style>\n",
              "<table border=\"1\" class=\"dataframe\">\n",
              "  <thead>\n",
              "    <tr style=\"text-align: right;\">\n",
              "      <th></th>\n",
              "      <th>price</th>\n",
              "      <th>latitude</th>\n",
              "      <th>longitude</th>\n",
              "      <th>baths</th>\n",
              "      <th>area_sqft</th>\n",
              "      <th>bedrooms</th>\n",
              "      <th>year</th>\n",
              "      <th>month</th>\n",
              "      <th>day</th>\n",
              "    </tr>\n",
              "  </thead>\n",
              "  <tbody>\n",
              "    <tr>\n",
              "      <th>count</th>\n",
              "      <td>1.270180e+05</td>\n",
              "      <td>127018.000000</td>\n",
              "      <td>127018.000000</td>\n",
              "      <td>127018.000000</td>\n",
              "      <td>1.270180e+05</td>\n",
              "      <td>127018.000000</td>\n",
              "      <td>127018.000000</td>\n",
              "      <td>127018.000000</td>\n",
              "      <td>127018.000000</td>\n",
              "    </tr>\n",
              "    <tr>\n",
              "      <th>mean</th>\n",
              "      <td>2.473577e+07</td>\n",
              "      <td>29.567028</td>\n",
              "      <td>71.331775</td>\n",
              "      <td>3.070352</td>\n",
              "      <td>3.886879e+03</td>\n",
              "      <td>3.397668</td>\n",
              "      <td>2018.927514</td>\n",
              "      <td>6.262727</td>\n",
              "      <td>12.435938</td>\n",
              "    </tr>\n",
              "    <tr>\n",
              "      <th>std</th>\n",
              "      <td>3.942639e+07</td>\n",
              "      <td>3.638730</td>\n",
              "      <td>3.251408</td>\n",
              "      <td>2.559118</td>\n",
              "      <td>1.440484e+05</td>\n",
              "      <td>1.934565</td>\n",
              "      <td>0.259292</td>\n",
              "      <td>1.772578</td>\n",
              "      <td>8.652376</td>\n",
              "    </tr>\n",
              "    <tr>\n",
              "      <th>min</th>\n",
              "      <td>0.000000e+00</td>\n",
              "      <td>24.749425</td>\n",
              "      <td>31.389173</td>\n",
              "      <td>0.000000</td>\n",
              "      <td>0.000000e+00</td>\n",
              "      <td>0.000000</td>\n",
              "      <td>2018.000000</td>\n",
              "      <td>1.000000</td>\n",
              "      <td>1.000000</td>\n",
              "    </tr>\n",
              "    <tr>\n",
              "      <th>25%</th>\n",
              "      <td>7.500000e+06</td>\n",
              "      <td>24.954818</td>\n",
              "      <td>67.130384</td>\n",
              "      <td>1.000000</td>\n",
              "      <td>1.306800e+03</td>\n",
              "      <td>2.000000</td>\n",
              "      <td>2019.000000</td>\n",
              "      <td>6.000000</td>\n",
              "      <td>4.000000</td>\n",
              "    </tr>\n",
              "    <tr>\n",
              "      <th>50%</th>\n",
              "      <td>1.350000e+07</td>\n",
              "      <td>31.434742</td>\n",
              "      <td>73.083930</td>\n",
              "      <td>3.000000</td>\n",
              "      <td>1.769630e+03</td>\n",
              "      <td>3.000000</td>\n",
              "      <td>2019.000000</td>\n",
              "      <td>6.000000</td>\n",
              "      <td>11.000000</td>\n",
              "    </tr>\n",
              "    <tr>\n",
              "      <th>75%</th>\n",
              "      <td>2.600000e+07</td>\n",
              "      <td>31.588187</td>\n",
              "      <td>74.262550</td>\n",
              "      <td>5.000000</td>\n",
              "      <td>2.722510e+03</td>\n",
              "      <td>5.000000</td>\n",
              "      <td>2019.000000</td>\n",
              "      <td>7.000000</td>\n",
              "      <td>19.000000</td>\n",
              "    </tr>\n",
              "    <tr>\n",
              "      <th>max</th>\n",
              "      <td>2.000000e+09</td>\n",
              "      <td>73.184088</td>\n",
              "      <td>74.564727</td>\n",
              "      <td>403.000000</td>\n",
              "      <td>3.388000e+07</td>\n",
              "      <td>27.000000</td>\n",
              "      <td>2019.000000</td>\n",
              "      <td>12.000000</td>\n",
              "      <td>30.000000</td>\n",
              "    </tr>\n",
              "  </tbody>\n",
              "</table>\n",
              "</div>"
            ],
            "text/plain": [
              "              price       latitude  ...          month            day\n",
              "count  1.270180e+05  127018.000000  ...  127018.000000  127018.000000\n",
              "mean   2.473577e+07      29.567028  ...       6.262727      12.435938\n",
              "std    3.942639e+07       3.638730  ...       1.772578       8.652376\n",
              "min    0.000000e+00      24.749425  ...       1.000000       1.000000\n",
              "25%    7.500000e+06      24.954818  ...       6.000000       4.000000\n",
              "50%    1.350000e+07      31.434742  ...       6.000000      11.000000\n",
              "75%    2.600000e+07      31.588187  ...       7.000000      19.000000\n",
              "max    2.000000e+09      73.184088  ...      12.000000      30.000000\n",
              "\n",
              "[8 rows x 9 columns]"
            ]
          },
          "metadata": {
            "tags": []
          },
          "execution_count": 26
        }
      ]
    },
    {
      "cell_type": "code",
      "metadata": {
        "colab": {
          "base_uri": "https://localhost:8080/"
        },
        "id": "D3EN99JW76Gx",
        "outputId": "09de0515-f36c-487e-cccb-3372d2af00c6"
      },
      "source": [
        "df.nunique()"
      ],
      "execution_count": null,
      "outputs": [
        {
          "output_type": "execute_result",
          "data": {
            "text/plain": [
              "property_type       7\n",
              "price            1698\n",
              "location         1460\n",
              "city                5\n",
              "latitude         7047\n",
              "longitude        7504\n",
              "baths              16\n",
              "area_sqft         332\n",
              "bedrooms           20\n",
              "year                2\n",
              "month              12\n",
              "day                30\n",
              "dtype: int64"
            ]
          },
          "metadata": {
            "tags": []
          },
          "execution_count": 27
        }
      ]
    },
    {
      "cell_type": "code",
      "metadata": {
        "colab": {
          "base_uri": "https://localhost:8080/"
        },
        "id": "kZqWdJdNkE9-",
        "outputId": "cca8cd00-d3b5-4d51-b408-e68b90eb72b8"
      },
      "source": [
        "df.price.value_counts().tail(20)"
      ],
      "execution_count": null,
      "outputs": [
        {
          "output_type": "execute_result",
          "data": {
            "text/plain": [
              "4988000      1\n",
              "37100000     1\n",
              "182000000    1\n",
              "3791000      1\n",
              "1235000      1\n",
              "5576000      1\n",
              "775000       1\n",
              "9065000      1\n",
              "660000       1\n",
              "545000       1\n",
              "4690000      1\n",
              "4575000      1\n",
              "9146000      1\n",
              "8720000      1\n",
              "23400000     1\n",
              "6590000      1\n",
              "1904000      1\n",
              "6475000      1\n",
              "7212000      1\n",
              "558000       1\n",
              "Name: price, dtype: int64"
            ]
          },
          "metadata": {
            "tags": []
          },
          "execution_count": 28
        }
      ]
    },
    {
      "cell_type": "code",
      "metadata": {
        "colab": {
          "base_uri": "https://localhost:8080/"
        },
        "id": "9svlfjdIkEyS",
        "outputId": "90563d2f-f5cf-431e-d919-4bea3c09869c"
      },
      "source": [
        "df.location.value_counts()"
      ],
      "execution_count": null,
      "outputs": [
        {
          "output_type": "execute_result",
          "data": {
            "text/plain": [
              "DHA Defence               16558\n",
              "Bahria Town Karachi        7682\n",
              "Bahria Town                6478\n",
              "Gulistan-e-Jauhar          4735\n",
              "Bahria Town Rawalpindi     4300\n",
              "                          ...  \n",
              "Club Road                     1\n",
              "Sir Syed Road                 1\n",
              "Kiran Villas                  1\n",
              "Chungi No. 22 Road            1\n",
              "Chak 8 JB Punj Garain         1\n",
              "Name: location, Length: 1460, dtype: int64"
            ]
          },
          "metadata": {
            "tags": []
          },
          "execution_count": 29
        }
      ]
    },
    {
      "cell_type": "code",
      "metadata": {
        "colab": {
          "base_uri": "https://localhost:8080/"
        },
        "id": "SEkJSB6rkEnj",
        "outputId": "bc61f051-4134-49b8-8cc3-0f4afbcba43f"
      },
      "source": [
        "\n",
        "\n",
        "df.shape"
      ],
      "execution_count": null,
      "outputs": [
        {
          "output_type": "execute_result",
          "data": {
            "text/plain": [
              "(127018, 12)"
            ]
          },
          "metadata": {
            "tags": []
          },
          "execution_count": 30
        }
      ]
    },
    {
      "cell_type": "code",
      "metadata": {
        "colab": {
          "base_uri": "https://localhost:8080/",
          "height": 622
        },
        "id": "Mm5px1Ju8zKY",
        "outputId": "925fb91a-a0b6-4aff-97d6-2c04c869494c"
      },
      "source": [
        "figure = (14,10)\n",
        "fig, dim = plt.subplots(figsize=figure)\n",
        "b=sns.heatmap(df.corr(),cmap=\"YlGnBu\")\n",
        "b.axes.set_title('correlation',fontsize=24)\n",
        "b.set_xlabel('',fontsize=14)\n",
        "b.set_ylabel('',fontsize=14)\n",
        "b.tick_params(labelsize=12)"
      ],
      "execution_count": null,
      "outputs": [
        {
          "output_type": "display_data",
          "data": {
            "image/png": "[encoded data removed]",
            "text/plain": [
              "<Figure size 1008x720 with 2 Axes>"
            ]
          },
          "metadata": {
            "tags": []
          }
        }
      ]
    },
    {
      "cell_type": "code",
      "metadata": {
        "colab": {
          "base_uri": "https://localhost:8080/",
          "height": 513
        },
        "id": "Vz-fuSdO9NYg",
        "outputId": "576db333-6c95-46fd-990a-ffa2ff2f1e76"
      },
      "source": [
        "figure = (12,8)\n",
        "fig , ax = plt.subplots(figsize=figure)\n",
        "b= sns.boxplot(x=df.bedrooms,y=df.price)"
      ],
      "execution_count": null,
      "outputs": [
        {
          "output_type": "display_data",
          "data": {
            "image/png": "[encoded data removed]",
            "text/plain": [
              "<Figure size 864x576 with 1 Axes>"
            ]
          },
          "metadata": {
            "tags": []
          }
        }
      ]
    },
    {
      "cell_type": "code",
      "metadata": {
        "colab": {
          "base_uri": "https://localhost:8080/",
          "height": 513
        },
        "id": "p9n8-4znH8F5",
        "outputId": "6a40d889-de21-4265-cfc1-57c6c00b5827"
      },
      "source": [
        "figure = (12,8)\n",
        "fig , ax = plt.subplots(figsize=figure)\n",
        "b= sns.boxplot(x=df.baths,y=df.price)"
      ],
      "execution_count": null,
      "outputs": [
        {
          "output_type": "display_data",
          "data": {
            "image/png": "[encoded data removed]",
            "text/plain": [
              "<Figure size 864x576 with 1 Axes>"
            ]
          },
          "metadata": {
            "tags": []
          }
        }
      ]
    },
    {
      "cell_type": "code",
      "metadata": {
        "colab": {
          "base_uri": "https://localhost:8080/",
          "height": 513
        },
        "id": "MNEr3pCvISCN",
        "outputId": "6173e8e9-bcd9-4ff6-96c8-83297bf9908c"
      },
      "source": [
        "figure = (12,8)\n",
        "fig , ax = plt.subplots(figsize=figure)\n",
        "b= sns.boxplot(x=df.area_sqft,y=df.price)"
      ],
      "execution_count": null,
      "outputs": [
        {
          "output_type": "display_data",
          "data": {
            "image/png": "[encoded data removed]",
            "text/plain": [
              "<Figure size 864x576 with 1 Axes>"
            ]
          },
          "metadata": {
            "tags": []
          }
        }
      ]
    },
    {
      "cell_type": "code",
      "metadata": {
        "colab": {
          "base_uri": "https://localhost:8080/",
          "height": 513
        },
        "id": "6d97xRZrqRcg",
        "outputId": "14cd75e0-97c9-4631-820b-9401fa96e77c"
      },
      "source": [
        "figure = (12,8)\n",
        "fig , ax = plt.subplots(figsize=figure)\n",
        "b= sns.boxplot(x=df.location,y=df.price)"
      ],
      "execution_count": null,
      "outputs": [
        {
          "output_type": "display_data",
          "data": {
            "image/png": "[encoded data removed]",
            "text/plain": [
              "<Figure size 864x576 with 1 Axes>"
            ]
          },
          "metadata": {
            "tags": []
          }
        }
      ]
    },
    {
      "cell_type": "code",
      "metadata": {
        "colab": {
          "base_uri": "https://localhost:8080/",
          "height": 513
        },
        "id": "1toND0MRJvFh",
        "outputId": "b0da3a26-7bd9-404a-8cdd-01dc20cc653b"
      },
      "source": [
        "figure= (12,8)\n",
        "fig, ax = plt.subplots(figsize=figure)\n",
        "b = sns.scatterplot(x= df.location,y=df.price)"
      ],
      "execution_count": null,
      "outputs": [
        {
          "output_type": "display_data",
          "data": {
            "image/png": "[encoded data removed]",
            "text/plain": [
              "<Figure size 864x576 with 1 Axes>"
            ]
          },
          "metadata": {
            "tags": []
          }
        }
      ]
    },
    {
      "cell_type": "code",
      "metadata": {
        "colab": {
          "base_uri": "https://localhost:8080/",
          "height": 502
        },
        "id": "3YzAA1HFEy4O",
        "outputId": "cc8cea03-7bff-43d4-d7a7-e0856e9ac8b7"
      },
      "source": [
        "figure = (12,8)\n",
        "fig , ax = plt.subplots(figsize=figure)\n",
        "b= sns.countplot(x=df.bedrooms)"
      ],
      "execution_count": null,
      "outputs": [
        {
          "output_type": "display_data",
          "data": {
            "image/png": "[encoded data removed]",
            "text/plain": [
              "<Figure size 864x576 with 1 Axes>"
            ]
          },
          "metadata": {
            "tags": []
          }
        }
      ]
    },
    {
      "cell_type": "code",
      "metadata": {
        "colab": {
          "base_uri": "https://localhost:8080/",
          "height": 502
        },
        "id": "sXIbIIOLF7HH",
        "outputId": "9ab687ff-79e7-437d-eb4d-1993560dcd5c"
      },
      "source": [
        "figure = (12,8)\n",
        "fig , ax = plt.subplots(figsize=figure)\n",
        "b= sns.countplot(x=df.baths)"
      ],
      "execution_count": null,
      "outputs": [
        {
          "output_type": "display_data",
          "data": {
            "image/png": "[encoded data removed]",
            "text/plain": [
              "<Figure size 864x576 with 1 Axes>"
            ]
          },
          "metadata": {
            "tags": []
          }
        }
      ]
    },
    {
      "cell_type": "code",
      "metadata": {
        "colab": {
          "base_uri": "https://localhost:8080/",
          "height": 476
        },
        "id": "w_xiRnPwIoXc",
        "outputId": "2ff78469-b0bd-447e-8ccc-7483d65e237c"
      },
      "source": [
        "figure = (12,8)\n",
        "fig , ax = plt.subplots(figsize=figure)\n",
        "b= sns.boxplot(y=df.price)"
      ],
      "execution_count": null,
      "outputs": [
        {
          "output_type": "display_data",
          "data": {
            "image/png": "[encoded data removed]",
            "text/plain": [
              "<Figure size 864x576 with 1 Axes>"
            ]
          },
          "metadata": {
            "tags": []
          }
        }
      ]
    },
    {
      "cell_type": "markdown",
      "metadata": {
        "id": "ZNRZ7IH7uUBL"
      },
      "source": [
        "# Removing outliers"
      ]
    },
    {
      "cell_type": "markdown",
      "metadata": {
        "id": "7Ib6Cz2tvHR5"
      },
      "source": [
        "Here interquartile technique has been applied to remove outliers, z-score, standard deviation, percentile, DBScan algorithms and many techniques could be used here."
      ]
    },
    {
      "cell_type": "code",
      "metadata": {
        "id": "7RR6RrVHNzSp"
      },
      "source": [
        "#finding a IQR\n",
        "Q1 = df.price.quantile(0.25)\n",
        "Q3 = df.price.quantile(0.75)"
      ],
      "execution_count": null,
      "outputs": []
    },
    {
      "cell_type": "code",
      "metadata": {
        "id": "NMA9zaZbvSxa"
      },
      "source": [
        "IQR = Q3-Q1"
      ],
      "execution_count": null,
      "outputs": []
    },
    {
      "cell_type": "markdown",
      "metadata": {
        "id": "z6eRhJJtveWR"
      },
      "source": [
        "Finding upper and lower boundry\n"
      ]
    },
    {
      "cell_type": "code",
      "metadata": {
        "id": "ml9ihspwvY7e"
      },
      "source": [
        "lower_b =Q1-1.5*IQR\n",
        "upper_b =Q3+1.5*IQR"
      ],
      "execution_count": null,
      "outputs": []
    },
    {
      "cell_type": "markdown",
      "metadata": {
        "id": "Fo0s5f3VwJYk"
      },
      "source": [
        "Finding Outliers"
      ]
    },
    {
      "cell_type": "code",
      "metadata": {
        "colab": {
          "base_uri": "https://localhost:8080/",
          "height": 414
        },
        "id": "J0bo_f7lwEM7",
        "outputId": "4dd13ac7-c2ef-4980-aa4d-539a4d6d9100"
      },
      "source": [
        "#to display the outliers\n",
        "df[(df.price<lower_b) | (df.price>upper_b)]"
      ],
      "execution_count": null,
      "outputs": [
        {
          "output_type": "execute_result",
          "data": {
            "text/html": [
              "<div>\n",
              "<style scoped>\n",
              "    .dataframe tbody tr th:only-of-type {\n",
              "        vertical-align: middle;\n",
              "    }\n",
              "\n",
              "    .dataframe tbody tr th {\n",
              "        vertical-align: top;\n",
              "    }\n",
              "\n",
              "    .dataframe thead th {\n",
              "        text-align: right;\n",
              "    }\n",
              "</style>\n",
              "<table border=\"1\" class=\"dataframe\">\n",
              "  <thead>\n",
              "    <tr style=\"text-align: right;\">\n",
              "      <th></th>\n",
              "      <th>property_type</th>\n",
              "      <th>price</th>\n",
              "      <th>location</th>\n",
              "      <th>city</th>\n",
              "      <th>latitude</th>\n",
              "      <th>longitude</th>\n",
              "      <th>baths</th>\n",
              "      <th>area_sqft</th>\n",
              "      <th>bedrooms</th>\n",
              "      <th>year</th>\n",
              "      <th>month</th>\n",
              "      <th>day</th>\n",
              "    </tr>\n",
              "  </thead>\n",
              "  <tbody>\n",
              "    <tr>\n",
              "      <th>0</th>\n",
              "      <td>House</td>\n",
              "      <td>220000000</td>\n",
              "      <td>Model Town</td>\n",
              "      <td>Lahore</td>\n",
              "      <td>31.483869</td>\n",
              "      <td>74.325686</td>\n",
              "      <td>0</td>\n",
              "      <td>32670.12</td>\n",
              "      <td>0</td>\n",
              "      <td>2019</td>\n",
              "      <td>7</td>\n",
              "      <td>17</td>\n",
              "    </tr>\n",
              "    <tr>\n",
              "      <th>3</th>\n",
              "      <td>House</td>\n",
              "      <td>125000000</td>\n",
              "      <td>Gulberg</td>\n",
              "      <td>Lahore</td>\n",
              "      <td>31.522069</td>\n",
              "      <td>74.355512</td>\n",
              "      <td>7</td>\n",
              "      <td>5445.02</td>\n",
              "      <td>8</td>\n",
              "      <td>2019</td>\n",
              "      <td>4</td>\n",
              "      <td>4</td>\n",
              "    </tr>\n",
              "    <tr>\n",
              "      <th>11</th>\n",
              "      <td>House</td>\n",
              "      <td>87500000</td>\n",
              "      <td>Upper Mall</td>\n",
              "      <td>Lahore</td>\n",
              "      <td>31.542114</td>\n",
              "      <td>74.355898</td>\n",
              "      <td>5</td>\n",
              "      <td>6534.02</td>\n",
              "      <td>4</td>\n",
              "      <td>2019</td>\n",
              "      <td>6</td>\n",
              "      <td>30</td>\n",
              "    </tr>\n",
              "    <tr>\n",
              "      <th>33</th>\n",
              "      <td>House</td>\n",
              "      <td>57500000</td>\n",
              "      <td>EME Society</td>\n",
              "      <td>Lahore</td>\n",
              "      <td>31.439978</td>\n",
              "      <td>74.209685</td>\n",
              "      <td>5</td>\n",
              "      <td>5445.02</td>\n",
              "      <td>5</td>\n",
              "      <td>2019</td>\n",
              "      <td>4</td>\n",
              "      <td>3</td>\n",
              "    </tr>\n",
              "    <tr>\n",
              "      <th>34</th>\n",
              "      <td>House</td>\n",
              "      <td>620000000</td>\n",
              "      <td>GOR</td>\n",
              "      <td>Lahore</td>\n",
              "      <td>31.543431</td>\n",
              "      <td>74.344225</td>\n",
              "      <td>8</td>\n",
              "      <td>35392.63</td>\n",
              "      <td>8</td>\n",
              "      <td>2019</td>\n",
              "      <td>5</td>\n",
              "      <td>3</td>\n",
              "    </tr>\n",
              "    <tr>\n",
              "      <th>...</th>\n",
              "      <td>...</td>\n",
              "      <td>...</td>\n",
              "      <td>...</td>\n",
              "      <td>...</td>\n",
              "      <td>...</td>\n",
              "      <td>...</td>\n",
              "      <td>...</td>\n",
              "      <td>...</td>\n",
              "      <td>...</td>\n",
              "      <td>...</td>\n",
              "      <td>...</td>\n",
              "      <td>...</td>\n",
              "    </tr>\n",
              "    <tr>\n",
              "      <th>190299</th>\n",
              "      <td>House</td>\n",
              "      <td>60000000</td>\n",
              "      <td>G-13</td>\n",
              "      <td>Islamabad</td>\n",
              "      <td>33.650458</td>\n",
              "      <td>72.956636</td>\n",
              "      <td>6</td>\n",
              "      <td>5445.02</td>\n",
              "      <td>6</td>\n",
              "      <td>2019</td>\n",
              "      <td>7</td>\n",
              "      <td>24</td>\n",
              "    </tr>\n",
              "    <tr>\n",
              "      <th>190301</th>\n",
              "      <td>House</td>\n",
              "      <td>55000000</td>\n",
              "      <td>Canal Road</td>\n",
              "      <td>Faisalabad</td>\n",
              "      <td>31.449026</td>\n",
              "      <td>73.168873</td>\n",
              "      <td>0</td>\n",
              "      <td>4356.02</td>\n",
              "      <td>0</td>\n",
              "      <td>2019</td>\n",
              "      <td>7</td>\n",
              "      <td>23</td>\n",
              "    </tr>\n",
              "    <tr>\n",
              "      <th>190911</th>\n",
              "      <td>House</td>\n",
              "      <td>70000000</td>\n",
              "      <td>DHA Defence</td>\n",
              "      <td>Lahore</td>\n",
              "      <td>31.460224</td>\n",
              "      <td>74.417911</td>\n",
              "      <td>7</td>\n",
              "      <td>5445.02</td>\n",
              "      <td>6</td>\n",
              "      <td>2019</td>\n",
              "      <td>8</td>\n",
              "      <td>6</td>\n",
              "    </tr>\n",
              "    <tr>\n",
              "      <th>190913</th>\n",
              "      <td>Farm House</td>\n",
              "      <td>64500000</td>\n",
              "      <td>Bedian Road</td>\n",
              "      <td>Lahore</td>\n",
              "      <td>31.473474</td>\n",
              "      <td>74.429569</td>\n",
              "      <td>6</td>\n",
              "      <td>21780.08</td>\n",
              "      <td>5</td>\n",
              "      <td>2019</td>\n",
              "      <td>8</td>\n",
              "      <td>6</td>\n",
              "    </tr>\n",
              "    <tr>\n",
              "      <th>190928</th>\n",
              "      <td>House</td>\n",
              "      <td>150000000</td>\n",
              "      <td>Gulberg</td>\n",
              "      <td>Lahore</td>\n",
              "      <td>31.522361</td>\n",
              "      <td>74.347172</td>\n",
              "      <td>4</td>\n",
              "      <td>10890.04</td>\n",
              "      <td>4</td>\n",
              "      <td>2019</td>\n",
              "      <td>8</td>\n",
              "      <td>6</td>\n",
              "    </tr>\n",
              "  </tbody>\n",
              "</table>\n",
              "<p>12106 rows × 12 columns</p>\n",
              "</div>"
            ],
            "text/plain": [
              "       property_type      price     location  ...  year  month  day\n",
              "0              House  220000000   Model Town  ...  2019      7   17\n",
              "3              House  125000000      Gulberg  ...  2019      4    4\n",
              "11             House   87500000   Upper Mall  ...  2019      6   30\n",
              "33             House   57500000  EME Society  ...  2019      4    3\n",
              "34             House  620000000          GOR  ...  2019      5    3\n",
              "...              ...        ...          ...  ...   ...    ...  ...\n",
              "190299         House   60000000         G-13  ...  2019      7   24\n",
              "190301         House   55000000   Canal Road  ...  2019      7   23\n",
              "190911         House   70000000  DHA Defence  ...  2019      8    6\n",
              "190913    Farm House   64500000  Bedian Road  ...  2019      8    6\n",
              "190928         House  150000000      Gulberg  ...  2019      8    6\n",
              "\n",
              "[12106 rows x 12 columns]"
            ]
          },
          "metadata": {
            "tags": []
          },
          "execution_count": 38
        }
      ]
    },
    {
      "cell_type": "markdown",
      "metadata": {
        "id": "wtwTh3hSxSkJ"
      },
      "source": [
        "Trimming outliers"
      ]
    },
    {
      "cell_type": "code",
      "metadata": {
        "id": "SYYkIZURwdW0"
      },
      "source": [
        "dfx= df[(df['price']>lower_b) & (df['price']<upper_b)]  \n",
        "#df3= df[df.price<upper_b]"
      ],
      "execution_count": null,
      "outputs": []
    },
    {
      "cell_type": "code",
      "metadata": {
        "id": "5P0reveZGaBo"
      },
      "source": [
        "dfx= df[df.price<upper_b]"
      ],
      "execution_count": null,
      "outputs": []
    },
    {
      "cell_type": "code",
      "metadata": {
        "colab": {
          "base_uri": "https://localhost:8080/"
        },
        "id": "Xf-IyJK_x0D8",
        "outputId": "66b34705-7404-4511-f9e4-ed8229bad2f5"
      },
      "source": [
        "dfx.shape"
      ],
      "execution_count": null,
      "outputs": [
        {
          "output_type": "execute_result",
          "data": {
            "text/plain": [
              "(114912, 12)"
            ]
          },
          "metadata": {
            "tags": []
          },
          "execution_count": 41
        }
      ]
    },
    {
      "cell_type": "markdown",
      "metadata": {
        "id": "LJC9TxRriebc"
      },
      "source": [
        "\n",
        "#Function so it could trim multiple columns"
      ]
    },
    {
      "cell_type": "code",
      "metadata": {
        "id": "kHVn-5lZOoTw"
      },
      "source": [
        "# def remove_outlier(data,lst):\n",
        "#     dfx = df\n",
        "#     for col in lst:\n",
        "#         q1 = dfx[col].quantile(0.25)\n",
        "#         q3 = dfx[col].quantile(0.75)\n",
        "#         iqr = q3-q1\n",
        "#         lower_b  = q1-1.5*iqr\n",
        "#         upper_b = q3+1.5*iqr\n",
        "#         dfx = dfx.loc[(dfx[col] > lower_b) & (dfx[col] < upper_b)]\n",
        "#     return dfx\n",
        "def remove_outlier(df, column_lst):\n",
        "    df_in = df\n",
        "    for col in column_lst:\n",
        "        q1 = df_in[col].quantile(0.25)\n",
        "        q3 = df_in[col].quantile(0.75)\n",
        "        iqr = q3-q1\n",
        "        fence_low  = q1-1.5*iqr\n",
        "        fence_high = q3+1.5*iqr\n",
        "        df_in = df_in.loc[(df_in[col] > fence_low) & (df_in[col] < fence_high)]\n",
        "    return df_in"
      ],
      "execution_count": null,
      "outputs": []
    },
    {
      "cell_type": "code",
      "metadata": {
        "id": "NHi2JGlWR-Al"
      },
      "source": [
        "def draw_plots(df, lst,title=\"\"):\n",
        "    if len(lst) > 1:\n",
        "        fig, ax = plt.subplots(1, len(lst), figsize=(16, 5))\n",
        "        for i in range(0, len(lst)):\n",
        "            sns.boxplot(y=df[lst[i]],ax=ax[i])\n",
        "            ax[i].set_title(lst[i])\n",
        "        fig.suptitle(title)\n",
        "    else:\n",
        "        fig, axs = plt.subplots(figsize=(16, 8))\n",
        "        ax.boxplot(y=df[lst[0]])\n",
        "        ax.set_title(lst[0])\n",
        "        fig.suptitle(title)"
      ],
      "execution_count": null,
      "outputs": []
    },
    {
      "cell_type": "code",
      "metadata": {
        "colab": {
          "base_uri": "https://localhost:8080/",
          "height": 318
        },
        "id": "0XSeh18oz3Ff",
        "outputId": "1b728d4d-0122-4a68-f67b-3f071ff4fc8f"
      },
      "source": [
        "draw_plots(df, ['price','baths','area_sqft','bedrooms'])"
      ],
      "execution_count": null,
      "outputs": [
        {
          "output_type": "display_data",
          "data": {
            "image/png": "[encoded data removed]",
            "text/plain": [
              "<Figure size 1152x360 with 4 Axes>"
            ]
          },
          "metadata": {
            "tags": []
          }
        }
      ]
    },
    {
      "cell_type": "code",
      "metadata": {
        "id": "IYCichtwzv3w"
      },
      "source": [
        "df2 = remove_outlier(df, ['price','baths','area_sqft','bedrooms'])"
      ],
      "execution_count": null,
      "outputs": []
    },
    {
      "cell_type": "code",
      "metadata": {
        "colab": {
          "base_uri": "https://localhost:8080/",
          "height": 318
        },
        "id": "SUULHk0HfYlL",
        "outputId": "a472e4ba-26e0-4e8a-bfc2-d82cab61fd3c"
      },
      "source": [
        "draw_plots(df2, ['price','baths','area_sqft','bedrooms'])"
      ],
      "execution_count": null,
      "outputs": [
        {
          "output_type": "display_data",
          "data": {
            "image/png": "[encoded data removed]",
            "text/plain": [
              "<Figure size 1152x360 with 4 Axes>"
            ]
          },
          "metadata": {
            "tags": []
          }
        }
      ]
    },
    {
      "cell_type": "markdown",
      "metadata": {
        "id": "iJUmMrsIfYTK"
      },
      "source": [
        ""
      ]
    },
    {
      "cell_type": "code",
      "metadata": {
        "id": "SyAq0SNlqtS7"
      },
      "source": [
        "df3 = remove_outlier(df2, ['price','area_sqft'])"
      ],
      "execution_count": null,
      "outputs": []
    },
    {
      "cell_type": "code",
      "metadata": {
        "colab": {
          "base_uri": "https://localhost:8080/",
          "height": 318
        },
        "id": "CBwmX-ZsfoO4",
        "outputId": "4e431382-02a3-451f-9aad-554cfc0a658f"
      },
      "source": [
        "draw_plots(df3, ['price','baths','area_sqft','bedrooms'])"
      ],
      "execution_count": null,
      "outputs": [
        {
          "output_type": "display_data",
          "data": {
            "image/png": "[encoded data removed]",
            "text/plain": [
              "<Figure size 1152x360 with 4 Axes>"
            ]
          },
          "metadata": {
            "tags": []
          }
        }
      ]
    },
    {
      "cell_type": "code",
      "metadata": {
        "colab": {
          "base_uri": "https://localhost:8080/"
        },
        "id": "pvtSPbwzrIcT",
        "outputId": "2a5fbc54-6543-4a87-cf7b-46a504566119"
      },
      "source": [
        "df3.shape"
      ],
      "execution_count": null,
      "outputs": [
        {
          "output_type": "execute_result",
          "data": {
            "text/plain": [
              "(96574, 12)"
            ]
          },
          "metadata": {
            "tags": []
          },
          "execution_count": 62
        }
      ]
    },
    {
      "cell_type": "code",
      "metadata": {
        "id": "HSUzC8qYqtKQ"
      },
      "source": [
        "# df4=df3.copy()"
      ],
      "execution_count": null,
      "outputs": []
    },
    {
      "cell_type": "code",
      "metadata": {
        "id": "fFGoWQszrbfh"
      },
      "source": [
        "df4 = remove_outlier(df3, ['price'])"
      ],
      "execution_count": null,
      "outputs": []
    },
    {
      "cell_type": "code",
      "metadata": {
        "colab": {
          "base_uri": "https://localhost:8080/",
          "height": 318
        },
        "id": "RLH4VYL6rhko",
        "outputId": "d0ad8273-f556-4dc6-b7aa-4f76cc172799"
      },
      "source": [
        "draw_plots(df4, ['price','baths','area_sqft','bedrooms'])"
      ],
      "execution_count": null,
      "outputs": [
        {
          "output_type": "display_data",
          "data": {
            "image/png": "[encoded data removed]",
            "text/plain": [
              "<Figure size 1152x360 with 4 Axes>"
            ]
          },
          "metadata": {
            "tags": []
          }
        }
      ]
    },
    {
      "cell_type": "code",
      "metadata": {
        "colab": {
          "base_uri": "https://localhost:8080/"
        },
        "id": "ZQBVZzpWrpNL",
        "outputId": "b578531a-ce1b-4474-cafc-94e835de615b"
      },
      "source": [
        "df4.shape"
      ],
      "execution_count": null,
      "outputs": [
        {
          "output_type": "execute_result",
          "data": {
            "text/plain": [
              "(95149, 12)"
            ]
          },
          "metadata": {
            "tags": []
          },
          "execution_count": 66
        }
      ]
    },
    {
      "cell_type": "code",
      "metadata": {
        "id": "43JKOsHhb-ie"
      },
      "source": [
        "def is_float(x):\n",
        "  try:\n",
        "    float(x)\n",
        "  except:\n",
        "    return False\n",
        "\n",
        "  return True"
      ],
      "execution_count": null,
      "outputs": []
    },
    {
      "cell_type": "code",
      "metadata": {
        "colab": {
          "base_uri": "https://localhost:8080/",
          "height": 355
        },
        "id": "YSOfJPquYzub",
        "outputId": "b1395e41-697e-4bba-b213-305822e445e2"
      },
      "source": [
        "df4[df4['area_sqft'].apply(is_float)].head(10)"
      ],
      "execution_count": null,
      "outputs": [
        {
          "output_type": "execute_result",
          "data": {
            "text/html": [
              "<div>\n",
              "<style scoped>\n",
              "    .dataframe tbody tr th:only-of-type {\n",
              "        vertical-align: middle;\n",
              "    }\n",
              "\n",
              "    .dataframe tbody tr th {\n",
              "        vertical-align: top;\n",
              "    }\n",
              "\n",
              "    .dataframe thead th {\n",
              "        text-align: right;\n",
              "    }\n",
              "</style>\n",
              "<table border=\"1\" class=\"dataframe\">\n",
              "  <thead>\n",
              "    <tr style=\"text-align: right;\">\n",
              "      <th></th>\n",
              "      <th>property_type</th>\n",
              "      <th>price</th>\n",
              "      <th>location</th>\n",
              "      <th>city</th>\n",
              "      <th>latitude</th>\n",
              "      <th>longitude</th>\n",
              "      <th>baths</th>\n",
              "      <th>area_sqft</th>\n",
              "      <th>bedrooms</th>\n",
              "      <th>year</th>\n",
              "      <th>month</th>\n",
              "      <th>day</th>\n",
              "    </tr>\n",
              "  </thead>\n",
              "  <tbody>\n",
              "    <tr>\n",
              "      <th>2</th>\n",
              "      <td>House</td>\n",
              "      <td>9500000</td>\n",
              "      <td>Eden</td>\n",
              "      <td>Lahore</td>\n",
              "      <td>31.499348</td>\n",
              "      <td>74.416959</td>\n",
              "      <td>0</td>\n",
              "      <td>2450.26</td>\n",
              "      <td>3</td>\n",
              "      <td>2019</td>\n",
              "      <td>7</td>\n",
              "      <td>3</td>\n",
              "    </tr>\n",
              "    <tr>\n",
              "      <th>4</th>\n",
              "      <td>House</td>\n",
              "      <td>21000000</td>\n",
              "      <td>Allama Iqbal Town</td>\n",
              "      <td>Lahore</td>\n",
              "      <td>31.506483</td>\n",
              "      <td>74.286017</td>\n",
              "      <td>5</td>\n",
              "      <td>2994.76</td>\n",
              "      <td>6</td>\n",
              "      <td>2019</td>\n",
              "      <td>4</td>\n",
              "      <td>4</td>\n",
              "    </tr>\n",
              "    <tr>\n",
              "      <th>6</th>\n",
              "      <td>House</td>\n",
              "      <td>16500000</td>\n",
              "      <td>Military Accounts Housing Society</td>\n",
              "      <td>Lahore</td>\n",
              "      <td>31.421229</td>\n",
              "      <td>74.285560</td>\n",
              "      <td>7</td>\n",
              "      <td>2178.01</td>\n",
              "      <td>6</td>\n",
              "      <td>2019</td>\n",
              "      <td>7</td>\n",
              "      <td>3</td>\n",
              "    </tr>\n",
              "    <tr>\n",
              "      <th>10</th>\n",
              "      <td>House</td>\n",
              "      <td>13500000</td>\n",
              "      <td>Eden</td>\n",
              "      <td>Lahore</td>\n",
              "      <td>31.441113</td>\n",
              "      <td>74.239683</td>\n",
              "      <td>4</td>\n",
              "      <td>2041.88</td>\n",
              "      <td>4</td>\n",
              "      <td>2019</td>\n",
              "      <td>4</td>\n",
              "      <td>4</td>\n",
              "    </tr>\n",
              "    <tr>\n",
              "      <th>12</th>\n",
              "      <td>House</td>\n",
              "      <td>8500000</td>\n",
              "      <td>Park View Villas</td>\n",
              "      <td>Lahore</td>\n",
              "      <td>31.450248</td>\n",
              "      <td>74.200931</td>\n",
              "      <td>4</td>\n",
              "      <td>1361.25</td>\n",
              "      <td>4</td>\n",
              "      <td>2019</td>\n",
              "      <td>7</td>\n",
              "      <td>22</td>\n",
              "    </tr>\n",
              "    <tr>\n",
              "      <th>13</th>\n",
              "      <td>House</td>\n",
              "      <td>16500000</td>\n",
              "      <td>Cavalry Ground</td>\n",
              "      <td>Lahore</td>\n",
              "      <td>31.500557</td>\n",
              "      <td>74.367730</td>\n",
              "      <td>0</td>\n",
              "      <td>2722.51</td>\n",
              "      <td>4</td>\n",
              "      <td>2019</td>\n",
              "      <td>4</td>\n",
              "      <td>4</td>\n",
              "    </tr>\n",
              "    <tr>\n",
              "      <th>14</th>\n",
              "      <td>House</td>\n",
              "      <td>18500000</td>\n",
              "      <td>Bahria Town</td>\n",
              "      <td>Lahore</td>\n",
              "      <td>31.381706</td>\n",
              "      <td>74.195294</td>\n",
              "      <td>0</td>\n",
              "      <td>2722.51</td>\n",
              "      <td>0</td>\n",
              "      <td>2019</td>\n",
              "      <td>7</td>\n",
              "      <td>4</td>\n",
              "    </tr>\n",
              "    <tr>\n",
              "      <th>15</th>\n",
              "      <td>House</td>\n",
              "      <td>23500000</td>\n",
              "      <td>Askari</td>\n",
              "      <td>Lahore</td>\n",
              "      <td>31.537239</td>\n",
              "      <td>74.420211</td>\n",
              "      <td>4</td>\n",
              "      <td>2722.51</td>\n",
              "      <td>4</td>\n",
              "      <td>2019</td>\n",
              "      <td>6</td>\n",
              "      <td>18</td>\n",
              "    </tr>\n",
              "    <tr>\n",
              "      <th>19</th>\n",
              "      <td>House</td>\n",
              "      <td>27500000</td>\n",
              "      <td>Askari</td>\n",
              "      <td>Lahore</td>\n",
              "      <td>31.533161</td>\n",
              "      <td>74.419481</td>\n",
              "      <td>5</td>\n",
              "      <td>3267.01</td>\n",
              "      <td>4</td>\n",
              "      <td>2019</td>\n",
              "      <td>6</td>\n",
              "      <td>18</td>\n",
              "    </tr>\n",
              "    <tr>\n",
              "      <th>23</th>\n",
              "      <td>House</td>\n",
              "      <td>3200000</td>\n",
              "      <td>Chungi Amar Sadhu</td>\n",
              "      <td>Lahore</td>\n",
              "      <td>31.450925</td>\n",
              "      <td>74.354287</td>\n",
              "      <td>2</td>\n",
              "      <td>816.75</td>\n",
              "      <td>3</td>\n",
              "      <td>2018</td>\n",
              "      <td>12</td>\n",
              "      <td>5</td>\n",
              "    </tr>\n",
              "  </tbody>\n",
              "</table>\n",
              "</div>"
            ],
            "text/plain": [
              "   property_type     price                           location  ...  year  month  day\n",
              "2          House   9500000                               Eden  ...  2019      7    3\n",
              "4          House  21000000                  Allama Iqbal Town  ...  2019      4    4\n",
              "6          House  16500000  Military Accounts Housing Society  ...  2019      7    3\n",
              "10         House  13500000                               Eden  ...  2019      4    4\n",
              "12         House   8500000                   Park View Villas  ...  2019      7   22\n",
              "13         House  16500000                     Cavalry Ground  ...  2019      4    4\n",
              "14         House  18500000                        Bahria Town  ...  2019      7    4\n",
              "15         House  23500000                             Askari  ...  2019      6   18\n",
              "19         House  27500000                             Askari  ...  2019      6   18\n",
              "23         House   3200000                  Chungi Amar Sadhu  ...  2018     12    5\n",
              "\n",
              "[10 rows x 12 columns]"
            ]
          },
          "metadata": {
            "tags": []
          },
          "execution_count": 68
        }
      ]
    },
    {
      "cell_type": "markdown",
      "metadata": {
        "id": "H4kMyTlscN8Q"
      },
      "source": [
        "## Feature Engineering\n",
        "'price' column containes the price of house in 1 lakh = 100000.\n",
        "Price per square fit is important parameter in house prices.\n",
        "So we can create new column by the name 'price_per_sqft' and add price per sqft in it. formula = (price * 100000)/total_sqft"
      ]
    },
    {
      "cell_type": "code",
      "metadata": {
        "id": "E_TRQyddb5Zl"
      },
      "source": [
        "# df4=df2\n",
        "# df4['price_per_sqft'] = df2['price']/df2['area_sqft']\n",
        "df5 = df4.copy()\n",
        "df5['price_per_sqft'] = df5['price']/df5['area_sqft']"
      ],
      "execution_count": null,
      "outputs": []
    },
    {
      "cell_type": "code",
      "metadata": {
        "colab": {
          "base_uri": "https://localhost:8080/"
        },
        "id": "oJBD4SR0IFZJ",
        "outputId": "8200300a-1e30-4931-a73d-3f52dfa83f69"
      },
      "source": [
        "df5.columns"
      ],
      "execution_count": null,
      "outputs": [
        {
          "output_type": "execute_result",
          "data": {
            "text/plain": [
              "Index(['property_type', 'price', 'location', 'city', 'latitude', 'longitude',\n",
              "       'baths', 'area_sqft', 'bedrooms', 'year', 'month', 'day',\n",
              "       'price_per_sqft'],\n",
              "      dtype='object')"
            ]
          },
          "metadata": {
            "tags": []
          },
          "execution_count": 70
        }
      ]
    },
    {
      "cell_type": "code",
      "metadata": {
        "colab": {
          "base_uri": "https://localhost:8080/",
          "height": 465
        },
        "id": "7lhw9CDLc9VA",
        "outputId": "06a2450b-b19a-47ea-9646-efaf142e20ab"
      },
      "source": [
        "figure = (12,8)\n",
        "fig , ax = plt.subplots(figsize=figure)\n",
        "b= sns.boxplot(y=df5.price_per_sqft)\n"
      ],
      "execution_count": null,
      "outputs": [
        {
          "output_type": "display_data",
          "data": {
            "image/png": "[encoded data removed]",
            "text/plain": [
              "<Figure size 864x576 with 1 Axes>"
            ]
          },
          "metadata": {
            "tags": []
          }
        }
      ]
    },
    {
      "cell_type": "code",
      "metadata": {
        "colab": {
          "base_uri": "https://localhost:8080/"
        },
        "id": "Fr_jlLjciGnQ",
        "outputId": "bdeac140-d52f-41de-b090-b90edef71aa1"
      },
      "source": [
        "df5.price_per_sqft.describe()"
      ],
      "execution_count": null,
      "outputs": [
        {
          "output_type": "execute_result",
          "data": {
            "text/plain": [
              "count    9.514900e+04\n",
              "mean              inf\n",
              "std               NaN\n",
              "min      0.000000e+00\n",
              "25%      5.097337e+03\n",
              "50%      6.836037e+03\n",
              "75%      8.815395e+03\n",
              "max               inf\n",
              "Name: price_per_sqft, dtype: float64"
            ]
          },
          "metadata": {
            "tags": []
          },
          "execution_count": 72
        }
      ]
    },
    {
      "cell_type": "code",
      "metadata": {
        "colab": {
          "base_uri": "https://localhost:8080/",
          "height": 318
        },
        "id": "fYfmL1svq0Uc",
        "outputId": "464f7bb1-e6e0-4fd9-a30e-a5f8ec81ea76"
      },
      "source": [
        "draw_plots(df5,['price','price_per_sqft'])"
      ],
      "execution_count": null,
      "outputs": [
        {
          "output_type": "display_data",
          "data": {
            "image/png": "[encoded data removed]",
            "text/plain": [
              "<Figure size 1152x360 with 2 Axes>"
            ]
          },
          "metadata": {
            "tags": []
          }
        }
      ]
    },
    {
      "cell_type": "code",
      "metadata": {
        "id": "ztp5omYWHmeN"
      },
      "source": [
        "df6 = remove_outlier(df5,['price_per_sqft'])"
      ],
      "execution_count": null,
      "outputs": []
    },
    {
      "cell_type": "code",
      "metadata": {
        "colab": {
          "base_uri": "https://localhost:8080/",
          "height": 318
        },
        "id": "GlBeCpR2ij6o",
        "outputId": "f60318b3-8f71-49f3-bc96-629eeddb3f6b"
      },
      "source": [
        "draw_plots(df6,['price','price_per_sqft'])"
      ],
      "execution_count": null,
      "outputs": [
        {
          "output_type": "display_data",
          "data": {
            "image/png": "[encoded data removed]",
            "text/plain": [
              "<Figure size 1152x360 with 2 Axes>"
            ]
          },
          "metadata": {
            "tags": []
          }
        }
      ]
    },
    {
      "cell_type": "code",
      "metadata": {
        "colab": {
          "base_uri": "https://localhost:8080/"
        },
        "id": "GTRGr-1cXk0T",
        "outputId": "8ceac2a5-9497-483e-c9e0-a697c11c413f"
      },
      "source": [
        "df6.shape"
      ],
      "execution_count": null,
      "outputs": [
        {
          "output_type": "execute_result",
          "data": {
            "text/plain": [
              "(93183, 13)"
            ]
          },
          "metadata": {
            "tags": []
          },
          "execution_count": 132
        }
      ]
    },
    {
      "cell_type": "code",
      "metadata": {
        "id": "JAxxWT-1W8-g"
      },
      "source": [
        "df6 = remove_outlier(df6,['price','price_per_sqft'])"
      ],
      "execution_count": null,
      "outputs": []
    },
    {
      "cell_type": "code",
      "metadata": {
        "id": "P3WLDsUVW9Ti",
        "colab": {
          "base_uri": "https://localhost:8080/"
        },
        "outputId": "10a443d8-2bb0-4c05-a70d-49468348cf40"
      },
      "source": [
        "df6.shape"
      ],
      "execution_count": null,
      "outputs": [
        {
          "output_type": "execute_result",
          "data": {
            "text/plain": [
              "(92102, 13)"
            ]
          },
          "metadata": {
            "tags": []
          },
          "execution_count": 134
        }
      ]
    },
    {
      "cell_type": "code",
      "metadata": {
        "colab": {
          "base_uri": "https://localhost:8080/",
          "height": 318
        },
        "id": "HgR69EWTW8zE",
        "outputId": "07be51ce-2b74-4f04-d7ea-76c21bb22aca"
      },
      "source": [
        "draw_plots(df6,['price','price_per_sqft'])"
      ],
      "execution_count": null,
      "outputs": [
        {
          "output_type": "display_data",
          "data": {
            "image/png": "[encoded data removed]",
            "text/plain": [
              "<Figure size 1152x360 with 2 Axes>"
            ]
          },
          "metadata": {
            "tags": []
          }
        }
      ]
    },
    {
      "cell_type": "code",
      "metadata": {
        "id": "36TXaKuUX3Iu"
      },
      "source": [
        "df6 = remove_outlier(df6,['price_per_sqft'])"
      ],
      "execution_count": null,
      "outputs": []
    },
    {
      "cell_type": "code",
      "metadata": {
        "colab": {
          "base_uri": "https://localhost:8080/"
        },
        "id": "0BA34YmkW8e9",
        "outputId": "4f3b0408-5071-4092-87e0-57ea43c4ed6d"
      },
      "source": [
        "df6.shape"
      ],
      "execution_count": null,
      "outputs": [
        {
          "output_type": "execute_result",
          "data": {
            "text/plain": [
              "(92100, 13)"
            ]
          },
          "metadata": {
            "tags": []
          },
          "execution_count": 137
        }
      ]
    },
    {
      "cell_type": "code",
      "metadata": {
        "colab": {
          "base_uri": "https://localhost:8080/",
          "height": 318
        },
        "id": "-CHvL3e1W8Qn",
        "outputId": "7c45222d-e6c0-413f-e2d4-d9236b3159a5"
      },
      "source": [
        "draw_plots(df6,['price','price_per_sqft'])"
      ],
      "execution_count": null,
      "outputs": [
        {
          "output_type": "display_data",
          "data": {
            "image/png": "[encoded data removed]",
            "text/plain": [
              "<Figure size 1152x360 with 2 Axes>"
            ]
          },
          "metadata": {
            "tags": []
          }
        }
      ]
    },
    {
      "cell_type": "code",
      "metadata": {
        "colab": {
          "base_uri": "https://localhost:8080/"
        },
        "id": "kFEVUiNyoRAx",
        "outputId": "834954a6-74a1-4876-dcfd-097abaca4bb7"
      },
      "source": [
        "df6.price_per_sqft[:3]"
      ],
      "execution_count": null,
      "outputs": [
        {
          "output_type": "execute_result",
          "data": {
            "text/plain": [
              "2    3877.139569\n",
              "4    7012.248060\n",
              "6    7575.722793\n",
              "Name: price_per_sqft, dtype: float64"
            ]
          },
          "metadata": {
            "tags": []
          },
          "execution_count": 139
        }
      ]
    },
    {
      "cell_type": "markdown",
      "metadata": {
        "id": "h_tvZJAtuL7P"
      },
      "source": [
        "## Dimesionality Reduction\n",
        "Dimensionality reduction is simply a process of reducing the dimension( or number of random variables) of your feature set\n",
        "In our dataset 'location' is categorical variable with 1287 categories.\n",
        "Before using One Hot Encoding to create dummy variables we must reduce the number of categories by using dimensionality reduction so that we will get less number of dummy variables.\n",
        "Our criteria for dimesionality reduction for 'location' is to use 'other' location for any location having less than 10 data points."
      ]
    },
    {
      "cell_type": "code",
      "metadata": {
        "colab": {
          "base_uri": "https://localhost:8080/",
          "height": 202
        },
        "id": "fWm_61W0iqq5",
        "outputId": "5fef59f2-c0f0-497a-f014-93fd0b5f1b77"
      },
      "source": [
        "#Trim the location values\n",
        "df6.location = df6.location.apply(lambda x: x.strip())\n",
        "df6.head()"
      ],
      "execution_count": null,
      "outputs": [
        {
          "output_type": "execute_result",
          "data": {
            "text/html": [
              "<div>\n",
              "<style scoped>\n",
              "    .dataframe tbody tr th:only-of-type {\n",
              "        vertical-align: middle;\n",
              "    }\n",
              "\n",
              "    .dataframe tbody tr th {\n",
              "        vertical-align: top;\n",
              "    }\n",
              "\n",
              "    .dataframe thead th {\n",
              "        text-align: right;\n",
              "    }\n",
              "</style>\n",
              "<table border=\"1\" class=\"dataframe\">\n",
              "  <thead>\n",
              "    <tr style=\"text-align: right;\">\n",
              "      <th></th>\n",
              "      <th>property_type</th>\n",
              "      <th>price</th>\n",
              "      <th>location</th>\n",
              "      <th>city</th>\n",
              "      <th>latitude</th>\n",
              "      <th>longitude</th>\n",
              "      <th>baths</th>\n",
              "      <th>area_sqft</th>\n",
              "      <th>bedrooms</th>\n",
              "      <th>year</th>\n",
              "      <th>month</th>\n",
              "      <th>day</th>\n",
              "      <th>price_per_sqft</th>\n",
              "    </tr>\n",
              "  </thead>\n",
              "  <tbody>\n",
              "    <tr>\n",
              "      <th>2</th>\n",
              "      <td>House</td>\n",
              "      <td>9500000</td>\n",
              "      <td>Eden</td>\n",
              "      <td>Lahore</td>\n",
              "      <td>31.499348</td>\n",
              "      <td>74.416959</td>\n",
              "      <td>0</td>\n",
              "      <td>2450.26</td>\n",
              "      <td>3</td>\n",
              "      <td>2019</td>\n",
              "      <td>7</td>\n",
              "      <td>3</td>\n",
              "      <td>3877.139569</td>\n",
              "    </tr>\n",
              "    <tr>\n",
              "      <th>4</th>\n",
              "      <td>House</td>\n",
              "      <td>21000000</td>\n",
              "      <td>Allama Iqbal Town</td>\n",
              "      <td>Lahore</td>\n",
              "      <td>31.506483</td>\n",
              "      <td>74.286017</td>\n",
              "      <td>5</td>\n",
              "      <td>2994.76</td>\n",
              "      <td>6</td>\n",
              "      <td>2019</td>\n",
              "      <td>4</td>\n",
              "      <td>4</td>\n",
              "      <td>7012.248060</td>\n",
              "    </tr>\n",
              "    <tr>\n",
              "      <th>6</th>\n",
              "      <td>House</td>\n",
              "      <td>16500000</td>\n",
              "      <td>Military Accounts Housing Society</td>\n",
              "      <td>Lahore</td>\n",
              "      <td>31.421229</td>\n",
              "      <td>74.285560</td>\n",
              "      <td>7</td>\n",
              "      <td>2178.01</td>\n",
              "      <td>6</td>\n",
              "      <td>2019</td>\n",
              "      <td>7</td>\n",
              "      <td>3</td>\n",
              "      <td>7575.722793</td>\n",
              "    </tr>\n",
              "    <tr>\n",
              "      <th>10</th>\n",
              "      <td>House</td>\n",
              "      <td>13500000</td>\n",
              "      <td>Eden</td>\n",
              "      <td>Lahore</td>\n",
              "      <td>31.441113</td>\n",
              "      <td>74.239683</td>\n",
              "      <td>4</td>\n",
              "      <td>2041.88</td>\n",
              "      <td>4</td>\n",
              "      <td>2019</td>\n",
              "      <td>4</td>\n",
              "      <td>4</td>\n",
              "      <td>6611.554058</td>\n",
              "    </tr>\n",
              "    <tr>\n",
              "      <th>12</th>\n",
              "      <td>House</td>\n",
              "      <td>8500000</td>\n",
              "      <td>Park View Villas</td>\n",
              "      <td>Lahore</td>\n",
              "      <td>31.450248</td>\n",
              "      <td>74.200931</td>\n",
              "      <td>4</td>\n",
              "      <td>1361.25</td>\n",
              "      <td>4</td>\n",
              "      <td>2019</td>\n",
              "      <td>7</td>\n",
              "      <td>22</td>\n",
              "      <td>6244.260790</td>\n",
              "    </tr>\n",
              "  </tbody>\n",
              "</table>\n",
              "</div>"
            ],
            "text/plain": [
              "   property_type     price  ... day price_per_sqft\n",
              "2          House   9500000  ...   3    3877.139569\n",
              "4          House  21000000  ...   4    7012.248060\n",
              "6          House  16500000  ...   3    7575.722793\n",
              "10         House  13500000  ...   4    6611.554058\n",
              "12         House   8500000  ...  22    6244.260790\n",
              "\n",
              "[5 rows x 13 columns]"
            ]
          },
          "metadata": {
            "tags": []
          },
          "execution_count": 140
        }
      ]
    },
    {
      "cell_type": "code",
      "metadata": {
        "colab": {
          "base_uri": "https://localhost:8080/"
        },
        "id": "O1y-kvBwo5Sh",
        "outputId": "447f4d46-65c8-40fd-9bc1-31636ee4dc23"
      },
      "source": [
        "#Lets get the count of each location\n",
        "location_counts = df6.location.value_counts(ascending=False)\n",
        "location_counts_less_10=location_counts[location_counts <=10]\n",
        "location_counts_less_10"
      ],
      "execution_count": null,
      "outputs": [
        {
          "output_type": "execute_result",
          "data": {
            "text/plain": [
              "Abid Town                         10\n",
              "National Highway                  10\n",
              "Gul-e-Damin                       10\n",
              "Khudadad Colony                   10\n",
              "Usman Town                        10\n",
              "                                  ..\n",
              "Noor Jahan Road                    1\n",
              "Vital Homes Housing Scheme         1\n",
              "Hakim Muhammad Ajmal Khan Road     1\n",
              "Bokra Road                         1\n",
              "Zafar ul Haq Road                  1\n",
              "Name: location, Length: 819, dtype: int64"
            ]
          },
          "metadata": {
            "tags": []
          },
          "execution_count": 141
        }
      ]
    },
    {
      "cell_type": "code",
      "metadata": {
        "colab": {
          "base_uri": "https://localhost:8080/"
        },
        "id": "8tVYGb1ovveI",
        "outputId": "0c7000ef-8198-46ee-b05a-cdf151ca4f65"
      },
      "source": [
        "location_counts_less_10.shape"
      ],
      "execution_count": null,
      "outputs": [
        {
          "output_type": "execute_result",
          "data": {
            "text/plain": [
              "(819,)"
            ]
          },
          "metadata": {
            "tags": []
          },
          "execution_count": 142
        }
      ]
    },
    {
      "cell_type": "code",
      "metadata": {
        "id": "EwllKUxnxh3E"
      },
      "source": [
        "# location_counts_ind = location_counts.index.values\n",
        "# location_counts_ind\n",
        "df6.location = df6.location.apply(lambda x: 'other' if x in location_counts_less_10 else x)\n"
      ],
      "execution_count": null,
      "outputs": []
    },
    {
      "cell_type": "code",
      "metadata": {
        "id": "tRyc3Lf4yEcS"
      },
      "source": [
        "# for ind in location_counts:\n",
        "#   df5.iloc[df5['location']==ind]='other'# good( all complete datatype would be object ) assigning value by value but also converts all columns datatype to object\n",
        "  \n",
        "  \n",
        "#   #df5.at[ind, 'location'] = 'other'# wrong assigning value by index, because df5 has no index like locations_counts_ind\n"
      ],
      "execution_count": null,
      "outputs": []
    },
    {
      "cell_type": "code",
      "metadata": {
        "colab": {
          "base_uri": "https://localhost:8080/"
        },
        "id": "cHfslzFVYvmX",
        "outputId": "fa17d43f-a25a-4e76-8c89-0a29a7dae11b"
      },
      "source": [
        "df6.location.value_counts(ascending=False)"
      ],
      "execution_count": null,
      "outputs": [
        {
          "output_type": "execute_result",
          "data": {
            "text/plain": [
              "Bahria Town Karachi       7560\n",
              "Bahria Town               5613\n",
              "DHA Defence               5530\n",
              "Gulistan-e-Jauhar         3830\n",
              "Bahria Town Rawalpindi    3529\n",
              "                          ... \n",
              "Jaranwala                   11\n",
              "Pir Wadhai                  11\n",
              "Sunny Park                  11\n",
              "Sodiwal                     11\n",
              "Kashmir Colony              11\n",
              "Name: location, Length: 542, dtype: int64"
            ]
          },
          "metadata": {
            "tags": []
          },
          "execution_count": 145
        }
      ]
    },
    {
      "cell_type": "code",
      "metadata": {
        "colab": {
          "base_uri": "https://localhost:8080/"
        },
        "id": "cnMSgBzizUEy",
        "outputId": "d2f19f28-8b4b-4057-8d00-72f9ffd94fbc"
      },
      "source": [
        "len(df6[df6.location == 'other'])#.value_counts(ascending=False)"
      ],
      "execution_count": null,
      "outputs": [
        {
          "output_type": "execute_result",
          "data": {
            "text/plain": [
              "3169"
            ]
          },
          "metadata": {
            "tags": []
          },
          "execution_count": 146
        }
      ]
    },
    {
      "cell_type": "code",
      "metadata": {
        "colab": {
          "base_uri": "https://localhost:8080/"
        },
        "id": "kv_Sx-sPTS0S",
        "outputId": "7bf3d9d2-af57-4641-8965-945f7a35d56d"
      },
      "source": [
        "df6.shape"
      ],
      "execution_count": null,
      "outputs": [
        {
          "output_type": "execute_result",
          "data": {
            "text/plain": [
              "(92100, 13)"
            ]
          },
          "metadata": {
            "tags": []
          },
          "execution_count": 147
        }
      ]
    },
    {
      "cell_type": "code",
      "metadata": {
        "colab": {
          "base_uri": "https://localhost:8080/"
        },
        "id": "QDZb-6RI0hmK",
        "outputId": "b58a8cea-fd32-4709-b7aa-cf4e1a7870ef"
      },
      "source": [
        "df6.location.value_counts(ascending=False)"
      ],
      "execution_count": null,
      "outputs": [
        {
          "output_type": "execute_result",
          "data": {
            "text/plain": [
              "Bahria Town Karachi       7560\n",
              "Bahria Town               5613\n",
              "DHA Defence               5530\n",
              "Gulistan-e-Jauhar         3830\n",
              "Bahria Town Rawalpindi    3529\n",
              "                          ... \n",
              "Jaranwala                   11\n",
              "Pir Wadhai                  11\n",
              "Sunny Park                  11\n",
              "Sodiwal                     11\n",
              "Kashmir Colony              11\n",
              "Name: location, Length: 542, dtype: int64"
            ]
          },
          "metadata": {
            "tags": []
          },
          "execution_count": 148
        }
      ]
    },
    {
      "cell_type": "code",
      "metadata": {
        "colab": {
          "base_uri": "https://localhost:8080/",
          "height": 202
        },
        "id": "PpSCmBug00W4",
        "outputId": "cd4a7cce-30b3-48e0-afb5-dc8a5bd92f6d"
      },
      "source": [
        "df6.head()"
      ],
      "execution_count": null,
      "outputs": [
        {
          "output_type": "execute_result",
          "data": {
            "text/html": [
              "<div>\n",
              "<style scoped>\n",
              "    .dataframe tbody tr th:only-of-type {\n",
              "        vertical-align: middle;\n",
              "    }\n",
              "\n",
              "    .dataframe tbody tr th {\n",
              "        vertical-align: top;\n",
              "    }\n",
              "\n",
              "    .dataframe thead th {\n",
              "        text-align: right;\n",
              "    }\n",
              "</style>\n",
              "<table border=\"1\" class=\"dataframe\">\n",
              "  <thead>\n",
              "    <tr style=\"text-align: right;\">\n",
              "      <th></th>\n",
              "      <th>property_type</th>\n",
              "      <th>price</th>\n",
              "      <th>location</th>\n",
              "      <th>city</th>\n",
              "      <th>latitude</th>\n",
              "      <th>longitude</th>\n",
              "      <th>baths</th>\n",
              "      <th>area_sqft</th>\n",
              "      <th>bedrooms</th>\n",
              "      <th>year</th>\n",
              "      <th>month</th>\n",
              "      <th>day</th>\n",
              "      <th>price_per_sqft</th>\n",
              "    </tr>\n",
              "  </thead>\n",
              "  <tbody>\n",
              "    <tr>\n",
              "      <th>2</th>\n",
              "      <td>House</td>\n",
              "      <td>9500000</td>\n",
              "      <td>Eden</td>\n",
              "      <td>Lahore</td>\n",
              "      <td>31.499348</td>\n",
              "      <td>74.416959</td>\n",
              "      <td>0</td>\n",
              "      <td>2450.26</td>\n",
              "      <td>3</td>\n",
              "      <td>2019</td>\n",
              "      <td>7</td>\n",
              "      <td>3</td>\n",
              "      <td>3877.139569</td>\n",
              "    </tr>\n",
              "    <tr>\n",
              "      <th>4</th>\n",
              "      <td>House</td>\n",
              "      <td>21000000</td>\n",
              "      <td>Allama Iqbal Town</td>\n",
              "      <td>Lahore</td>\n",
              "      <td>31.506483</td>\n",
              "      <td>74.286017</td>\n",
              "      <td>5</td>\n",
              "      <td>2994.76</td>\n",
              "      <td>6</td>\n",
              "      <td>2019</td>\n",
              "      <td>4</td>\n",
              "      <td>4</td>\n",
              "      <td>7012.248060</td>\n",
              "    </tr>\n",
              "    <tr>\n",
              "      <th>6</th>\n",
              "      <td>House</td>\n",
              "      <td>16500000</td>\n",
              "      <td>Military Accounts Housing Society</td>\n",
              "      <td>Lahore</td>\n",
              "      <td>31.421229</td>\n",
              "      <td>74.285560</td>\n",
              "      <td>7</td>\n",
              "      <td>2178.01</td>\n",
              "      <td>6</td>\n",
              "      <td>2019</td>\n",
              "      <td>7</td>\n",
              "      <td>3</td>\n",
              "      <td>7575.722793</td>\n",
              "    </tr>\n",
              "    <tr>\n",
              "      <th>10</th>\n",
              "      <td>House</td>\n",
              "      <td>13500000</td>\n",
              "      <td>Eden</td>\n",
              "      <td>Lahore</td>\n",
              "      <td>31.441113</td>\n",
              "      <td>74.239683</td>\n",
              "      <td>4</td>\n",
              "      <td>2041.88</td>\n",
              "      <td>4</td>\n",
              "      <td>2019</td>\n",
              "      <td>4</td>\n",
              "      <td>4</td>\n",
              "      <td>6611.554058</td>\n",
              "    </tr>\n",
              "    <tr>\n",
              "      <th>12</th>\n",
              "      <td>House</td>\n",
              "      <td>8500000</td>\n",
              "      <td>Park View Villas</td>\n",
              "      <td>Lahore</td>\n",
              "      <td>31.450248</td>\n",
              "      <td>74.200931</td>\n",
              "      <td>4</td>\n",
              "      <td>1361.25</td>\n",
              "      <td>4</td>\n",
              "      <td>2019</td>\n",
              "      <td>7</td>\n",
              "      <td>22</td>\n",
              "      <td>6244.260790</td>\n",
              "    </tr>\n",
              "  </tbody>\n",
              "</table>\n",
              "</div>"
            ],
            "text/plain": [
              "   property_type     price  ... day price_per_sqft\n",
              "2          House   9500000  ...   3    3877.139569\n",
              "4          House  21000000  ...   4    7012.248060\n",
              "6          House  16500000  ...   3    7575.722793\n",
              "10         House  13500000  ...   4    6611.554058\n",
              "12         House   8500000  ...  22    6244.260790\n",
              "\n",
              "[5 rows x 13 columns]"
            ]
          },
          "metadata": {
            "tags": []
          },
          "execution_count": 149
        }
      ]
    },
    {
      "cell_type": "code",
      "metadata": {
        "colab": {
          "base_uri": "https://localhost:8080/"
        },
        "id": "CbqkZokk1OEm",
        "outputId": "ee57ecd9-5246-47d1-a6bf-aeba368a5a56"
      },
      "source": [
        "len(df6[df.baths==0])"
      ],
      "execution_count": null,
      "outputs": [
        {
          "output_type": "stream",
          "text": [
            "/usr/local/lib/python3.7/dist-packages/ipykernel_launcher.py:1: UserWarning: Boolean Series key will be reindexed to match DataFrame index.\n",
            "  \"\"\"Entry point for launching an IPython kernel.\n"
          ],
          "name": "stderr"
        },
        {
          "output_type": "execute_result",
          "data": {
            "text/plain": [
              "21981"
            ]
          },
          "metadata": {
            "tags": []
          },
          "execution_count": 150
        }
      ]
    },
    {
      "cell_type": "code",
      "metadata": {
        "colab": {
          "base_uri": "https://localhost:8080/",
          "height": 575
        },
        "id": "ce2LiaCUJDI0",
        "outputId": "efe90f01-3333-42c8-b108-bba11384f2c8"
      },
      "source": [
        "figure = (12,8)\n",
        "fig , ax = plt.subplots(figsize=figure)\n",
        "sns.countplot(df6.property_type)"
      ],
      "execution_count": null,
      "outputs": [
        {
          "output_type": "stream",
          "text": [
            "/usr/local/lib/python3.7/dist-packages/seaborn/_decorators.py:43: FutureWarning: Pass the following variable as a keyword arg: x. From version 0.12, the only valid positional argument will be `data`, and passing other arguments without an explicit keyword will result in an error or misinterpretation.\n",
            "  FutureWarning\n"
          ],
          "name": "stderr"
        },
        {
          "output_type": "execute_result",
          "data": {
            "text/plain": [
              "<matplotlib.axes._subplots.AxesSubplot at 0x7fd2bb23fed0>"
            ]
          },
          "metadata": {
            "tags": []
          },
          "execution_count": 151
        },
        {
          "output_type": "display_data",
          "data": {
            "image/png": "[encoded data removed]",
            "text/plain": [
              "<Figure size 864x576 with 1 Axes>"
            ]
          },
          "metadata": {
            "tags": []
          }
        }
      ]
    },
    {
      "cell_type": "code",
      "metadata": {
        "colab": {
          "base_uri": "https://localhost:8080/"
        },
        "id": "I1a4bqpePmzK",
        "outputId": "db9784cf-2316-4c37-bb0f-f4fad680091d"
      },
      "source": [
        "df6.property_type.value_counts(ascending=False)"
      ],
      "execution_count": null,
      "outputs": [
        {
          "output_type": "execute_result",
          "data": {
            "text/plain": [
              "House            62490\n",
              "Flat             26047\n",
              "Upper Portion     2434\n",
              "Lower Portion      885\n",
              "Penthouse          199\n",
              "Farm House          29\n",
              "Room                16\n",
              "Name: property_type, dtype: int64"
            ]
          },
          "metadata": {
            "tags": []
          },
          "execution_count": 152
        }
      ]
    },
    {
      "cell_type": "code",
      "metadata": {
        "colab": {
          "base_uri": "https://localhost:8080/",
          "height": 937
        },
        "id": "nMswJlwvdrZa",
        "outputId": "8a6a947f-c149-4530-8fde-bc11f13b5079"
      },
      "source": [
        "df6[df6.property_type =='Farm House']"
      ],
      "execution_count": null,
      "outputs": [
        {
          "output_type": "execute_result",
          "data": {
            "text/html": [
              "<div>\n",
              "<style scoped>\n",
              "    .dataframe tbody tr th:only-of-type {\n",
              "        vertical-align: middle;\n",
              "    }\n",
              "\n",
              "    .dataframe tbody tr th {\n",
              "        vertical-align: top;\n",
              "    }\n",
              "\n",
              "    .dataframe thead th {\n",
              "        text-align: right;\n",
              "    }\n",
              "</style>\n",
              "<table border=\"1\" class=\"dataframe\">\n",
              "  <thead>\n",
              "    <tr style=\"text-align: right;\">\n",
              "      <th></th>\n",
              "      <th>property_type</th>\n",
              "      <th>price</th>\n",
              "      <th>location</th>\n",
              "      <th>city</th>\n",
              "      <th>latitude</th>\n",
              "      <th>longitude</th>\n",
              "      <th>baths</th>\n",
              "      <th>area_sqft</th>\n",
              "      <th>bedrooms</th>\n",
              "      <th>year</th>\n",
              "      <th>month</th>\n",
              "      <th>day</th>\n",
              "      <th>price_per_sqft</th>\n",
              "    </tr>\n",
              "  </thead>\n",
              "  <tbody>\n",
              "    <tr>\n",
              "      <th>41661</th>\n",
              "      <td>Farm House</td>\n",
              "      <td>3200000</td>\n",
              "      <td>Bedian Road</td>\n",
              "      <td>Lahore</td>\n",
              "      <td>31.473474</td>\n",
              "      <td>74.429569</td>\n",
              "      <td>4</td>\n",
              "      <td>816.75</td>\n",
              "      <td>4</td>\n",
              "      <td>2019</td>\n",
              "      <td>6</td>\n",
              "      <td>11</td>\n",
              "      <td>3917.967554</td>\n",
              "    </tr>\n",
              "    <tr>\n",
              "      <th>42080</th>\n",
              "      <td>Farm House</td>\n",
              "      <td>4000000</td>\n",
              "      <td>DHA Defence</td>\n",
              "      <td>Islamabad</td>\n",
              "      <td>33.507336</td>\n",
              "      <td>73.266106</td>\n",
              "      <td>2</td>\n",
              "      <td>1361.25</td>\n",
              "      <td>2</td>\n",
              "      <td>2019</td>\n",
              "      <td>6</td>\n",
              "      <td>27</td>\n",
              "      <td>2938.475666</td>\n",
              "    </tr>\n",
              "    <tr>\n",
              "      <th>50067</th>\n",
              "      <td>Farm House</td>\n",
              "      <td>24500000</td>\n",
              "      <td>G-11</td>\n",
              "      <td>Islamabad</td>\n",
              "      <td>33.669533</td>\n",
              "      <td>73.000073</td>\n",
              "      <td>4</td>\n",
              "      <td>1905.76</td>\n",
              "      <td>4</td>\n",
              "      <td>2019</td>\n",
              "      <td>4</td>\n",
              "      <td>5</td>\n",
              "      <td>12855.763580</td>\n",
              "    </tr>\n",
              "    <tr>\n",
              "      <th>53872</th>\n",
              "      <td>Farm House</td>\n",
              "      <td>11000000</td>\n",
              "      <td>Saddar Town</td>\n",
              "      <td>Karachi</td>\n",
              "      <td>24.876626</td>\n",
              "      <td>67.018219</td>\n",
              "      <td>4</td>\n",
              "      <td>1306.80</td>\n",
              "      <td>2</td>\n",
              "      <td>2019</td>\n",
              "      <td>6</td>\n",
              "      <td>30</td>\n",
              "      <td>8417.508418</td>\n",
              "    </tr>\n",
              "    <tr>\n",
              "      <th>62428</th>\n",
              "      <td>Farm House</td>\n",
              "      <td>4000000</td>\n",
              "      <td>Garden West</td>\n",
              "      <td>Karachi</td>\n",
              "      <td>24.873806</td>\n",
              "      <td>67.016224</td>\n",
              "      <td>2</td>\n",
              "      <td>653.40</td>\n",
              "      <td>2</td>\n",
              "      <td>2019</td>\n",
              "      <td>5</td>\n",
              "      <td>6</td>\n",
              "      <td>6121.824304</td>\n",
              "    </tr>\n",
              "    <tr>\n",
              "      <th>64703</th>\n",
              "      <td>Farm House</td>\n",
              "      <td>12800000</td>\n",
              "      <td>Bahria Town Rawalpindi</td>\n",
              "      <td>Rawalpindi</td>\n",
              "      <td>33.488368</td>\n",
              "      <td>73.094230</td>\n",
              "      <td>5</td>\n",
              "      <td>1905.76</td>\n",
              "      <td>5</td>\n",
              "      <td>2019</td>\n",
              "      <td>5</td>\n",
              "      <td>5</td>\n",
              "      <td>6716.480564</td>\n",
              "    </tr>\n",
              "    <tr>\n",
              "      <th>73790</th>\n",
              "      <td>Farm House</td>\n",
              "      <td>25500000</td>\n",
              "      <td>Paragon City</td>\n",
              "      <td>Lahore</td>\n",
              "      <td>31.534067</td>\n",
              "      <td>74.453945</td>\n",
              "      <td>5</td>\n",
              "      <td>2722.51</td>\n",
              "      <td>4</td>\n",
              "      <td>2019</td>\n",
              "      <td>6</td>\n",
              "      <td>18</td>\n",
              "      <td>9366.356781</td>\n",
              "    </tr>\n",
              "    <tr>\n",
              "      <th>87233</th>\n",
              "      <td>Farm House</td>\n",
              "      <td>20000000</td>\n",
              "      <td>Bedian Road</td>\n",
              "      <td>Lahore</td>\n",
              "      <td>31.473474</td>\n",
              "      <td>74.429569</td>\n",
              "      <td>0</td>\n",
              "      <td>2178.01</td>\n",
              "      <td>0</td>\n",
              "      <td>2019</td>\n",
              "      <td>6</td>\n",
              "      <td>11</td>\n",
              "      <td>9182.694294</td>\n",
              "    </tr>\n",
              "    <tr>\n",
              "      <th>94465</th>\n",
              "      <td>Farm House</td>\n",
              "      <td>22500000</td>\n",
              "      <td>Bedian Road</td>\n",
              "      <td>Lahore</td>\n",
              "      <td>31.473474</td>\n",
              "      <td>74.429569</td>\n",
              "      <td>0</td>\n",
              "      <td>2178.01</td>\n",
              "      <td>0</td>\n",
              "      <td>2019</td>\n",
              "      <td>6</td>\n",
              "      <td>18</td>\n",
              "      <td>10330.531081</td>\n",
              "    </tr>\n",
              "    <tr>\n",
              "      <th>94481</th>\n",
              "      <td>Farm House</td>\n",
              "      <td>20000000</td>\n",
              "      <td>Bedian Road</td>\n",
              "      <td>Lahore</td>\n",
              "      <td>31.473474</td>\n",
              "      <td>74.429569</td>\n",
              "      <td>0</td>\n",
              "      <td>2178.01</td>\n",
              "      <td>0</td>\n",
              "      <td>2019</td>\n",
              "      <td>6</td>\n",
              "      <td>18</td>\n",
              "      <td>9182.694294</td>\n",
              "    </tr>\n",
              "    <tr>\n",
              "      <th>94483</th>\n",
              "      <td>Farm House</td>\n",
              "      <td>20000000</td>\n",
              "      <td>Bedian Road</td>\n",
              "      <td>Lahore</td>\n",
              "      <td>31.473474</td>\n",
              "      <td>74.429569</td>\n",
              "      <td>0</td>\n",
              "      <td>2178.01</td>\n",
              "      <td>0</td>\n",
              "      <td>2019</td>\n",
              "      <td>6</td>\n",
              "      <td>18</td>\n",
              "      <td>9182.694294</td>\n",
              "    </tr>\n",
              "    <tr>\n",
              "      <th>94484</th>\n",
              "      <td>Farm House</td>\n",
              "      <td>22500000</td>\n",
              "      <td>Bedian Road</td>\n",
              "      <td>Lahore</td>\n",
              "      <td>31.473474</td>\n",
              "      <td>74.429569</td>\n",
              "      <td>0</td>\n",
              "      <td>2178.01</td>\n",
              "      <td>0</td>\n",
              "      <td>2019</td>\n",
              "      <td>6</td>\n",
              "      <td>18</td>\n",
              "      <td>10330.531081</td>\n",
              "    </tr>\n",
              "    <tr>\n",
              "      <th>98163</th>\n",
              "      <td>Farm House</td>\n",
              "      <td>22500000</td>\n",
              "      <td>Bedian Road</td>\n",
              "      <td>Lahore</td>\n",
              "      <td>31.473474</td>\n",
              "      <td>74.429569</td>\n",
              "      <td>0</td>\n",
              "      <td>2178.01</td>\n",
              "      <td>0</td>\n",
              "      <td>2019</td>\n",
              "      <td>6</td>\n",
              "      <td>18</td>\n",
              "      <td>10330.531081</td>\n",
              "    </tr>\n",
              "    <tr>\n",
              "      <th>98164</th>\n",
              "      <td>Farm House</td>\n",
              "      <td>22500000</td>\n",
              "      <td>Bedian Road</td>\n",
              "      <td>Lahore</td>\n",
              "      <td>31.473474</td>\n",
              "      <td>74.429569</td>\n",
              "      <td>0</td>\n",
              "      <td>2178.01</td>\n",
              "      <td>0</td>\n",
              "      <td>2019</td>\n",
              "      <td>6</td>\n",
              "      <td>18</td>\n",
              "      <td>10330.531081</td>\n",
              "    </tr>\n",
              "    <tr>\n",
              "      <th>107484</th>\n",
              "      <td>Farm House</td>\n",
              "      <td>20000000</td>\n",
              "      <td>Bedian Road</td>\n",
              "      <td>Lahore</td>\n",
              "      <td>31.473474</td>\n",
              "      <td>74.429569</td>\n",
              "      <td>0</td>\n",
              "      <td>2178.01</td>\n",
              "      <td>0</td>\n",
              "      <td>2019</td>\n",
              "      <td>6</td>\n",
              "      <td>25</td>\n",
              "      <td>9182.694294</td>\n",
              "    </tr>\n",
              "    <tr>\n",
              "      <th>107485</th>\n",
              "      <td>Farm House</td>\n",
              "      <td>20000000</td>\n",
              "      <td>Bedian Road</td>\n",
              "      <td>Lahore</td>\n",
              "      <td>31.473474</td>\n",
              "      <td>74.429569</td>\n",
              "      <td>0</td>\n",
              "      <td>2178.01</td>\n",
              "      <td>0</td>\n",
              "      <td>2019</td>\n",
              "      <td>6</td>\n",
              "      <td>25</td>\n",
              "      <td>9182.694294</td>\n",
              "    </tr>\n",
              "    <tr>\n",
              "      <th>107487</th>\n",
              "      <td>Farm House</td>\n",
              "      <td>20000000</td>\n",
              "      <td>Bedian Road</td>\n",
              "      <td>Lahore</td>\n",
              "      <td>31.473474</td>\n",
              "      <td>74.429569</td>\n",
              "      <td>0</td>\n",
              "      <td>2178.01</td>\n",
              "      <td>0</td>\n",
              "      <td>2019</td>\n",
              "      <td>6</td>\n",
              "      <td>25</td>\n",
              "      <td>9182.694294</td>\n",
              "    </tr>\n",
              "    <tr>\n",
              "      <th>107488</th>\n",
              "      <td>Farm House</td>\n",
              "      <td>20000000</td>\n",
              "      <td>Bedian Road</td>\n",
              "      <td>Lahore</td>\n",
              "      <td>31.407951</td>\n",
              "      <td>74.449782</td>\n",
              "      <td>0</td>\n",
              "      <td>2178.01</td>\n",
              "      <td>0</td>\n",
              "      <td>2019</td>\n",
              "      <td>6</td>\n",
              "      <td>25</td>\n",
              "      <td>9182.694294</td>\n",
              "    </tr>\n",
              "    <tr>\n",
              "      <th>107490</th>\n",
              "      <td>Farm House</td>\n",
              "      <td>20000000</td>\n",
              "      <td>Bedian Road</td>\n",
              "      <td>Lahore</td>\n",
              "      <td>31.473474</td>\n",
              "      <td>74.429569</td>\n",
              "      <td>0</td>\n",
              "      <td>2178.01</td>\n",
              "      <td>0</td>\n",
              "      <td>2019</td>\n",
              "      <td>6</td>\n",
              "      <td>25</td>\n",
              "      <td>9182.694294</td>\n",
              "    </tr>\n",
              "    <tr>\n",
              "      <th>108475</th>\n",
              "      <td>Farm House</td>\n",
              "      <td>20000000</td>\n",
              "      <td>Bedian Road</td>\n",
              "      <td>Lahore</td>\n",
              "      <td>31.473474</td>\n",
              "      <td>74.429569</td>\n",
              "      <td>0</td>\n",
              "      <td>2178.01</td>\n",
              "      <td>0</td>\n",
              "      <td>2019</td>\n",
              "      <td>6</td>\n",
              "      <td>26</td>\n",
              "      <td>9182.694294</td>\n",
              "    </tr>\n",
              "    <tr>\n",
              "      <th>108476</th>\n",
              "      <td>Farm House</td>\n",
              "      <td>20000000</td>\n",
              "      <td>Bedian Road</td>\n",
              "      <td>Lahore</td>\n",
              "      <td>31.473474</td>\n",
              "      <td>74.429569</td>\n",
              "      <td>0</td>\n",
              "      <td>2178.01</td>\n",
              "      <td>0</td>\n",
              "      <td>2019</td>\n",
              "      <td>6</td>\n",
              "      <td>26</td>\n",
              "      <td>9182.694294</td>\n",
              "    </tr>\n",
              "    <tr>\n",
              "      <th>108477</th>\n",
              "      <td>Farm House</td>\n",
              "      <td>20000000</td>\n",
              "      <td>Bedian Road</td>\n",
              "      <td>Lahore</td>\n",
              "      <td>31.473474</td>\n",
              "      <td>74.429569</td>\n",
              "      <td>0</td>\n",
              "      <td>2178.01</td>\n",
              "      <td>0</td>\n",
              "      <td>2019</td>\n",
              "      <td>6</td>\n",
              "      <td>26</td>\n",
              "      <td>9182.694294</td>\n",
              "    </tr>\n",
              "    <tr>\n",
              "      <th>129723</th>\n",
              "      <td>Farm House</td>\n",
              "      <td>20000000</td>\n",
              "      <td>Bedian Road</td>\n",
              "      <td>Lahore</td>\n",
              "      <td>31.473474</td>\n",
              "      <td>74.429569</td>\n",
              "      <td>0</td>\n",
              "      <td>2178.01</td>\n",
              "      <td>0</td>\n",
              "      <td>2019</td>\n",
              "      <td>7</td>\n",
              "      <td>2</td>\n",
              "      <td>9182.694294</td>\n",
              "    </tr>\n",
              "    <tr>\n",
              "      <th>129726</th>\n",
              "      <td>Farm House</td>\n",
              "      <td>20000000</td>\n",
              "      <td>Bedian Road</td>\n",
              "      <td>Lahore</td>\n",
              "      <td>31.473474</td>\n",
              "      <td>74.429569</td>\n",
              "      <td>0</td>\n",
              "      <td>2178.01</td>\n",
              "      <td>0</td>\n",
              "      <td>2019</td>\n",
              "      <td>7</td>\n",
              "      <td>2</td>\n",
              "      <td>9182.694294</td>\n",
              "    </tr>\n",
              "    <tr>\n",
              "      <th>129727</th>\n",
              "      <td>Farm House</td>\n",
              "      <td>20000000</td>\n",
              "      <td>Bedian Road</td>\n",
              "      <td>Lahore</td>\n",
              "      <td>31.473474</td>\n",
              "      <td>74.429569</td>\n",
              "      <td>0</td>\n",
              "      <td>2178.01</td>\n",
              "      <td>0</td>\n",
              "      <td>2019</td>\n",
              "      <td>7</td>\n",
              "      <td>2</td>\n",
              "      <td>9182.694294</td>\n",
              "    </tr>\n",
              "    <tr>\n",
              "      <th>129728</th>\n",
              "      <td>Farm House</td>\n",
              "      <td>20000000</td>\n",
              "      <td>Bedian Road</td>\n",
              "      <td>Lahore</td>\n",
              "      <td>31.473474</td>\n",
              "      <td>74.429569</td>\n",
              "      <td>0</td>\n",
              "      <td>2178.01</td>\n",
              "      <td>0</td>\n",
              "      <td>2019</td>\n",
              "      <td>7</td>\n",
              "      <td>2</td>\n",
              "      <td>9182.694294</td>\n",
              "    </tr>\n",
              "    <tr>\n",
              "      <th>129729</th>\n",
              "      <td>Farm House</td>\n",
              "      <td>20000000</td>\n",
              "      <td>Bedian Road</td>\n",
              "      <td>Lahore</td>\n",
              "      <td>31.473474</td>\n",
              "      <td>74.429569</td>\n",
              "      <td>0</td>\n",
              "      <td>2178.01</td>\n",
              "      <td>0</td>\n",
              "      <td>2019</td>\n",
              "      <td>7</td>\n",
              "      <td>2</td>\n",
              "      <td>9182.694294</td>\n",
              "    </tr>\n",
              "    <tr>\n",
              "      <th>155699</th>\n",
              "      <td>Farm House</td>\n",
              "      <td>2800000</td>\n",
              "      <td>Al-Kabir Town</td>\n",
              "      <td>Lahore</td>\n",
              "      <td>31.364343</td>\n",
              "      <td>74.213113</td>\n",
              "      <td>2</td>\n",
              "      <td>1089.00</td>\n",
              "      <td>2</td>\n",
              "      <td>2019</td>\n",
              "      <td>7</td>\n",
              "      <td>11</td>\n",
              "      <td>2571.166208</td>\n",
              "    </tr>\n",
              "    <tr>\n",
              "      <th>172580</th>\n",
              "      <td>Farm House</td>\n",
              "      <td>5000000</td>\n",
              "      <td>Cantt</td>\n",
              "      <td>Lahore</td>\n",
              "      <td>31.526020</td>\n",
              "      <td>74.446685</td>\n",
              "      <td>0</td>\n",
              "      <td>1361.25</td>\n",
              "      <td>2</td>\n",
              "      <td>2019</td>\n",
              "      <td>7</td>\n",
              "      <td>17</td>\n",
              "      <td>3673.094582</td>\n",
              "    </tr>\n",
              "  </tbody>\n",
              "</table>\n",
              "</div>"
            ],
            "text/plain": [
              "       property_type     price  ... day price_per_sqft\n",
              "41661     Farm House   3200000  ...  11    3917.967554\n",
              "42080     Farm House   4000000  ...  27    2938.475666\n",
              "50067     Farm House  24500000  ...   5   12855.763580\n",
              "53872     Farm House  11000000  ...  30    8417.508418\n",
              "62428     Farm House   4000000  ...   6    6121.824304\n",
              "64703     Farm House  12800000  ...   5    6716.480564\n",
              "73790     Farm House  25500000  ...  18    9366.356781\n",
              "87233     Farm House  20000000  ...  11    9182.694294\n",
              "94465     Farm House  22500000  ...  18   10330.531081\n",
              "94481     Farm House  20000000  ...  18    9182.694294\n",
              "94483     Farm House  20000000  ...  18    9182.694294\n",
              "94484     Farm House  22500000  ...  18   10330.531081\n",
              "98163     Farm House  22500000  ...  18   10330.531081\n",
              "98164     Farm House  22500000  ...  18   10330.531081\n",
              "107484    Farm House  20000000  ...  25    9182.694294\n",
              "107485    Farm House  20000000  ...  25    9182.694294\n",
              "107487    Farm House  20000000  ...  25    9182.694294\n",
              "107488    Farm House  20000000  ...  25    9182.694294\n",
              "107490    Farm House  20000000  ...  25    9182.694294\n",
              "108475    Farm House  20000000  ...  26    9182.694294\n",
              "108476    Farm House  20000000  ...  26    9182.694294\n",
              "108477    Farm House  20000000  ...  26    9182.694294\n",
              "129723    Farm House  20000000  ...   2    9182.694294\n",
              "129726    Farm House  20000000  ...   2    9182.694294\n",
              "129727    Farm House  20000000  ...   2    9182.694294\n",
              "129728    Farm House  20000000  ...   2    9182.694294\n",
              "129729    Farm House  20000000  ...   2    9182.694294\n",
              "155699    Farm House   2800000  ...  11    2571.166208\n",
              "172580    Farm House   5000000  ...  17    3673.094582\n",
              "\n",
              "[29 rows x 13 columns]"
            ]
          },
          "metadata": {
            "tags": []
          },
          "execution_count": 153
        }
      ]
    },
    {
      "cell_type": "markdown",
      "metadata": {
        "id": "5i3M37_wwBXL"
      },
      "source": [
        "## Every property type has some outliers for example farm house contains 0 bath and bedroom."
      ]
    },
    {
      "cell_type": "code",
      "metadata": {
        "id": "fdCUlhOIfHPk"
      },
      "source": [
        "# pro_type = ['House',Room','Upper Portion','Lower Portion','Penthouse','Farm House','Room']\n",
        "# for xi in pro_type:\n",
        "#   farmhouse_ind= df5[(df5.property_type ==xi) &((df5.baths ==0) |(df5.bedrooms ==0) ) ].index\n",
        "  \n",
        "#   df6=df5.drop(farmhouse_ind)"
      ],
      "execution_count": null,
      "outputs": []
    },
    {
      "cell_type": "code",
      "metadata": {
        "id": "OdAlXJ-6vyMe"
      },
      "source": [
        "#removing outlier from each property type respectively\n",
        "ind= df6[(df6.property_type =='House') &((df6.baths ==0) |(df6.bedrooms ==0) ) ].index\n",
        "dfh=df6.drop(ind)#removing outlier from each property type respectively\n",
        "\n",
        "ind= dfh[(dfh.property_type =='Flat') &((dfh.baths ==0) |(dfh.bedrooms ==0) ) ].index\n",
        "dff=dfh.drop(ind)#removing outlier from each property type respectivelyind= df5[(df5.property_type =='Upper Portion') &((df5.baths ==0) |(df5.bedrooms ==0) ) ].index\n",
        "  \n",
        "ind= dff[(dff.property_type =='Lower Portion') &((dff.baths ==0) |(dff.bedrooms ==0) ) ].index\n",
        "dfl=dff.drop(ind)#removing outlier from each property type respectively\n",
        "\n",
        "\n",
        "ind= dfl[(dfl.property_type =='Upper Portion') &((dfl.baths ==0) |(dfl.bedrooms ==0) ) ].index\n",
        "dfu=dfl.drop(ind)#removing outlier from each property type respectively\n",
        "\n",
        "ind= dfu[(dfu.property_type =='Penthouse') &((dfu.baths ==0) |(dfu.bedrooms ==0) ) ].index\n",
        "dfp=dfu.drop(ind)#removing outlier from each property type respectively\n",
        "\n",
        "ind= dfp[(dfp.property_type =='Farm House') &((dfp.baths ==0) |(dfp.bedrooms ==0) ) ].index\n",
        "dffh=dfp.drop(ind)#removing outlier from each property type respectively\n",
        "\n",
        "ind= dffh[(dffh.property_type =='Room') &((dffh.baths ==0) |(dffh.bedrooms ==0) ) ].index\n",
        "df7=dffh.drop(ind)"
      ],
      "execution_count": null,
      "outputs": []
    },
    {
      "cell_type": "code",
      "metadata": {
        "colab": {
          "base_uri": "https://localhost:8080/",
          "height": 48
        },
        "id": "vLlalsrwiBuv",
        "outputId": "c1f54476-0280-435d-cfe9-ff9dd9f06a21"
      },
      "source": [
        "#checking outliers\n",
        "df7[(df7.property_type =='Room') & (df7.baths == 0)]"
      ],
      "execution_count": null,
      "outputs": [
        {
          "output_type": "execute_result",
          "data": {
            "text/html": [
              "<div>\n",
              "<style scoped>\n",
              "    .dataframe tbody tr th:only-of-type {\n",
              "        vertical-align: middle;\n",
              "    }\n",
              "\n",
              "    .dataframe tbody tr th {\n",
              "        vertical-align: top;\n",
              "    }\n",
              "\n",
              "    .dataframe thead th {\n",
              "        text-align: right;\n",
              "    }\n",
              "</style>\n",
              "<table border=\"1\" class=\"dataframe\">\n",
              "  <thead>\n",
              "    <tr style=\"text-align: right;\">\n",
              "      <th></th>\n",
              "      <th>property_type</th>\n",
              "      <th>price</th>\n",
              "      <th>location</th>\n",
              "      <th>city</th>\n",
              "      <th>latitude</th>\n",
              "      <th>longitude</th>\n",
              "      <th>baths</th>\n",
              "      <th>area_sqft</th>\n",
              "      <th>bedrooms</th>\n",
              "      <th>year</th>\n",
              "      <th>month</th>\n",
              "      <th>day</th>\n",
              "      <th>price_per_sqft</th>\n",
              "    </tr>\n",
              "  </thead>\n",
              "  <tbody>\n",
              "  </tbody>\n",
              "</table>\n",
              "</div>"
            ],
            "text/plain": [
              "Empty DataFrame\n",
              "Columns: [property_type, price, location, city, latitude, longitude, baths, area_sqft, bedrooms, year, month, day, price_per_sqft]\n",
              "Index: []"
            ]
          },
          "metadata": {
            "tags": []
          },
          "execution_count": 156
        }
      ]
    },
    {
      "cell_type": "markdown",
      "metadata": {
        "id": "9q_3iC_i1Fwf"
      },
      "source": [
        "In above code has been removed outliers like bedroom and baths 0 "
      ]
    },
    {
      "cell_type": "code",
      "metadata": {
        "colab": {
          "base_uri": "https://localhost:8080/",
          "height": 48
        },
        "id": "oUZx_T3viI_M",
        "outputId": "59a34275-c82a-47ac-e872-dea44936fe96"
      },
      "source": [
        "df7[df7.bedrooms == 0]"
      ],
      "execution_count": null,
      "outputs": [
        {
          "output_type": "execute_result",
          "data": {
            "text/html": [
              "<div>\n",
              "<style scoped>\n",
              "    .dataframe tbody tr th:only-of-type {\n",
              "        vertical-align: middle;\n",
              "    }\n",
              "\n",
              "    .dataframe tbody tr th {\n",
              "        vertical-align: top;\n",
              "    }\n",
              "\n",
              "    .dataframe thead th {\n",
              "        text-align: right;\n",
              "    }\n",
              "</style>\n",
              "<table border=\"1\" class=\"dataframe\">\n",
              "  <thead>\n",
              "    <tr style=\"text-align: right;\">\n",
              "      <th></th>\n",
              "      <th>property_type</th>\n",
              "      <th>price</th>\n",
              "      <th>location</th>\n",
              "      <th>city</th>\n",
              "      <th>latitude</th>\n",
              "      <th>longitude</th>\n",
              "      <th>baths</th>\n",
              "      <th>area_sqft</th>\n",
              "      <th>bedrooms</th>\n",
              "      <th>year</th>\n",
              "      <th>month</th>\n",
              "      <th>day</th>\n",
              "      <th>price_per_sqft</th>\n",
              "    </tr>\n",
              "  </thead>\n",
              "  <tbody>\n",
              "  </tbody>\n",
              "</table>\n",
              "</div>"
            ],
            "text/plain": [
              "Empty DataFrame\n",
              "Columns: [property_type, price, location, city, latitude, longitude, baths, area_sqft, bedrooms, year, month, day, price_per_sqft]\n",
              "Index: []"
            ]
          },
          "metadata": {
            "tags": []
          },
          "execution_count": 157
        }
      ]
    },
    {
      "cell_type": "code",
      "metadata": {
        "colab": {
          "base_uri": "https://localhost:8080/",
          "height": 414
        },
        "id": "0DBrzxs50f83",
        "outputId": "49714097-7efc-4fe2-d263-2f59476f95b6"
      },
      "source": [
        "df7[df7.baths > df7.bedrooms]"
      ],
      "execution_count": null,
      "outputs": [
        {
          "output_type": "execute_result",
          "data": {
            "text/html": [
              "<div>\n",
              "<style scoped>\n",
              "    .dataframe tbody tr th:only-of-type {\n",
              "        vertical-align: middle;\n",
              "    }\n",
              "\n",
              "    .dataframe tbody tr th {\n",
              "        vertical-align: top;\n",
              "    }\n",
              "\n",
              "    .dataframe thead th {\n",
              "        text-align: right;\n",
              "    }\n",
              "</style>\n",
              "<table border=\"1\" class=\"dataframe\">\n",
              "  <thead>\n",
              "    <tr style=\"text-align: right;\">\n",
              "      <th></th>\n",
              "      <th>property_type</th>\n",
              "      <th>price</th>\n",
              "      <th>location</th>\n",
              "      <th>city</th>\n",
              "      <th>latitude</th>\n",
              "      <th>longitude</th>\n",
              "      <th>baths</th>\n",
              "      <th>area_sqft</th>\n",
              "      <th>bedrooms</th>\n",
              "      <th>year</th>\n",
              "      <th>month</th>\n",
              "      <th>day</th>\n",
              "      <th>price_per_sqft</th>\n",
              "    </tr>\n",
              "  </thead>\n",
              "  <tbody>\n",
              "    <tr>\n",
              "      <th>6</th>\n",
              "      <td>House</td>\n",
              "      <td>16500000</td>\n",
              "      <td>Military Accounts Housing Society</td>\n",
              "      <td>Lahore</td>\n",
              "      <td>31.421229</td>\n",
              "      <td>74.285560</td>\n",
              "      <td>7</td>\n",
              "      <td>2178.01</td>\n",
              "      <td>6</td>\n",
              "      <td>2019</td>\n",
              "      <td>7</td>\n",
              "      <td>3</td>\n",
              "      <td>7575.722793</td>\n",
              "    </tr>\n",
              "    <tr>\n",
              "      <th>19</th>\n",
              "      <td>House</td>\n",
              "      <td>27500000</td>\n",
              "      <td>Askari</td>\n",
              "      <td>Lahore</td>\n",
              "      <td>31.533161</td>\n",
              "      <td>74.419481</td>\n",
              "      <td>5</td>\n",
              "      <td>3267.01</td>\n",
              "      <td>4</td>\n",
              "      <td>2019</td>\n",
              "      <td>6</td>\n",
              "      <td>18</td>\n",
              "      <td>8417.482652</td>\n",
              "    </tr>\n",
              "    <tr>\n",
              "      <th>24</th>\n",
              "      <td>House</td>\n",
              "      <td>21200000</td>\n",
              "      <td>Askari</td>\n",
              "      <td>Lahore</td>\n",
              "      <td>31.536068</td>\n",
              "      <td>74.408666</td>\n",
              "      <td>4</td>\n",
              "      <td>2722.51</td>\n",
              "      <td>3</td>\n",
              "      <td>2019</td>\n",
              "      <td>6</td>\n",
              "      <td>18</td>\n",
              "      <td>7786.931912</td>\n",
              "    </tr>\n",
              "    <tr>\n",
              "      <th>25</th>\n",
              "      <td>House</td>\n",
              "      <td>23000000</td>\n",
              "      <td>Askari</td>\n",
              "      <td>Lahore</td>\n",
              "      <td>31.537458</td>\n",
              "      <td>74.413323</td>\n",
              "      <td>5</td>\n",
              "      <td>2722.51</td>\n",
              "      <td>4</td>\n",
              "      <td>2019</td>\n",
              "      <td>6</td>\n",
              "      <td>18</td>\n",
              "      <td>8448.086508</td>\n",
              "    </tr>\n",
              "    <tr>\n",
              "      <th>26</th>\n",
              "      <td>House</td>\n",
              "      <td>21500000</td>\n",
              "      <td>Askari</td>\n",
              "      <td>Lahore</td>\n",
              "      <td>31.533270</td>\n",
              "      <td>74.413580</td>\n",
              "      <td>5</td>\n",
              "      <td>2722.51</td>\n",
              "      <td>4</td>\n",
              "      <td>2019</td>\n",
              "      <td>6</td>\n",
              "      <td>18</td>\n",
              "      <td>7897.124345</td>\n",
              "    </tr>\n",
              "    <tr>\n",
              "      <th>...</th>\n",
              "      <td>...</td>\n",
              "      <td>...</td>\n",
              "      <td>...</td>\n",
              "      <td>...</td>\n",
              "      <td>...</td>\n",
              "      <td>...</td>\n",
              "      <td>...</td>\n",
              "      <td>...</td>\n",
              "      <td>...</td>\n",
              "      <td>...</td>\n",
              "      <td>...</td>\n",
              "      <td>...</td>\n",
              "      <td>...</td>\n",
              "    </tr>\n",
              "    <tr>\n",
              "      <th>190965</th>\n",
              "      <td>House</td>\n",
              "      <td>15500000</td>\n",
              "      <td>G-13</td>\n",
              "      <td>Islamabad</td>\n",
              "      <td>33.645957</td>\n",
              "      <td>72.962472</td>\n",
              "      <td>5</td>\n",
              "      <td>1197.90</td>\n",
              "      <td>4</td>\n",
              "      <td>2019</td>\n",
              "      <td>7</td>\n",
              "      <td>24</td>\n",
              "      <td>12939.310460</td>\n",
              "    </tr>\n",
              "    <tr>\n",
              "      <th>190967</th>\n",
              "      <td>House</td>\n",
              "      <td>16300000</td>\n",
              "      <td>G-13</td>\n",
              "      <td>Islamabad</td>\n",
              "      <td>33.645957</td>\n",
              "      <td>72.962472</td>\n",
              "      <td>5</td>\n",
              "      <td>1197.90</td>\n",
              "      <td>4</td>\n",
              "      <td>2019</td>\n",
              "      <td>7</td>\n",
              "      <td>24</td>\n",
              "      <td>13607.145839</td>\n",
              "    </tr>\n",
              "    <tr>\n",
              "      <th>190969</th>\n",
              "      <td>House</td>\n",
              "      <td>16200000</td>\n",
              "      <td>G-13</td>\n",
              "      <td>Islamabad</td>\n",
              "      <td>33.645957</td>\n",
              "      <td>72.962472</td>\n",
              "      <td>5</td>\n",
              "      <td>1197.90</td>\n",
              "      <td>4</td>\n",
              "      <td>2019</td>\n",
              "      <td>7</td>\n",
              "      <td>24</td>\n",
              "      <td>13523.666416</td>\n",
              "    </tr>\n",
              "    <tr>\n",
              "      <th>190970</th>\n",
              "      <td>House</td>\n",
              "      <td>16000000</td>\n",
              "      <td>G-13</td>\n",
              "      <td>Islamabad</td>\n",
              "      <td>33.645957</td>\n",
              "      <td>72.962472</td>\n",
              "      <td>5</td>\n",
              "      <td>1197.90</td>\n",
              "      <td>4</td>\n",
              "      <td>2019</td>\n",
              "      <td>7</td>\n",
              "      <td>24</td>\n",
              "      <td>13356.707572</td>\n",
              "    </tr>\n",
              "    <tr>\n",
              "      <th>190974</th>\n",
              "      <td>House</td>\n",
              "      <td>26500000</td>\n",
              "      <td>G-13</td>\n",
              "      <td>Islamabad</td>\n",
              "      <td>33.650065</td>\n",
              "      <td>72.963681</td>\n",
              "      <td>7</td>\n",
              "      <td>2178.01</td>\n",
              "      <td>5</td>\n",
              "      <td>2019</td>\n",
              "      <td>7</td>\n",
              "      <td>24</td>\n",
              "      <td>12167.069940</td>\n",
              "    </tr>\n",
              "  </tbody>\n",
              "</table>\n",
              "<p>17064 rows × 13 columns</p>\n",
              "</div>"
            ],
            "text/plain": [
              "       property_type     price  ... day price_per_sqft\n",
              "6              House  16500000  ...   3    7575.722793\n",
              "19             House  27500000  ...  18    8417.482652\n",
              "24             House  21200000  ...  18    7786.931912\n",
              "25             House  23000000  ...  18    8448.086508\n",
              "26             House  21500000  ...  18    7897.124345\n",
              "...              ...       ...  ...  ..            ...\n",
              "190965         House  15500000  ...  24   12939.310460\n",
              "190967         House  16300000  ...  24   13607.145839\n",
              "190969         House  16200000  ...  24   13523.666416\n",
              "190970         House  16000000  ...  24   13356.707572\n",
              "190974         House  26500000  ...  24   12167.069940\n",
              "\n",
              "[17064 rows x 13 columns]"
            ]
          },
          "metadata": {
            "tags": []
          },
          "execution_count": 158
        }
      ]
    },
    {
      "cell_type": "markdown",
      "metadata": {
        "id": "83SPaCGPEmUe"
      },
      "source": [
        "Checking the differences between bedrooms and baths if difference is more than 1 it probabily an outlier"
      ]
    },
    {
      "cell_type": "code",
      "metadata": {
        "colab": {
          "base_uri": "https://localhost:8080/"
        },
        "id": "pcsyHma_JCCL",
        "outputId": "ddbc24bd-637d-4ce4-cffb-b475846eff82"
      },
      "source": [
        "df7.info()"
      ],
      "execution_count": null,
      "outputs": [
        {
          "output_type": "stream",
          "text": [
            "<class 'pandas.core.frame.DataFrame'>\n",
            "Int64Index: 69824 entries, 4 to 190974\n",
            "Data columns (total 13 columns):\n",
            " #   Column          Non-Null Count  Dtype  \n",
            "---  ------          --------------  -----  \n",
            " 0   property_type   69824 non-null  object \n",
            " 1   price           69824 non-null  int64  \n",
            " 2   location        69824 non-null  object \n",
            " 3   city            69824 non-null  object \n",
            " 4   latitude        69824 non-null  float64\n",
            " 5   longitude       69824 non-null  float64\n",
            " 6   baths           69824 non-null  int64  \n",
            " 7   area_sqft       69824 non-null  float64\n",
            " 8   bedrooms        69824 non-null  int64  \n",
            " 9   year            69824 non-null  int64  \n",
            " 10  month           69824 non-null  int64  \n",
            " 11  day             69824 non-null  int64  \n",
            " 12  price_per_sqft  69824 non-null  float64\n",
            "dtypes: float64(4), int64(6), object(3)\n",
            "memory usage: 7.5+ MB\n"
          ],
          "name": "stdout"
        }
      ]
    },
    {
      "cell_type": "code",
      "metadata": {
        "colab": {
          "base_uri": "https://localhost:8080/",
          "height": 414
        },
        "id": "28ib3kJ22jI_",
        "outputId": "233f256a-7eb9-4b7d-e06e-16aa26ccb6fb"
      },
      "source": [
        "# first i applied 5 value and removed rows, after it i used greater than operator for rest of the differences\n",
        "df7[(df7['bedrooms']-df7['baths']) >=2]"
      ],
      "execution_count": null,
      "outputs": [
        {
          "output_type": "execute_result",
          "data": {
            "text/html": [
              "<div>\n",
              "<style scoped>\n",
              "    .dataframe tbody tr th:only-of-type {\n",
              "        vertical-align: middle;\n",
              "    }\n",
              "\n",
              "    .dataframe tbody tr th {\n",
              "        vertical-align: top;\n",
              "    }\n",
              "\n",
              "    .dataframe thead th {\n",
              "        text-align: right;\n",
              "    }\n",
              "</style>\n",
              "<table border=\"1\" class=\"dataframe\">\n",
              "  <thead>\n",
              "    <tr style=\"text-align: right;\">\n",
              "      <th></th>\n",
              "      <th>property_type</th>\n",
              "      <th>price</th>\n",
              "      <th>location</th>\n",
              "      <th>city</th>\n",
              "      <th>latitude</th>\n",
              "      <th>longitude</th>\n",
              "      <th>baths</th>\n",
              "      <th>area_sqft</th>\n",
              "      <th>bedrooms</th>\n",
              "      <th>year</th>\n",
              "      <th>month</th>\n",
              "      <th>day</th>\n",
              "      <th>price_per_sqft</th>\n",
              "    </tr>\n",
              "  </thead>\n",
              "  <tbody>\n",
              "    <tr>\n",
              "      <th>308</th>\n",
              "      <td>Flat</td>\n",
              "      <td>3500000</td>\n",
              "      <td>Abul Hassan Isphani Road</td>\n",
              "      <td>Karachi</td>\n",
              "      <td>24.941817</td>\n",
              "      <td>67.098056</td>\n",
              "      <td>3</td>\n",
              "      <td>1388.48</td>\n",
              "      <td>5</td>\n",
              "      <td>2019</td>\n",
              "      <td>6</td>\n",
              "      <td>27</td>\n",
              "      <td>2520.742106</td>\n",
              "    </tr>\n",
              "    <tr>\n",
              "      <th>317</th>\n",
              "      <td>Flat</td>\n",
              "      <td>4100000</td>\n",
              "      <td>North Karachi</td>\n",
              "      <td>Karachi</td>\n",
              "      <td>24.965828</td>\n",
              "      <td>67.062515</td>\n",
              "      <td>2</td>\n",
              "      <td>925.65</td>\n",
              "      <td>4</td>\n",
              "      <td>2019</td>\n",
              "      <td>1</td>\n",
              "      <td>18</td>\n",
              "      <td>4429.319937</td>\n",
              "    </tr>\n",
              "    <tr>\n",
              "      <th>516</th>\n",
              "      <td>House</td>\n",
              "      <td>6000000</td>\n",
              "      <td>Raza Abad</td>\n",
              "      <td>Faisalabad</td>\n",
              "      <td>31.425990</td>\n",
              "      <td>73.048217</td>\n",
              "      <td>2</td>\n",
              "      <td>680.63</td>\n",
              "      <td>4</td>\n",
              "      <td>2019</td>\n",
              "      <td>6</td>\n",
              "      <td>19</td>\n",
              "      <td>8815.362238</td>\n",
              "    </tr>\n",
              "    <tr>\n",
              "      <th>644</th>\n",
              "      <td>House</td>\n",
              "      <td>7400000</td>\n",
              "      <td>Sadiqabad</td>\n",
              "      <td>Rawalpindi</td>\n",
              "      <td>33.632398</td>\n",
              "      <td>73.080733</td>\n",
              "      <td>2</td>\n",
              "      <td>1361.25</td>\n",
              "      <td>4</td>\n",
              "      <td>2019</td>\n",
              "      <td>7</td>\n",
              "      <td>5</td>\n",
              "      <td>5436.179982</td>\n",
              "    </tr>\n",
              "    <tr>\n",
              "      <th>1059</th>\n",
              "      <td>House</td>\n",
              "      <td>6500000</td>\n",
              "      <td>Mughalpura</td>\n",
              "      <td>Lahore</td>\n",
              "      <td>31.563398</td>\n",
              "      <td>74.389100</td>\n",
              "      <td>3</td>\n",
              "      <td>1089.00</td>\n",
              "      <td>5</td>\n",
              "      <td>2019</td>\n",
              "      <td>7</td>\n",
              "      <td>3</td>\n",
              "      <td>5968.778696</td>\n",
              "    </tr>\n",
              "    <tr>\n",
              "      <th>...</th>\n",
              "      <td>...</td>\n",
              "      <td>...</td>\n",
              "      <td>...</td>\n",
              "      <td>...</td>\n",
              "      <td>...</td>\n",
              "      <td>...</td>\n",
              "      <td>...</td>\n",
              "      <td>...</td>\n",
              "      <td>...</td>\n",
              "      <td>...</td>\n",
              "      <td>...</td>\n",
              "      <td>...</td>\n",
              "      <td>...</td>\n",
              "    </tr>\n",
              "    <tr>\n",
              "      <th>188424</th>\n",
              "      <td>House</td>\n",
              "      <td>11200000</td>\n",
              "      <td>I-10</td>\n",
              "      <td>Islamabad</td>\n",
              "      <td>33.642563</td>\n",
              "      <td>73.035994</td>\n",
              "      <td>2</td>\n",
              "      <td>1089.00</td>\n",
              "      <td>5</td>\n",
              "      <td>2019</td>\n",
              "      <td>7</td>\n",
              "      <td>23</td>\n",
              "      <td>10284.664830</td>\n",
              "    </tr>\n",
              "    <tr>\n",
              "      <th>189211</th>\n",
              "      <td>House</td>\n",
              "      <td>4490000</td>\n",
              "      <td>Omega Homes</td>\n",
              "      <td>Lahore</td>\n",
              "      <td>31.617847</td>\n",
              "      <td>74.217387</td>\n",
              "      <td>1</td>\n",
              "      <td>816.75</td>\n",
              "      <td>3</td>\n",
              "      <td>2019</td>\n",
              "      <td>7</td>\n",
              "      <td>23</td>\n",
              "      <td>5497.398225</td>\n",
              "    </tr>\n",
              "    <tr>\n",
              "      <th>189214</th>\n",
              "      <td>House</td>\n",
              "      <td>4490000</td>\n",
              "      <td>Omega Homes</td>\n",
              "      <td>Lahore</td>\n",
              "      <td>31.617847</td>\n",
              "      <td>74.217387</td>\n",
              "      <td>1</td>\n",
              "      <td>816.75</td>\n",
              "      <td>3</td>\n",
              "      <td>2019</td>\n",
              "      <td>7</td>\n",
              "      <td>23</td>\n",
              "      <td>5497.398225</td>\n",
              "    </tr>\n",
              "    <tr>\n",
              "      <th>189215</th>\n",
              "      <td>House</td>\n",
              "      <td>4490000</td>\n",
              "      <td>Omega Homes</td>\n",
              "      <td>Lahore</td>\n",
              "      <td>31.617847</td>\n",
              "      <td>74.217387</td>\n",
              "      <td>1</td>\n",
              "      <td>816.75</td>\n",
              "      <td>3</td>\n",
              "      <td>2019</td>\n",
              "      <td>7</td>\n",
              "      <td>23</td>\n",
              "      <td>5497.398225</td>\n",
              "    </tr>\n",
              "    <tr>\n",
              "      <th>189366</th>\n",
              "      <td>House</td>\n",
              "      <td>8000000</td>\n",
              "      <td>Mughalpura</td>\n",
              "      <td>Lahore</td>\n",
              "      <td>31.563398</td>\n",
              "      <td>74.389100</td>\n",
              "      <td>3</td>\n",
              "      <td>1361.25</td>\n",
              "      <td>5</td>\n",
              "      <td>2019</td>\n",
              "      <td>7</td>\n",
              "      <td>23</td>\n",
              "      <td>5876.951331</td>\n",
              "    </tr>\n",
              "  </tbody>\n",
              "</table>\n",
              "<p>1899 rows × 13 columns</p>\n",
              "</div>"
            ],
            "text/plain": [
              "       property_type     price  ... day price_per_sqft\n",
              "308             Flat   3500000  ...  27    2520.742106\n",
              "317             Flat   4100000  ...  18    4429.319937\n",
              "516            House   6000000  ...  19    8815.362238\n",
              "644            House   7400000  ...   5    5436.179982\n",
              "1059           House   6500000  ...   3    5968.778696\n",
              "...              ...       ...  ...  ..            ...\n",
              "188424         House  11200000  ...  23   10284.664830\n",
              "189211         House   4490000  ...  23    5497.398225\n",
              "189214         House   4490000  ...  23    5497.398225\n",
              "189215         House   4490000  ...  23    5497.398225\n",
              "189366         House   8000000  ...  23    5876.951331\n",
              "\n",
              "[1899 rows x 13 columns]"
            ]
          },
          "metadata": {
            "tags": []
          },
          "execution_count": 160
        }
      ]
    },
    {
      "cell_type": "code",
      "metadata": {
        "id": "00PC857jCkUL"
      },
      "source": [
        "ind=df7[((df7['bedrooms'])-(df7['baths'])) >=2].index\n",
        "df8 = df7.drop(ind)"
      ],
      "execution_count": null,
      "outputs": []
    },
    {
      "cell_type": "code",
      "metadata": {
        "colab": {
          "base_uri": "https://localhost:8080/"
        },
        "id": "DiSDhUEpJNfi",
        "outputId": "1065fad3-c1a7-47b4-c351-aded50fe16db"
      },
      "source": [
        "df8.shape"
      ],
      "execution_count": null,
      "outputs": [
        {
          "output_type": "execute_result",
          "data": {
            "text/plain": [
              "(67925, 13)"
            ]
          },
          "metadata": {
            "tags": []
          },
          "execution_count": 162
        }
      ]
    },
    {
      "cell_type": "code",
      "metadata": {
        "colab": {
          "base_uri": "https://localhost:8080/",
          "height": 414
        },
        "id": "FK1Ng_CIJYAh",
        "outputId": "0ac562a8-2788-4220-a29c-0296da9719d9"
      },
      "source": [
        "#same process for baths\n",
        "df8[((df8['baths'])-(df8['bedrooms'])) >=2]"
      ],
      "execution_count": null,
      "outputs": [
        {
          "output_type": "execute_result",
          "data": {
            "text/html": [
              "<div>\n",
              "<style scoped>\n",
              "    .dataframe tbody tr th:only-of-type {\n",
              "        vertical-align: middle;\n",
              "    }\n",
              "\n",
              "    .dataframe tbody tr th {\n",
              "        vertical-align: top;\n",
              "    }\n",
              "\n",
              "    .dataframe thead th {\n",
              "        text-align: right;\n",
              "    }\n",
              "</style>\n",
              "<table border=\"1\" class=\"dataframe\">\n",
              "  <thead>\n",
              "    <tr style=\"text-align: right;\">\n",
              "      <th></th>\n",
              "      <th>property_type</th>\n",
              "      <th>price</th>\n",
              "      <th>location</th>\n",
              "      <th>city</th>\n",
              "      <th>latitude</th>\n",
              "      <th>longitude</th>\n",
              "      <th>baths</th>\n",
              "      <th>area_sqft</th>\n",
              "      <th>bedrooms</th>\n",
              "      <th>year</th>\n",
              "      <th>month</th>\n",
              "      <th>day</th>\n",
              "      <th>price_per_sqft</th>\n",
              "    </tr>\n",
              "  </thead>\n",
              "  <tbody>\n",
              "    <tr>\n",
              "      <th>59</th>\n",
              "      <td>House</td>\n",
              "      <td>19200000</td>\n",
              "      <td>Architects Engineers Housing Society</td>\n",
              "      <td>Lahore</td>\n",
              "      <td>31.443749</td>\n",
              "      <td>74.259152</td>\n",
              "      <td>7</td>\n",
              "      <td>2722.51</td>\n",
              "      <td>5</td>\n",
              "      <td>2019</td>\n",
              "      <td>2</td>\n",
              "      <td>3</td>\n",
              "      <td>7052.315694</td>\n",
              "    </tr>\n",
              "    <tr>\n",
              "      <th>70</th>\n",
              "      <td>House</td>\n",
              "      <td>20000000</td>\n",
              "      <td>Bahria Town</td>\n",
              "      <td>Lahore</td>\n",
              "      <td>31.371080</td>\n",
              "      <td>74.190316</td>\n",
              "      <td>7</td>\n",
              "      <td>2722.51</td>\n",
              "      <td>5</td>\n",
              "      <td>2018</td>\n",
              "      <td>11</td>\n",
              "      <td>5</td>\n",
              "      <td>7346.162181</td>\n",
              "    </tr>\n",
              "    <tr>\n",
              "      <th>133</th>\n",
              "      <td>House</td>\n",
              "      <td>15500000</td>\n",
              "      <td>other</td>\n",
              "      <td>Lahore</td>\n",
              "      <td>31.409619</td>\n",
              "      <td>74.166126</td>\n",
              "      <td>5</td>\n",
              "      <td>2722.51</td>\n",
              "      <td>3</td>\n",
              "      <td>2019</td>\n",
              "      <td>4</td>\n",
              "      <td>4</td>\n",
              "      <td>5693.275690</td>\n",
              "    </tr>\n",
              "    <tr>\n",
              "      <th>153</th>\n",
              "      <td>House</td>\n",
              "      <td>23600000</td>\n",
              "      <td>DHA Defence</td>\n",
              "      <td>Lahore</td>\n",
              "      <td>31.462493</td>\n",
              "      <td>74.409342</td>\n",
              "      <td>6</td>\n",
              "      <td>2722.51</td>\n",
              "      <td>4</td>\n",
              "      <td>2019</td>\n",
              "      <td>7</td>\n",
              "      <td>3</td>\n",
              "      <td>8668.471374</td>\n",
              "    </tr>\n",
              "    <tr>\n",
              "      <th>412</th>\n",
              "      <td>Flat</td>\n",
              "      <td>13500000</td>\n",
              "      <td>DHA Defence</td>\n",
              "      <td>Islamabad</td>\n",
              "      <td>33.538087</td>\n",
              "      <td>73.164536</td>\n",
              "      <td>5</td>\n",
              "      <td>2722.51</td>\n",
              "      <td>3</td>\n",
              "      <td>2019</td>\n",
              "      <td>6</td>\n",
              "      <td>4</td>\n",
              "      <td>4958.659472</td>\n",
              "    </tr>\n",
              "    <tr>\n",
              "      <th>...</th>\n",
              "      <td>...</td>\n",
              "      <td>...</td>\n",
              "      <td>...</td>\n",
              "      <td>...</td>\n",
              "      <td>...</td>\n",
              "      <td>...</td>\n",
              "      <td>...</td>\n",
              "      <td>...</td>\n",
              "      <td>...</td>\n",
              "      <td>...</td>\n",
              "      <td>...</td>\n",
              "      <td>...</td>\n",
              "      <td>...</td>\n",
              "    </tr>\n",
              "    <tr>\n",
              "      <th>190283</th>\n",
              "      <td>House</td>\n",
              "      <td>15500000</td>\n",
              "      <td>G-13</td>\n",
              "      <td>Islamabad</td>\n",
              "      <td>33.650065</td>\n",
              "      <td>72.963681</td>\n",
              "      <td>5</td>\n",
              "      <td>1197.90</td>\n",
              "      <td>3</td>\n",
              "      <td>2019</td>\n",
              "      <td>7</td>\n",
              "      <td>24</td>\n",
              "      <td>12939.310460</td>\n",
              "    </tr>\n",
              "    <tr>\n",
              "      <th>190309</th>\n",
              "      <td>House</td>\n",
              "      <td>10800000</td>\n",
              "      <td>Bahria Town Rawalpindi</td>\n",
              "      <td>Rawalpindi</td>\n",
              "      <td>33.491160</td>\n",
              "      <td>73.093243</td>\n",
              "      <td>5</td>\n",
              "      <td>1361.25</td>\n",
              "      <td>3</td>\n",
              "      <td>2019</td>\n",
              "      <td>7</td>\n",
              "      <td>23</td>\n",
              "      <td>7933.884298</td>\n",
              "    </tr>\n",
              "    <tr>\n",
              "      <th>190311</th>\n",
              "      <td>House</td>\n",
              "      <td>11000000</td>\n",
              "      <td>Bahria Town Rawalpindi</td>\n",
              "      <td>Rawalpindi</td>\n",
              "      <td>33.491160</td>\n",
              "      <td>73.093243</td>\n",
              "      <td>5</td>\n",
              "      <td>1361.25</td>\n",
              "      <td>3</td>\n",
              "      <td>2019</td>\n",
              "      <td>7</td>\n",
              "      <td>23</td>\n",
              "      <td>8080.808081</td>\n",
              "    </tr>\n",
              "    <tr>\n",
              "      <th>190961</th>\n",
              "      <td>House</td>\n",
              "      <td>26000000</td>\n",
              "      <td>G-13</td>\n",
              "      <td>Islamabad</td>\n",
              "      <td>33.650065</td>\n",
              "      <td>72.963681</td>\n",
              "      <td>7</td>\n",
              "      <td>2178.01</td>\n",
              "      <td>5</td>\n",
              "      <td>2019</td>\n",
              "      <td>7</td>\n",
              "      <td>24</td>\n",
              "      <td>11937.502583</td>\n",
              "    </tr>\n",
              "    <tr>\n",
              "      <th>190974</th>\n",
              "      <td>House</td>\n",
              "      <td>26500000</td>\n",
              "      <td>G-13</td>\n",
              "      <td>Islamabad</td>\n",
              "      <td>33.650065</td>\n",
              "      <td>72.963681</td>\n",
              "      <td>7</td>\n",
              "      <td>2178.01</td>\n",
              "      <td>5</td>\n",
              "      <td>2019</td>\n",
              "      <td>7</td>\n",
              "      <td>24</td>\n",
              "      <td>12167.069940</td>\n",
              "    </tr>\n",
              "  </tbody>\n",
              "</table>\n",
              "<p>2681 rows × 13 columns</p>\n",
              "</div>"
            ],
            "text/plain": [
              "       property_type     price  ... day price_per_sqft\n",
              "59             House  19200000  ...   3    7052.315694\n",
              "70             House  20000000  ...   5    7346.162181\n",
              "133            House  15500000  ...   4    5693.275690\n",
              "153            House  23600000  ...   3    8668.471374\n",
              "412             Flat  13500000  ...   4    4958.659472\n",
              "...              ...       ...  ...  ..            ...\n",
              "190283         House  15500000  ...  24   12939.310460\n",
              "190309         House  10800000  ...  23    7933.884298\n",
              "190311         House  11000000  ...  23    8080.808081\n",
              "190961         House  26000000  ...  24   11937.502583\n",
              "190974         House  26500000  ...  24   12167.069940\n",
              "\n",
              "[2681 rows x 13 columns]"
            ]
          },
          "metadata": {
            "tags": []
          },
          "execution_count": 163
        }
      ]
    },
    {
      "cell_type": "code",
      "metadata": {
        "id": "oYqbwKSYJX46"
      },
      "source": [
        "ind=df8[((df8['baths'])-(df8['bedrooms'])) >=2].index\n",
        "df9 = df8.drop(ind)"
      ],
      "execution_count": null,
      "outputs": []
    },
    {
      "cell_type": "code",
      "metadata": {
        "colab": {
          "base_uri": "https://localhost:8080/"
        },
        "id": "dOs6Yy7gJvV5",
        "outputId": "7d7b572d-2c23-4f1b-bf37-2d0569be07f7"
      },
      "source": [
        "df9.shape"
      ],
      "execution_count": null,
      "outputs": [
        {
          "output_type": "execute_result",
          "data": {
            "text/plain": [
              "(65244, 13)"
            ]
          },
          "metadata": {
            "tags": []
          },
          "execution_count": 165
        }
      ]
    },
    {
      "cell_type": "code",
      "metadata": {
        "colab": {
          "base_uri": "https://localhost:8080/",
          "height": 318
        },
        "id": "cUVv48eqzEZz",
        "outputId": "cdd9f9df-087b-4245-adb0-2684eb1b0410"
      },
      "source": [
        "draw_plots(df9,['price','baths'])"
      ],
      "execution_count": null,
      "outputs": [
        {
          "output_type": "display_data",
          "data": {
            "image/png": "[encoded data removed]",
            "text/plain": [
              "<Figure size 1152x360 with 2 Axes>"
            ]
          },
          "metadata": {
            "tags": []
          }
        }
      ]
    },
    {
      "cell_type": "code",
      "metadata": {
        "colab": {
          "base_uri": "https://localhost:8080/",
          "height": 318
        },
        "id": "Xi2HieGKO2Ky",
        "outputId": "17e4fd69-10fe-465d-c6fb-648389d7cb4a"
      },
      "source": [
        "draw_plots(df6,['price','area_sqft','baths','bedrooms','price_per_sqft'])"
      ],
      "execution_count": null,
      "outputs": [
        {
          "output_type": "display_data",
          "data": {
            "image/png": "[encoded data removed]",
            "text/plain": [
              "<Figure size 1152x360 with 5 Axes>"
            ]
          },
          "metadata": {
            "tags": []
          }
        }
      ]
    },
    {
      "cell_type": "code",
      "metadata": {
        "colab": {
          "base_uri": "https://localhost:8080/"
        },
        "id": "5XOsjJXezuaO",
        "outputId": "67aebf8a-9e54-4387-f58c-6b0bbb23750d"
      },
      "source": [
        "df9.shape"
      ],
      "execution_count": null,
      "outputs": [
        {
          "output_type": "execute_result",
          "data": {
            "text/plain": [
              "(65244, 13)"
            ]
          },
          "metadata": {
            "tags": []
          },
          "execution_count": 168
        }
      ]
    },
    {
      "cell_type": "code",
      "metadata": {
        "id": "mi-m9hJ2PYNP"
      },
      "source": [
        "# df10 = remove_outlier(df9, ['price']),'price_per_sqft'])\n",
        "# df7.shape"
      ],
      "execution_count": null,
      "outputs": []
    },
    {
      "cell_type": "code",
      "metadata": {
        "id": "_h06jQ89z0o_"
      },
      "source": [
        "# draw_plots(df9,['price','area_sqft','baths','bedrooms','price_per_sqft'])"
      ],
      "execution_count": null,
      "outputs": []
    },
    {
      "cell_type": "code",
      "metadata": {
        "id": "FEqLMYkq2V0-"
      },
      "source": [
        "#some time there are some limit of outlier after you can not remove it using IQR\n",
        "# df8 = remove_outlier(df9, ['price'])\n",
        "# df8.shape"
      ],
      "execution_count": null,
      "outputs": []
    },
    {
      "cell_type": "code",
      "metadata": {
        "id": "bOchVAW8P8-s",
        "colab": {
          "base_uri": "https://localhost:8080/",
          "height": 622
        },
        "outputId": "80179e34-8551-4a88-8281-dea8f3e5c086"
      },
      "source": [
        "figure = (14,10)\n",
        "fig, dim = plt.subplots(figsize=figure)\n",
        "b=sns.heatmap(df9.corr(),cmap=\"YlGnBu\")\n",
        "b.axes.set_title('correlation',fontsize=24)\n",
        "b.set_xlabel('',fontsize=14)\n",
        "b.set_ylabel('',fontsize=14)\n",
        "b.tick_params(labelsize=12)"
      ],
      "execution_count": null,
      "outputs": [
        {
          "output_type": "display_data",
          "data": {
            "image/png": "[encoded data removed]",
            "text/plain": [
              "<Figure size 1008x720 with 2 Axes>"
            ]
          },
          "metadata": {
            "tags": []
          }
        }
      ]
    },
    {
      "cell_type": "markdown",
      "metadata": {
        "id": "nKgokRyBUNSl"
      },
      "source": [
        "# One hot encodinge\n",
        "we could use TF-IDF, bag of word etc but these techniques are much useful while text mining, classification, analysis, but here we are just marking these values(labels) because feature has importance here in prediction. One hone encodine save labels in binary form."
      ]
    },
    {
      "cell_type": "code",
      "metadata": {
        "colab": {
          "base_uri": "https://localhost:8080/",
          "height": 501
        },
        "id": "7rjoA8I-QwUi",
        "outputId": "8ec961e1-d907-4d1f-a7c9-3af841cdec02"
      },
      "source": [
        "one_hot_encoded_data = pd.get_dummies(df9.location)\n",
        "one_hot_encoded_data"
      ],
      "execution_count": null,
      "outputs": [
        {
          "output_type": "execute_result",
          "data": {
            "text/html": [
              "<div>\n",
              "<style scoped>\n",
              "    .dataframe tbody tr th:only-of-type {\n",
              "        vertical-align: middle;\n",
              "    }\n",
              "\n",
              "    .dataframe tbody tr th {\n",
              "        vertical-align: top;\n",
              "    }\n",
              "\n",
              "    .dataframe thead th {\n",
              "        text-align: right;\n",
              "    }\n",
              "</style>\n",
              "<table border=\"1\" class=\"dataframe\">\n",
              "  <thead>\n",
              "    <tr style=\"text-align: right;\">\n",
              "      <th></th>\n",
              "      <th>ASF Tower</th>\n",
              "      <th>AWT Army Welfare Trust</th>\n",
              "      <th>Aashiana Road</th>\n",
              "      <th>Abdalians Cooperative Housing Society</th>\n",
              "      <th>Abul Hassan Isphani Road</th>\n",
              "      <th>Adiala Road</th>\n",
              "      <th>Afshan Colony</th>\n",
              "      <th>Ahmadabad</th>\n",
              "      <th>Airline Housing Society</th>\n",
              "      <th>Airport</th>\n",
              "      <th>Airport Housing Society</th>\n",
              "      <th>Airport Road</th>\n",
              "      <th>Aisha Manzil</th>\n",
              "      <th>Aitchison Society</th>\n",
              "      <th>Al Faisal Town</th>\n",
              "      <th>Al Fayaz Colony</th>\n",
              "      <th>Al Hafeez Gardens</th>\n",
              "      <th>Al Hamad Colony</th>\n",
              "      <th>Al Jalil Garden</th>\n",
              "      <th>Al Kareem Garden</th>\n",
              "      <th>Al Najaf Colony</th>\n",
              "      <th>Al Noor Garden</th>\n",
              "      <th>Al Rehman Garden</th>\n",
              "      <th>Al-Hafiz Town</th>\n",
              "      <th>Al-Hamad Colony (AIT)</th>\n",
              "      <th>Al-Hamd Park</th>\n",
              "      <th>Al-Jannat Housing Society - Kahna</th>\n",
              "      <th>Al-Kabir Town</th>\n",
              "      <th>Al-Noor Colony</th>\n",
              "      <th>Alfalah Town</th>\n",
              "      <th>Ali Alam Garden</th>\n",
              "      <th>Ali Pur</th>\n",
              "      <th>Ali Town</th>\n",
              "      <th>Ali View Garden</th>\n",
              "      <th>Ali View Park</th>\n",
              "      <th>Alipur Farash</th>\n",
              "      <th>Allahabad Road</th>\n",
              "      <th>Allama Iqbal Colony</th>\n",
              "      <th>Allama Iqbal Road</th>\n",
              "      <th>Allama Iqbal Town</th>\n",
              "      <th>...</th>\n",
              "      <th>Suparco Road</th>\n",
              "      <th>Super Highway</th>\n",
              "      <th>Super Town</th>\n",
              "      <th>Swan Garden</th>\n",
              "      <th>T &amp; T Aabpara Housing Society</th>\n",
              "      <th>Taj Bagh Scheme</th>\n",
              "      <th>Tajpura</th>\n",
              "      <th>Taramrri</th>\n",
              "      <th>Tariq Gardens</th>\n",
              "      <th>Tariq Road</th>\n",
              "      <th>Tarlai</th>\n",
              "      <th>Tarnol</th>\n",
              "      <th>Tarogill</th>\n",
              "      <th>Tench Bhata</th>\n",
              "      <th>Thanda Pani</th>\n",
              "      <th>The Springs</th>\n",
              "      <th>Thokar Niaz Baig</th>\n",
              "      <th>Township</th>\n",
              "      <th>Transformer Chowk</th>\n",
              "      <th>Tulsa Road</th>\n",
              "      <th>UET Housing Society</th>\n",
              "      <th>University Road</th>\n",
              "      <th>Valencia Housing Society</th>\n",
              "      <th>Wafaqi Colony</th>\n",
              "      <th>Wahdat Colony</th>\n",
              "      <th>Wahdat Road</th>\n",
              "      <th>Walled City</th>\n",
              "      <th>Walton Road</th>\n",
              "      <th>Wapda City</th>\n",
              "      <th>Wapda Town</th>\n",
              "      <th>Wassanpura</th>\n",
              "      <th>Wazir Town</th>\n",
              "      <th>Westridge</th>\n",
              "      <th>Yousaf Colony</th>\n",
              "      <th>Yousaf Town</th>\n",
              "      <th>Zaheer Villas</th>\n",
              "      <th>Zaitoon - New Lahore City</th>\n",
              "      <th>Zaraj Housing Scheme</th>\n",
              "      <th>Zubaida Park</th>\n",
              "      <th>other</th>\n",
              "    </tr>\n",
              "  </thead>\n",
              "  <tbody>\n",
              "    <tr>\n",
              "      <th>4</th>\n",
              "      <td>0</td>\n",
              "      <td>0</td>\n",
              "      <td>0</td>\n",
              "      <td>0</td>\n",
              "      <td>0</td>\n",
              "      <td>0</td>\n",
              "      <td>0</td>\n",
              "      <td>0</td>\n",
              "      <td>0</td>\n",
              "      <td>0</td>\n",
              "      <td>0</td>\n",
              "      <td>0</td>\n",
              "      <td>0</td>\n",
              "      <td>0</td>\n",
              "      <td>0</td>\n",
              "      <td>0</td>\n",
              "      <td>0</td>\n",
              "      <td>0</td>\n",
              "      <td>0</td>\n",
              "      <td>0</td>\n",
              "      <td>0</td>\n",
              "      <td>0</td>\n",
              "      <td>0</td>\n",
              "      <td>0</td>\n",
              "      <td>0</td>\n",
              "      <td>0</td>\n",
              "      <td>0</td>\n",
              "      <td>0</td>\n",
              "      <td>0</td>\n",
              "      <td>0</td>\n",
              "      <td>0</td>\n",
              "      <td>0</td>\n",
              "      <td>0</td>\n",
              "      <td>0</td>\n",
              "      <td>0</td>\n",
              "      <td>0</td>\n",
              "      <td>0</td>\n",
              "      <td>0</td>\n",
              "      <td>0</td>\n",
              "      <td>1</td>\n",
              "      <td>...</td>\n",
              "      <td>0</td>\n",
              "      <td>0</td>\n",
              "      <td>0</td>\n",
              "      <td>0</td>\n",
              "      <td>0</td>\n",
              "      <td>0</td>\n",
              "      <td>0</td>\n",
              "      <td>0</td>\n",
              "      <td>0</td>\n",
              "      <td>0</td>\n",
              "      <td>0</td>\n",
              "      <td>0</td>\n",
              "      <td>0</td>\n",
              "      <td>0</td>\n",
              "      <td>0</td>\n",
              "      <td>0</td>\n",
              "      <td>0</td>\n",
              "      <td>0</td>\n",
              "      <td>0</td>\n",
              "      <td>0</td>\n",
              "      <td>0</td>\n",
              "      <td>0</td>\n",
              "      <td>0</td>\n",
              "      <td>0</td>\n",
              "      <td>0</td>\n",
              "      <td>0</td>\n",
              "      <td>0</td>\n",
              "      <td>0</td>\n",
              "      <td>0</td>\n",
              "      <td>0</td>\n",
              "      <td>0</td>\n",
              "      <td>0</td>\n",
              "      <td>0</td>\n",
              "      <td>0</td>\n",
              "      <td>0</td>\n",
              "      <td>0</td>\n",
              "      <td>0</td>\n",
              "      <td>0</td>\n",
              "      <td>0</td>\n",
              "      <td>0</td>\n",
              "    </tr>\n",
              "    <tr>\n",
              "      <th>6</th>\n",
              "      <td>0</td>\n",
              "      <td>0</td>\n",
              "      <td>0</td>\n",
              "      <td>0</td>\n",
              "      <td>0</td>\n",
              "      <td>0</td>\n",
              "      <td>0</td>\n",
              "      <td>0</td>\n",
              "      <td>0</td>\n",
              "      <td>0</td>\n",
              "      <td>0</td>\n",
              "      <td>0</td>\n",
              "      <td>0</td>\n",
              "      <td>0</td>\n",
              "      <td>0</td>\n",
              "      <td>0</td>\n",
              "      <td>0</td>\n",
              "      <td>0</td>\n",
              "      <td>0</td>\n",
              "      <td>0</td>\n",
              "      <td>0</td>\n",
              "      <td>0</td>\n",
              "      <td>0</td>\n",
              "      <td>0</td>\n",
              "      <td>0</td>\n",
              "      <td>0</td>\n",
              "      <td>0</td>\n",
              "      <td>0</td>\n",
              "      <td>0</td>\n",
              "      <td>0</td>\n",
              "      <td>0</td>\n",
              "      <td>0</td>\n",
              "      <td>0</td>\n",
              "      <td>0</td>\n",
              "      <td>0</td>\n",
              "      <td>0</td>\n",
              "      <td>0</td>\n",
              "      <td>0</td>\n",
              "      <td>0</td>\n",
              "      <td>0</td>\n",
              "      <td>...</td>\n",
              "      <td>0</td>\n",
              "      <td>0</td>\n",
              "      <td>0</td>\n",
              "      <td>0</td>\n",
              "      <td>0</td>\n",
              "      <td>0</td>\n",
              "      <td>0</td>\n",
              "      <td>0</td>\n",
              "      <td>0</td>\n",
              "      <td>0</td>\n",
              "      <td>0</td>\n",
              "      <td>0</td>\n",
              "      <td>0</td>\n",
              "      <td>0</td>\n",
              "      <td>0</td>\n",
              "      <td>0</td>\n",
              "      <td>0</td>\n",
              "      <td>0</td>\n",
              "      <td>0</td>\n",
              "      <td>0</td>\n",
              "      <td>0</td>\n",
              "      <td>0</td>\n",
              "      <td>0</td>\n",
              "      <td>0</td>\n",
              "      <td>0</td>\n",
              "      <td>0</td>\n",
              "      <td>0</td>\n",
              "      <td>0</td>\n",
              "      <td>0</td>\n",
              "      <td>0</td>\n",
              "      <td>0</td>\n",
              "      <td>0</td>\n",
              "      <td>0</td>\n",
              "      <td>0</td>\n",
              "      <td>0</td>\n",
              "      <td>0</td>\n",
              "      <td>0</td>\n",
              "      <td>0</td>\n",
              "      <td>0</td>\n",
              "      <td>0</td>\n",
              "    </tr>\n",
              "    <tr>\n",
              "      <th>10</th>\n",
              "      <td>0</td>\n",
              "      <td>0</td>\n",
              "      <td>0</td>\n",
              "      <td>0</td>\n",
              "      <td>0</td>\n",
              "      <td>0</td>\n",
              "      <td>0</td>\n",
              "      <td>0</td>\n",
              "      <td>0</td>\n",
              "      <td>0</td>\n",
              "      <td>0</td>\n",
              "      <td>0</td>\n",
              "      <td>0</td>\n",
              "      <td>0</td>\n",
              "      <td>0</td>\n",
              "      <td>0</td>\n",
              "      <td>0</td>\n",
              "      <td>0</td>\n",
              "      <td>0</td>\n",
              "      <td>0</td>\n",
              "      <td>0</td>\n",
              "      <td>0</td>\n",
              "      <td>0</td>\n",
              "      <td>0</td>\n",
              "      <td>0</td>\n",
              "      <td>0</td>\n",
              "      <td>0</td>\n",
              "      <td>0</td>\n",
              "      <td>0</td>\n",
              "      <td>0</td>\n",
              "      <td>0</td>\n",
              "      <td>0</td>\n",
              "      <td>0</td>\n",
              "      <td>0</td>\n",
              "      <td>0</td>\n",
              "      <td>0</td>\n",
              "      <td>0</td>\n",
              "      <td>0</td>\n",
              "      <td>0</td>\n",
              "      <td>0</td>\n",
              "      <td>...</td>\n",
              "      <td>0</td>\n",
              "      <td>0</td>\n",
              "      <td>0</td>\n",
              "      <td>0</td>\n",
              "      <td>0</td>\n",
              "      <td>0</td>\n",
              "      <td>0</td>\n",
              "      <td>0</td>\n",
              "      <td>0</td>\n",
              "      <td>0</td>\n",
              "      <td>0</td>\n",
              "      <td>0</td>\n",
              "      <td>0</td>\n",
              "      <td>0</td>\n",
              "      <td>0</td>\n",
              "      <td>0</td>\n",
              "      <td>0</td>\n",
              "      <td>0</td>\n",
              "      <td>0</td>\n",
              "      <td>0</td>\n",
              "      <td>0</td>\n",
              "      <td>0</td>\n",
              "      <td>0</td>\n",
              "      <td>0</td>\n",
              "      <td>0</td>\n",
              "      <td>0</td>\n",
              "      <td>0</td>\n",
              "      <td>0</td>\n",
              "      <td>0</td>\n",
              "      <td>0</td>\n",
              "      <td>0</td>\n",
              "      <td>0</td>\n",
              "      <td>0</td>\n",
              "      <td>0</td>\n",
              "      <td>0</td>\n",
              "      <td>0</td>\n",
              "      <td>0</td>\n",
              "      <td>0</td>\n",
              "      <td>0</td>\n",
              "      <td>0</td>\n",
              "    </tr>\n",
              "    <tr>\n",
              "      <th>12</th>\n",
              "      <td>0</td>\n",
              "      <td>0</td>\n",
              "      <td>0</td>\n",
              "      <td>0</td>\n",
              "      <td>0</td>\n",
              "      <td>0</td>\n",
              "      <td>0</td>\n",
              "      <td>0</td>\n",
              "      <td>0</td>\n",
              "      <td>0</td>\n",
              "      <td>0</td>\n",
              "      <td>0</td>\n",
              "      <td>0</td>\n",
              "      <td>0</td>\n",
              "      <td>0</td>\n",
              "      <td>0</td>\n",
              "      <td>0</td>\n",
              "      <td>0</td>\n",
              "      <td>0</td>\n",
              "      <td>0</td>\n",
              "      <td>0</td>\n",
              "      <td>0</td>\n",
              "      <td>0</td>\n",
              "      <td>0</td>\n",
              "      <td>0</td>\n",
              "      <td>0</td>\n",
              "      <td>0</td>\n",
              "      <td>0</td>\n",
              "      <td>0</td>\n",
              "      <td>0</td>\n",
              "      <td>0</td>\n",
              "      <td>0</td>\n",
              "      <td>0</td>\n",
              "      <td>0</td>\n",
              "      <td>0</td>\n",
              "      <td>0</td>\n",
              "      <td>0</td>\n",
              "      <td>0</td>\n",
              "      <td>0</td>\n",
              "      <td>0</td>\n",
              "      <td>...</td>\n",
              "      <td>0</td>\n",
              "      <td>0</td>\n",
              "      <td>0</td>\n",
              "      <td>0</td>\n",
              "      <td>0</td>\n",
              "      <td>0</td>\n",
              "      <td>0</td>\n",
              "      <td>0</td>\n",
              "      <td>0</td>\n",
              "      <td>0</td>\n",
              "      <td>0</td>\n",
              "      <td>0</td>\n",
              "      <td>0</td>\n",
              "      <td>0</td>\n",
              "      <td>0</td>\n",
              "      <td>0</td>\n",
              "      <td>0</td>\n",
              "      <td>0</td>\n",
              "      <td>0</td>\n",
              "      <td>0</td>\n",
              "      <td>0</td>\n",
              "      <td>0</td>\n",
              "      <td>0</td>\n",
              "      <td>0</td>\n",
              "      <td>0</td>\n",
              "      <td>0</td>\n",
              "      <td>0</td>\n",
              "      <td>0</td>\n",
              "      <td>0</td>\n",
              "      <td>0</td>\n",
              "      <td>0</td>\n",
              "      <td>0</td>\n",
              "      <td>0</td>\n",
              "      <td>0</td>\n",
              "      <td>0</td>\n",
              "      <td>0</td>\n",
              "      <td>0</td>\n",
              "      <td>0</td>\n",
              "      <td>0</td>\n",
              "      <td>0</td>\n",
              "    </tr>\n",
              "    <tr>\n",
              "      <th>15</th>\n",
              "      <td>0</td>\n",
              "      <td>0</td>\n",
              "      <td>0</td>\n",
              "      <td>0</td>\n",
              "      <td>0</td>\n",
              "      <td>0</td>\n",
              "      <td>0</td>\n",
              "      <td>0</td>\n",
              "      <td>0</td>\n",
              "      <td>0</td>\n",
              "      <td>0</td>\n",
              "      <td>0</td>\n",
              "      <td>0</td>\n",
              "      <td>0</td>\n",
              "      <td>0</td>\n",
              "      <td>0</td>\n",
              "      <td>0</td>\n",
              "      <td>0</td>\n",
              "      <td>0</td>\n",
              "      <td>0</td>\n",
              "      <td>0</td>\n",
              "      <td>0</td>\n",
              "      <td>0</td>\n",
              "      <td>0</td>\n",
              "      <td>0</td>\n",
              "      <td>0</td>\n",
              "      <td>0</td>\n",
              "      <td>0</td>\n",
              "      <td>0</td>\n",
              "      <td>0</td>\n",
              "      <td>0</td>\n",
              "      <td>0</td>\n",
              "      <td>0</td>\n",
              "      <td>0</td>\n",
              "      <td>0</td>\n",
              "      <td>0</td>\n",
              "      <td>0</td>\n",
              "      <td>0</td>\n",
              "      <td>0</td>\n",
              "      <td>0</td>\n",
              "      <td>...</td>\n",
              "      <td>0</td>\n",
              "      <td>0</td>\n",
              "      <td>0</td>\n",
              "      <td>0</td>\n",
              "      <td>0</td>\n",
              "      <td>0</td>\n",
              "      <td>0</td>\n",
              "      <td>0</td>\n",
              "      <td>0</td>\n",
              "      <td>0</td>\n",
              "      <td>0</td>\n",
              "      <td>0</td>\n",
              "      <td>0</td>\n",
              "      <td>0</td>\n",
              "      <td>0</td>\n",
              "      <td>0</td>\n",
              "      <td>0</td>\n",
              "      <td>0</td>\n",
              "      <td>0</td>\n",
              "      <td>0</td>\n",
              "      <td>0</td>\n",
              "      <td>0</td>\n",
              "      <td>0</td>\n",
              "      <td>0</td>\n",
              "      <td>0</td>\n",
              "      <td>0</td>\n",
              "      <td>0</td>\n",
              "      <td>0</td>\n",
              "      <td>0</td>\n",
              "      <td>0</td>\n",
              "      <td>0</td>\n",
              "      <td>0</td>\n",
              "      <td>0</td>\n",
              "      <td>0</td>\n",
              "      <td>0</td>\n",
              "      <td>0</td>\n",
              "      <td>0</td>\n",
              "      <td>0</td>\n",
              "      <td>0</td>\n",
              "      <td>0</td>\n",
              "    </tr>\n",
              "    <tr>\n",
              "      <th>...</th>\n",
              "      <td>...</td>\n",
              "      <td>...</td>\n",
              "      <td>...</td>\n",
              "      <td>...</td>\n",
              "      <td>...</td>\n",
              "      <td>...</td>\n",
              "      <td>...</td>\n",
              "      <td>...</td>\n",
              "      <td>...</td>\n",
              "      <td>...</td>\n",
              "      <td>...</td>\n",
              "      <td>...</td>\n",
              "      <td>...</td>\n",
              "      <td>...</td>\n",
              "      <td>...</td>\n",
              "      <td>...</td>\n",
              "      <td>...</td>\n",
              "      <td>...</td>\n",
              "      <td>...</td>\n",
              "      <td>...</td>\n",
              "      <td>...</td>\n",
              "      <td>...</td>\n",
              "      <td>...</td>\n",
              "      <td>...</td>\n",
              "      <td>...</td>\n",
              "      <td>...</td>\n",
              "      <td>...</td>\n",
              "      <td>...</td>\n",
              "      <td>...</td>\n",
              "      <td>...</td>\n",
              "      <td>...</td>\n",
              "      <td>...</td>\n",
              "      <td>...</td>\n",
              "      <td>...</td>\n",
              "      <td>...</td>\n",
              "      <td>...</td>\n",
              "      <td>...</td>\n",
              "      <td>...</td>\n",
              "      <td>...</td>\n",
              "      <td>...</td>\n",
              "      <td>...</td>\n",
              "      <td>...</td>\n",
              "      <td>...</td>\n",
              "      <td>...</td>\n",
              "      <td>...</td>\n",
              "      <td>...</td>\n",
              "      <td>...</td>\n",
              "      <td>...</td>\n",
              "      <td>...</td>\n",
              "      <td>...</td>\n",
              "      <td>...</td>\n",
              "      <td>...</td>\n",
              "      <td>...</td>\n",
              "      <td>...</td>\n",
              "      <td>...</td>\n",
              "      <td>...</td>\n",
              "      <td>...</td>\n",
              "      <td>...</td>\n",
              "      <td>...</td>\n",
              "      <td>...</td>\n",
              "      <td>...</td>\n",
              "      <td>...</td>\n",
              "      <td>...</td>\n",
              "      <td>...</td>\n",
              "      <td>...</td>\n",
              "      <td>...</td>\n",
              "      <td>...</td>\n",
              "      <td>...</td>\n",
              "      <td>...</td>\n",
              "      <td>...</td>\n",
              "      <td>...</td>\n",
              "      <td>...</td>\n",
              "      <td>...</td>\n",
              "      <td>...</td>\n",
              "      <td>...</td>\n",
              "      <td>...</td>\n",
              "      <td>...</td>\n",
              "      <td>...</td>\n",
              "      <td>...</td>\n",
              "      <td>...</td>\n",
              "      <td>...</td>\n",
              "    </tr>\n",
              "    <tr>\n",
              "      <th>190966</th>\n",
              "      <td>0</td>\n",
              "      <td>0</td>\n",
              "      <td>0</td>\n",
              "      <td>0</td>\n",
              "      <td>0</td>\n",
              "      <td>0</td>\n",
              "      <td>0</td>\n",
              "      <td>0</td>\n",
              "      <td>0</td>\n",
              "      <td>0</td>\n",
              "      <td>0</td>\n",
              "      <td>0</td>\n",
              "      <td>0</td>\n",
              "      <td>0</td>\n",
              "      <td>0</td>\n",
              "      <td>0</td>\n",
              "      <td>0</td>\n",
              "      <td>0</td>\n",
              "      <td>0</td>\n",
              "      <td>0</td>\n",
              "      <td>0</td>\n",
              "      <td>0</td>\n",
              "      <td>0</td>\n",
              "      <td>0</td>\n",
              "      <td>0</td>\n",
              "      <td>0</td>\n",
              "      <td>0</td>\n",
              "      <td>0</td>\n",
              "      <td>0</td>\n",
              "      <td>0</td>\n",
              "      <td>0</td>\n",
              "      <td>0</td>\n",
              "      <td>0</td>\n",
              "      <td>0</td>\n",
              "      <td>0</td>\n",
              "      <td>0</td>\n",
              "      <td>0</td>\n",
              "      <td>0</td>\n",
              "      <td>0</td>\n",
              "      <td>0</td>\n",
              "      <td>...</td>\n",
              "      <td>0</td>\n",
              "      <td>0</td>\n",
              "      <td>0</td>\n",
              "      <td>0</td>\n",
              "      <td>0</td>\n",
              "      <td>0</td>\n",
              "      <td>0</td>\n",
              "      <td>0</td>\n",
              "      <td>0</td>\n",
              "      <td>0</td>\n",
              "      <td>0</td>\n",
              "      <td>0</td>\n",
              "      <td>0</td>\n",
              "      <td>0</td>\n",
              "      <td>0</td>\n",
              "      <td>0</td>\n",
              "      <td>0</td>\n",
              "      <td>0</td>\n",
              "      <td>0</td>\n",
              "      <td>0</td>\n",
              "      <td>0</td>\n",
              "      <td>0</td>\n",
              "      <td>0</td>\n",
              "      <td>0</td>\n",
              "      <td>0</td>\n",
              "      <td>0</td>\n",
              "      <td>0</td>\n",
              "      <td>0</td>\n",
              "      <td>0</td>\n",
              "      <td>0</td>\n",
              "      <td>0</td>\n",
              "      <td>0</td>\n",
              "      <td>0</td>\n",
              "      <td>0</td>\n",
              "      <td>0</td>\n",
              "      <td>0</td>\n",
              "      <td>0</td>\n",
              "      <td>0</td>\n",
              "      <td>0</td>\n",
              "      <td>0</td>\n",
              "    </tr>\n",
              "    <tr>\n",
              "      <th>190967</th>\n",
              "      <td>0</td>\n",
              "      <td>0</td>\n",
              "      <td>0</td>\n",
              "      <td>0</td>\n",
              "      <td>0</td>\n",
              "      <td>0</td>\n",
              "      <td>0</td>\n",
              "      <td>0</td>\n",
              "      <td>0</td>\n",
              "      <td>0</td>\n",
              "      <td>0</td>\n",
              "      <td>0</td>\n",
              "      <td>0</td>\n",
              "      <td>0</td>\n",
              "      <td>0</td>\n",
              "      <td>0</td>\n",
              "      <td>0</td>\n",
              "      <td>0</td>\n",
              "      <td>0</td>\n",
              "      <td>0</td>\n",
              "      <td>0</td>\n",
              "      <td>0</td>\n",
              "      <td>0</td>\n",
              "      <td>0</td>\n",
              "      <td>0</td>\n",
              "      <td>0</td>\n",
              "      <td>0</td>\n",
              "      <td>0</td>\n",
              "      <td>0</td>\n",
              "      <td>0</td>\n",
              "      <td>0</td>\n",
              "      <td>0</td>\n",
              "      <td>0</td>\n",
              "      <td>0</td>\n",
              "      <td>0</td>\n",
              "      <td>0</td>\n",
              "      <td>0</td>\n",
              "      <td>0</td>\n",
              "      <td>0</td>\n",
              "      <td>0</td>\n",
              "      <td>...</td>\n",
              "      <td>0</td>\n",
              "      <td>0</td>\n",
              "      <td>0</td>\n",
              "      <td>0</td>\n",
              "      <td>0</td>\n",
              "      <td>0</td>\n",
              "      <td>0</td>\n",
              "      <td>0</td>\n",
              "      <td>0</td>\n",
              "      <td>0</td>\n",
              "      <td>0</td>\n",
              "      <td>0</td>\n",
              "      <td>0</td>\n",
              "      <td>0</td>\n",
              "      <td>0</td>\n",
              "      <td>0</td>\n",
              "      <td>0</td>\n",
              "      <td>0</td>\n",
              "      <td>0</td>\n",
              "      <td>0</td>\n",
              "      <td>0</td>\n",
              "      <td>0</td>\n",
              "      <td>0</td>\n",
              "      <td>0</td>\n",
              "      <td>0</td>\n",
              "      <td>0</td>\n",
              "      <td>0</td>\n",
              "      <td>0</td>\n",
              "      <td>0</td>\n",
              "      <td>0</td>\n",
              "      <td>0</td>\n",
              "      <td>0</td>\n",
              "      <td>0</td>\n",
              "      <td>0</td>\n",
              "      <td>0</td>\n",
              "      <td>0</td>\n",
              "      <td>0</td>\n",
              "      <td>0</td>\n",
              "      <td>0</td>\n",
              "      <td>0</td>\n",
              "    </tr>\n",
              "    <tr>\n",
              "      <th>190969</th>\n",
              "      <td>0</td>\n",
              "      <td>0</td>\n",
              "      <td>0</td>\n",
              "      <td>0</td>\n",
              "      <td>0</td>\n",
              "      <td>0</td>\n",
              "      <td>0</td>\n",
              "      <td>0</td>\n",
              "      <td>0</td>\n",
              "      <td>0</td>\n",
              "      <td>0</td>\n",
              "      <td>0</td>\n",
              "      <td>0</td>\n",
              "      <td>0</td>\n",
              "      <td>0</td>\n",
              "      <td>0</td>\n",
              "      <td>0</td>\n",
              "      <td>0</td>\n",
              "      <td>0</td>\n",
              "      <td>0</td>\n",
              "      <td>0</td>\n",
              "      <td>0</td>\n",
              "      <td>0</td>\n",
              "      <td>0</td>\n",
              "      <td>0</td>\n",
              "      <td>0</td>\n",
              "      <td>0</td>\n",
              "      <td>0</td>\n",
              "      <td>0</td>\n",
              "      <td>0</td>\n",
              "      <td>0</td>\n",
              "      <td>0</td>\n",
              "      <td>0</td>\n",
              "      <td>0</td>\n",
              "      <td>0</td>\n",
              "      <td>0</td>\n",
              "      <td>0</td>\n",
              "      <td>0</td>\n",
              "      <td>0</td>\n",
              "      <td>0</td>\n",
              "      <td>...</td>\n",
              "      <td>0</td>\n",
              "      <td>0</td>\n",
              "      <td>0</td>\n",
              "      <td>0</td>\n",
              "      <td>0</td>\n",
              "      <td>0</td>\n",
              "      <td>0</td>\n",
              "      <td>0</td>\n",
              "      <td>0</td>\n",
              "      <td>0</td>\n",
              "      <td>0</td>\n",
              "      <td>0</td>\n",
              "      <td>0</td>\n",
              "      <td>0</td>\n",
              "      <td>0</td>\n",
              "      <td>0</td>\n",
              "      <td>0</td>\n",
              "      <td>0</td>\n",
              "      <td>0</td>\n",
              "      <td>0</td>\n",
              "      <td>0</td>\n",
              "      <td>0</td>\n",
              "      <td>0</td>\n",
              "      <td>0</td>\n",
              "      <td>0</td>\n",
              "      <td>0</td>\n",
              "      <td>0</td>\n",
              "      <td>0</td>\n",
              "      <td>0</td>\n",
              "      <td>0</td>\n",
              "      <td>0</td>\n",
              "      <td>0</td>\n",
              "      <td>0</td>\n",
              "      <td>0</td>\n",
              "      <td>0</td>\n",
              "      <td>0</td>\n",
              "      <td>0</td>\n",
              "      <td>0</td>\n",
              "      <td>0</td>\n",
              "      <td>0</td>\n",
              "    </tr>\n",
              "    <tr>\n",
              "      <th>190970</th>\n",
              "      <td>0</td>\n",
              "      <td>0</td>\n",
              "      <td>0</td>\n",
              "      <td>0</td>\n",
              "      <td>0</td>\n",
              "      <td>0</td>\n",
              "      <td>0</td>\n",
              "      <td>0</td>\n",
              "      <td>0</td>\n",
              "      <td>0</td>\n",
              "      <td>0</td>\n",
              "      <td>0</td>\n",
              "      <td>0</td>\n",
              "      <td>0</td>\n",
              "      <td>0</td>\n",
              "      <td>0</td>\n",
              "      <td>0</td>\n",
              "      <td>0</td>\n",
              "      <td>0</td>\n",
              "      <td>0</td>\n",
              "      <td>0</td>\n",
              "      <td>0</td>\n",
              "      <td>0</td>\n",
              "      <td>0</td>\n",
              "      <td>0</td>\n",
              "      <td>0</td>\n",
              "      <td>0</td>\n",
              "      <td>0</td>\n",
              "      <td>0</td>\n",
              "      <td>0</td>\n",
              "      <td>0</td>\n",
              "      <td>0</td>\n",
              "      <td>0</td>\n",
              "      <td>0</td>\n",
              "      <td>0</td>\n",
              "      <td>0</td>\n",
              "      <td>0</td>\n",
              "      <td>0</td>\n",
              "      <td>0</td>\n",
              "      <td>0</td>\n",
              "      <td>...</td>\n",
              "      <td>0</td>\n",
              "      <td>0</td>\n",
              "      <td>0</td>\n",
              "      <td>0</td>\n",
              "      <td>0</td>\n",
              "      <td>0</td>\n",
              "      <td>0</td>\n",
              "      <td>0</td>\n",
              "      <td>0</td>\n",
              "      <td>0</td>\n",
              "      <td>0</td>\n",
              "      <td>0</td>\n",
              "      <td>0</td>\n",
              "      <td>0</td>\n",
              "      <td>0</td>\n",
              "      <td>0</td>\n",
              "      <td>0</td>\n",
              "      <td>0</td>\n",
              "      <td>0</td>\n",
              "      <td>0</td>\n",
              "      <td>0</td>\n",
              "      <td>0</td>\n",
              "      <td>0</td>\n",
              "      <td>0</td>\n",
              "      <td>0</td>\n",
              "      <td>0</td>\n",
              "      <td>0</td>\n",
              "      <td>0</td>\n",
              "      <td>0</td>\n",
              "      <td>0</td>\n",
              "      <td>0</td>\n",
              "      <td>0</td>\n",
              "      <td>0</td>\n",
              "      <td>0</td>\n",
              "      <td>0</td>\n",
              "      <td>0</td>\n",
              "      <td>0</td>\n",
              "      <td>0</td>\n",
              "      <td>0</td>\n",
              "      <td>0</td>\n",
              "    </tr>\n",
              "    <tr>\n",
              "      <th>190971</th>\n",
              "      <td>0</td>\n",
              "      <td>0</td>\n",
              "      <td>0</td>\n",
              "      <td>0</td>\n",
              "      <td>0</td>\n",
              "      <td>0</td>\n",
              "      <td>0</td>\n",
              "      <td>0</td>\n",
              "      <td>0</td>\n",
              "      <td>0</td>\n",
              "      <td>0</td>\n",
              "      <td>0</td>\n",
              "      <td>0</td>\n",
              "      <td>0</td>\n",
              "      <td>0</td>\n",
              "      <td>0</td>\n",
              "      <td>0</td>\n",
              "      <td>0</td>\n",
              "      <td>0</td>\n",
              "      <td>0</td>\n",
              "      <td>0</td>\n",
              "      <td>0</td>\n",
              "      <td>0</td>\n",
              "      <td>0</td>\n",
              "      <td>0</td>\n",
              "      <td>0</td>\n",
              "      <td>0</td>\n",
              "      <td>0</td>\n",
              "      <td>0</td>\n",
              "      <td>0</td>\n",
              "      <td>0</td>\n",
              "      <td>0</td>\n",
              "      <td>0</td>\n",
              "      <td>0</td>\n",
              "      <td>0</td>\n",
              "      <td>0</td>\n",
              "      <td>0</td>\n",
              "      <td>0</td>\n",
              "      <td>0</td>\n",
              "      <td>0</td>\n",
              "      <td>...</td>\n",
              "      <td>0</td>\n",
              "      <td>0</td>\n",
              "      <td>0</td>\n",
              "      <td>0</td>\n",
              "      <td>0</td>\n",
              "      <td>0</td>\n",
              "      <td>0</td>\n",
              "      <td>0</td>\n",
              "      <td>0</td>\n",
              "      <td>0</td>\n",
              "      <td>0</td>\n",
              "      <td>0</td>\n",
              "      <td>0</td>\n",
              "      <td>0</td>\n",
              "      <td>0</td>\n",
              "      <td>0</td>\n",
              "      <td>0</td>\n",
              "      <td>0</td>\n",
              "      <td>0</td>\n",
              "      <td>0</td>\n",
              "      <td>0</td>\n",
              "      <td>0</td>\n",
              "      <td>0</td>\n",
              "      <td>0</td>\n",
              "      <td>0</td>\n",
              "      <td>0</td>\n",
              "      <td>0</td>\n",
              "      <td>0</td>\n",
              "      <td>0</td>\n",
              "      <td>0</td>\n",
              "      <td>0</td>\n",
              "      <td>0</td>\n",
              "      <td>0</td>\n",
              "      <td>0</td>\n",
              "      <td>0</td>\n",
              "      <td>0</td>\n",
              "      <td>0</td>\n",
              "      <td>0</td>\n",
              "      <td>0</td>\n",
              "      <td>0</td>\n",
              "    </tr>\n",
              "  </tbody>\n",
              "</table>\n",
              "<p>65244 rows × 537 columns</p>\n",
              "</div>"
            ],
            "text/plain": [
              "        ASF Tower  AWT Army Welfare Trust  ...  Zubaida Park  other\n",
              "4               0                       0  ...             0      0\n",
              "6               0                       0  ...             0      0\n",
              "10              0                       0  ...             0      0\n",
              "12              0                       0  ...             0      0\n",
              "15              0                       0  ...             0      0\n",
              "...           ...                     ...  ...           ...    ...\n",
              "190966          0                       0  ...             0      0\n",
              "190967          0                       0  ...             0      0\n",
              "190969          0                       0  ...             0      0\n",
              "190970          0                       0  ...             0      0\n",
              "190971          0                       0  ...             0      0\n",
              "\n",
              "[65244 rows x 537 columns]"
            ]
          },
          "metadata": {
            "tags": []
          },
          "execution_count": 173
        }
      ]
    },
    {
      "cell_type": "code",
      "metadata": {
        "colab": {
          "base_uri": "https://localhost:8080/"
        },
        "id": "RF6CMlNjVohg",
        "outputId": "66945216-2816-44a4-eba4-43874676b1e1"
      },
      "source": [
        "df5.location[:4]"
      ],
      "execution_count": null,
      "outputs": [
        {
          "output_type": "execute_result",
          "data": {
            "text/plain": [
              "2                                  Eden\n",
              "4                     Allama Iqbal Town\n",
              "6     Military Accounts Housing Society\n",
              "10                                 Eden\n",
              "Name: location, dtype: object"
            ]
          },
          "metadata": {
            "tags": []
          },
          "execution_count": 174
        }
      ]
    },
    {
      "cell_type": "code",
      "metadata": {
        "colab": {
          "base_uri": "https://localhost:8080/",
          "height": 434
        },
        "id": "5h8lZ4_1sksR",
        "outputId": "14f89a09-0498-4484-c55e-2397a19af679"
      },
      "source": [
        "df10 = pd.concat([df9,one_hot_encoded_data .drop('other',axis='columns')],axis='columns')\n",
        "df10.head()"
      ],
      "execution_count": null,
      "outputs": [
        {
          "output_type": "execute_result",
          "data": {
            "text/html": [
              "<div>\n",
              "<style scoped>\n",
              "    .dataframe tbody tr th:only-of-type {\n",
              "        vertical-align: middle;\n",
              "    }\n",
              "\n",
              "    .dataframe tbody tr th {\n",
              "        vertical-align: top;\n",
              "    }\n",
              "\n",
              "    .dataframe thead th {\n",
              "        text-align: right;\n",
              "    }\n",
              "</style>\n",
              "<table border=\"1\" class=\"dataframe\">\n",
              "  <thead>\n",
              "    <tr style=\"text-align: right;\">\n",
              "      <th></th>\n",
              "      <th>property_type</th>\n",
              "      <th>price</th>\n",
              "      <th>location</th>\n",
              "      <th>city</th>\n",
              "      <th>latitude</th>\n",
              "      <th>longitude</th>\n",
              "      <th>baths</th>\n",
              "      <th>area_sqft</th>\n",
              "      <th>bedrooms</th>\n",
              "      <th>year</th>\n",
              "      <th>month</th>\n",
              "      <th>day</th>\n",
              "      <th>price_per_sqft</th>\n",
              "      <th>ASF Tower</th>\n",
              "      <th>AWT Army Welfare Trust</th>\n",
              "      <th>Aashiana Road</th>\n",
              "      <th>Abdalians Cooperative Housing Society</th>\n",
              "      <th>Abul Hassan Isphani Road</th>\n",
              "      <th>Adiala Road</th>\n",
              "      <th>Afshan Colony</th>\n",
              "      <th>Ahmadabad</th>\n",
              "      <th>Airline Housing Society</th>\n",
              "      <th>Airport</th>\n",
              "      <th>Airport Housing Society</th>\n",
              "      <th>Airport Road</th>\n",
              "      <th>Aisha Manzil</th>\n",
              "      <th>Aitchison Society</th>\n",
              "      <th>Al Faisal Town</th>\n",
              "      <th>Al Fayaz Colony</th>\n",
              "      <th>Al Hafeez Gardens</th>\n",
              "      <th>Al Hamad Colony</th>\n",
              "      <th>Al Jalil Garden</th>\n",
              "      <th>Al Kareem Garden</th>\n",
              "      <th>Al Najaf Colony</th>\n",
              "      <th>Al Noor Garden</th>\n",
              "      <th>Al Rehman Garden</th>\n",
              "      <th>Al-Hafiz Town</th>\n",
              "      <th>Al-Hamad Colony (AIT)</th>\n",
              "      <th>Al-Hamd Park</th>\n",
              "      <th>Al-Jannat Housing Society - Kahna</th>\n",
              "      <th>...</th>\n",
              "      <th>Sunny Park</th>\n",
              "      <th>Suparco Road</th>\n",
              "      <th>Super Highway</th>\n",
              "      <th>Super Town</th>\n",
              "      <th>Swan Garden</th>\n",
              "      <th>T &amp; T Aabpara Housing Society</th>\n",
              "      <th>Taj Bagh Scheme</th>\n",
              "      <th>Tajpura</th>\n",
              "      <th>Taramrri</th>\n",
              "      <th>Tariq Gardens</th>\n",
              "      <th>Tariq Road</th>\n",
              "      <th>Tarlai</th>\n",
              "      <th>Tarnol</th>\n",
              "      <th>Tarogill</th>\n",
              "      <th>Tench Bhata</th>\n",
              "      <th>Thanda Pani</th>\n",
              "      <th>The Springs</th>\n",
              "      <th>Thokar Niaz Baig</th>\n",
              "      <th>Township</th>\n",
              "      <th>Transformer Chowk</th>\n",
              "      <th>Tulsa Road</th>\n",
              "      <th>UET Housing Society</th>\n",
              "      <th>University Road</th>\n",
              "      <th>Valencia Housing Society</th>\n",
              "      <th>Wafaqi Colony</th>\n",
              "      <th>Wahdat Colony</th>\n",
              "      <th>Wahdat Road</th>\n",
              "      <th>Walled City</th>\n",
              "      <th>Walton Road</th>\n",
              "      <th>Wapda City</th>\n",
              "      <th>Wapda Town</th>\n",
              "      <th>Wassanpura</th>\n",
              "      <th>Wazir Town</th>\n",
              "      <th>Westridge</th>\n",
              "      <th>Yousaf Colony</th>\n",
              "      <th>Yousaf Town</th>\n",
              "      <th>Zaheer Villas</th>\n",
              "      <th>Zaitoon - New Lahore City</th>\n",
              "      <th>Zaraj Housing Scheme</th>\n",
              "      <th>Zubaida Park</th>\n",
              "    </tr>\n",
              "  </thead>\n",
              "  <tbody>\n",
              "    <tr>\n",
              "      <th>4</th>\n",
              "      <td>House</td>\n",
              "      <td>21000000</td>\n",
              "      <td>Allama Iqbal Town</td>\n",
              "      <td>Lahore</td>\n",
              "      <td>31.506483</td>\n",
              "      <td>74.286017</td>\n",
              "      <td>5</td>\n",
              "      <td>2994.76</td>\n",
              "      <td>6</td>\n",
              "      <td>2019</td>\n",
              "      <td>4</td>\n",
              "      <td>4</td>\n",
              "      <td>7012.248060</td>\n",
              "      <td>0</td>\n",
              "      <td>0</td>\n",
              "      <td>0</td>\n",
              "      <td>0</td>\n",
              "      <td>0</td>\n",
              "      <td>0</td>\n",
              "      <td>0</td>\n",
              "      <td>0</td>\n",
              "      <td>0</td>\n",
              "      <td>0</td>\n",
              "      <td>0</td>\n",
              "      <td>0</td>\n",
              "      <td>0</td>\n",
              "      <td>0</td>\n",
              "      <td>0</td>\n",
              "      <td>0</td>\n",
              "      <td>0</td>\n",
              "      <td>0</td>\n",
              "      <td>0</td>\n",
              "      <td>0</td>\n",
              "      <td>0</td>\n",
              "      <td>0</td>\n",
              "      <td>0</td>\n",
              "      <td>0</td>\n",
              "      <td>0</td>\n",
              "      <td>0</td>\n",
              "      <td>0</td>\n",
              "      <td>...</td>\n",
              "      <td>0</td>\n",
              "      <td>0</td>\n",
              "      <td>0</td>\n",
              "      <td>0</td>\n",
              "      <td>0</td>\n",
              "      <td>0</td>\n",
              "      <td>0</td>\n",
              "      <td>0</td>\n",
              "      <td>0</td>\n",
              "      <td>0</td>\n",
              "      <td>0</td>\n",
              "      <td>0</td>\n",
              "      <td>0</td>\n",
              "      <td>0</td>\n",
              "      <td>0</td>\n",
              "      <td>0</td>\n",
              "      <td>0</td>\n",
              "      <td>0</td>\n",
              "      <td>0</td>\n",
              "      <td>0</td>\n",
              "      <td>0</td>\n",
              "      <td>0</td>\n",
              "      <td>0</td>\n",
              "      <td>0</td>\n",
              "      <td>0</td>\n",
              "      <td>0</td>\n",
              "      <td>0</td>\n",
              "      <td>0</td>\n",
              "      <td>0</td>\n",
              "      <td>0</td>\n",
              "      <td>0</td>\n",
              "      <td>0</td>\n",
              "      <td>0</td>\n",
              "      <td>0</td>\n",
              "      <td>0</td>\n",
              "      <td>0</td>\n",
              "      <td>0</td>\n",
              "      <td>0</td>\n",
              "      <td>0</td>\n",
              "      <td>0</td>\n",
              "    </tr>\n",
              "    <tr>\n",
              "      <th>6</th>\n",
              "      <td>House</td>\n",
              "      <td>16500000</td>\n",
              "      <td>Military Accounts Housing Society</td>\n",
              "      <td>Lahore</td>\n",
              "      <td>31.421229</td>\n",
              "      <td>74.285560</td>\n",
              "      <td>7</td>\n",
              "      <td>2178.01</td>\n",
              "      <td>6</td>\n",
              "      <td>2019</td>\n",
              "      <td>7</td>\n",
              "      <td>3</td>\n",
              "      <td>7575.722793</td>\n",
              "      <td>0</td>\n",
              "      <td>0</td>\n",
              "      <td>0</td>\n",
              "      <td>0</td>\n",
              "      <td>0</td>\n",
              "      <td>0</td>\n",
              "      <td>0</td>\n",
              "      <td>0</td>\n",
              "      <td>0</td>\n",
              "      <td>0</td>\n",
              "      <td>0</td>\n",
              "      <td>0</td>\n",
              "      <td>0</td>\n",
              "      <td>0</td>\n",
              "      <td>0</td>\n",
              "      <td>0</td>\n",
              "      <td>0</td>\n",
              "      <td>0</td>\n",
              "      <td>0</td>\n",
              "      <td>0</td>\n",
              "      <td>0</td>\n",
              "      <td>0</td>\n",
              "      <td>0</td>\n",
              "      <td>0</td>\n",
              "      <td>0</td>\n",
              "      <td>0</td>\n",
              "      <td>0</td>\n",
              "      <td>...</td>\n",
              "      <td>0</td>\n",
              "      <td>0</td>\n",
              "      <td>0</td>\n",
              "      <td>0</td>\n",
              "      <td>0</td>\n",
              "      <td>0</td>\n",
              "      <td>0</td>\n",
              "      <td>0</td>\n",
              "      <td>0</td>\n",
              "      <td>0</td>\n",
              "      <td>0</td>\n",
              "      <td>0</td>\n",
              "      <td>0</td>\n",
              "      <td>0</td>\n",
              "      <td>0</td>\n",
              "      <td>0</td>\n",
              "      <td>0</td>\n",
              "      <td>0</td>\n",
              "      <td>0</td>\n",
              "      <td>0</td>\n",
              "      <td>0</td>\n",
              "      <td>0</td>\n",
              "      <td>0</td>\n",
              "      <td>0</td>\n",
              "      <td>0</td>\n",
              "      <td>0</td>\n",
              "      <td>0</td>\n",
              "      <td>0</td>\n",
              "      <td>0</td>\n",
              "      <td>0</td>\n",
              "      <td>0</td>\n",
              "      <td>0</td>\n",
              "      <td>0</td>\n",
              "      <td>0</td>\n",
              "      <td>0</td>\n",
              "      <td>0</td>\n",
              "      <td>0</td>\n",
              "      <td>0</td>\n",
              "      <td>0</td>\n",
              "      <td>0</td>\n",
              "    </tr>\n",
              "    <tr>\n",
              "      <th>10</th>\n",
              "      <td>House</td>\n",
              "      <td>13500000</td>\n",
              "      <td>Eden</td>\n",
              "      <td>Lahore</td>\n",
              "      <td>31.441113</td>\n",
              "      <td>74.239683</td>\n",
              "      <td>4</td>\n",
              "      <td>2041.88</td>\n",
              "      <td>4</td>\n",
              "      <td>2019</td>\n",
              "      <td>4</td>\n",
              "      <td>4</td>\n",
              "      <td>6611.554058</td>\n",
              "      <td>0</td>\n",
              "      <td>0</td>\n",
              "      <td>0</td>\n",
              "      <td>0</td>\n",
              "      <td>0</td>\n",
              "      <td>0</td>\n",
              "      <td>0</td>\n",
              "      <td>0</td>\n",
              "      <td>0</td>\n",
              "      <td>0</td>\n",
              "      <td>0</td>\n",
              "      <td>0</td>\n",
              "      <td>0</td>\n",
              "      <td>0</td>\n",
              "      <td>0</td>\n",
              "      <td>0</td>\n",
              "      <td>0</td>\n",
              "      <td>0</td>\n",
              "      <td>0</td>\n",
              "      <td>0</td>\n",
              "      <td>0</td>\n",
              "      <td>0</td>\n",
              "      <td>0</td>\n",
              "      <td>0</td>\n",
              "      <td>0</td>\n",
              "      <td>0</td>\n",
              "      <td>0</td>\n",
              "      <td>...</td>\n",
              "      <td>0</td>\n",
              "      <td>0</td>\n",
              "      <td>0</td>\n",
              "      <td>0</td>\n",
              "      <td>0</td>\n",
              "      <td>0</td>\n",
              "      <td>0</td>\n",
              "      <td>0</td>\n",
              "      <td>0</td>\n",
              "      <td>0</td>\n",
              "      <td>0</td>\n",
              "      <td>0</td>\n",
              "      <td>0</td>\n",
              "      <td>0</td>\n",
              "      <td>0</td>\n",
              "      <td>0</td>\n",
              "      <td>0</td>\n",
              "      <td>0</td>\n",
              "      <td>0</td>\n",
              "      <td>0</td>\n",
              "      <td>0</td>\n",
              "      <td>0</td>\n",
              "      <td>0</td>\n",
              "      <td>0</td>\n",
              "      <td>0</td>\n",
              "      <td>0</td>\n",
              "      <td>0</td>\n",
              "      <td>0</td>\n",
              "      <td>0</td>\n",
              "      <td>0</td>\n",
              "      <td>0</td>\n",
              "      <td>0</td>\n",
              "      <td>0</td>\n",
              "      <td>0</td>\n",
              "      <td>0</td>\n",
              "      <td>0</td>\n",
              "      <td>0</td>\n",
              "      <td>0</td>\n",
              "      <td>0</td>\n",
              "      <td>0</td>\n",
              "    </tr>\n",
              "    <tr>\n",
              "      <th>12</th>\n",
              "      <td>House</td>\n",
              "      <td>8500000</td>\n",
              "      <td>Park View Villas</td>\n",
              "      <td>Lahore</td>\n",
              "      <td>31.450248</td>\n",
              "      <td>74.200931</td>\n",
              "      <td>4</td>\n",
              "      <td>1361.25</td>\n",
              "      <td>4</td>\n",
              "      <td>2019</td>\n",
              "      <td>7</td>\n",
              "      <td>22</td>\n",
              "      <td>6244.260790</td>\n",
              "      <td>0</td>\n",
              "      <td>0</td>\n",
              "      <td>0</td>\n",
              "      <td>0</td>\n",
              "      <td>0</td>\n",
              "      <td>0</td>\n",
              "      <td>0</td>\n",
              "      <td>0</td>\n",
              "      <td>0</td>\n",
              "      <td>0</td>\n",
              "      <td>0</td>\n",
              "      <td>0</td>\n",
              "      <td>0</td>\n",
              "      <td>0</td>\n",
              "      <td>0</td>\n",
              "      <td>0</td>\n",
              "      <td>0</td>\n",
              "      <td>0</td>\n",
              "      <td>0</td>\n",
              "      <td>0</td>\n",
              "      <td>0</td>\n",
              "      <td>0</td>\n",
              "      <td>0</td>\n",
              "      <td>0</td>\n",
              "      <td>0</td>\n",
              "      <td>0</td>\n",
              "      <td>0</td>\n",
              "      <td>...</td>\n",
              "      <td>0</td>\n",
              "      <td>0</td>\n",
              "      <td>0</td>\n",
              "      <td>0</td>\n",
              "      <td>0</td>\n",
              "      <td>0</td>\n",
              "      <td>0</td>\n",
              "      <td>0</td>\n",
              "      <td>0</td>\n",
              "      <td>0</td>\n",
              "      <td>0</td>\n",
              "      <td>0</td>\n",
              "      <td>0</td>\n",
              "      <td>0</td>\n",
              "      <td>0</td>\n",
              "      <td>0</td>\n",
              "      <td>0</td>\n",
              "      <td>0</td>\n",
              "      <td>0</td>\n",
              "      <td>0</td>\n",
              "      <td>0</td>\n",
              "      <td>0</td>\n",
              "      <td>0</td>\n",
              "      <td>0</td>\n",
              "      <td>0</td>\n",
              "      <td>0</td>\n",
              "      <td>0</td>\n",
              "      <td>0</td>\n",
              "      <td>0</td>\n",
              "      <td>0</td>\n",
              "      <td>0</td>\n",
              "      <td>0</td>\n",
              "      <td>0</td>\n",
              "      <td>0</td>\n",
              "      <td>0</td>\n",
              "      <td>0</td>\n",
              "      <td>0</td>\n",
              "      <td>0</td>\n",
              "      <td>0</td>\n",
              "      <td>0</td>\n",
              "    </tr>\n",
              "    <tr>\n",
              "      <th>15</th>\n",
              "      <td>House</td>\n",
              "      <td>23500000</td>\n",
              "      <td>Askari</td>\n",
              "      <td>Lahore</td>\n",
              "      <td>31.537239</td>\n",
              "      <td>74.420211</td>\n",
              "      <td>4</td>\n",
              "      <td>2722.51</td>\n",
              "      <td>4</td>\n",
              "      <td>2019</td>\n",
              "      <td>6</td>\n",
              "      <td>18</td>\n",
              "      <td>8631.740563</td>\n",
              "      <td>0</td>\n",
              "      <td>0</td>\n",
              "      <td>0</td>\n",
              "      <td>0</td>\n",
              "      <td>0</td>\n",
              "      <td>0</td>\n",
              "      <td>0</td>\n",
              "      <td>0</td>\n",
              "      <td>0</td>\n",
              "      <td>0</td>\n",
              "      <td>0</td>\n",
              "      <td>0</td>\n",
              "      <td>0</td>\n",
              "      <td>0</td>\n",
              "      <td>0</td>\n",
              "      <td>0</td>\n",
              "      <td>0</td>\n",
              "      <td>0</td>\n",
              "      <td>0</td>\n",
              "      <td>0</td>\n",
              "      <td>0</td>\n",
              "      <td>0</td>\n",
              "      <td>0</td>\n",
              "      <td>0</td>\n",
              "      <td>0</td>\n",
              "      <td>0</td>\n",
              "      <td>0</td>\n",
              "      <td>...</td>\n",
              "      <td>0</td>\n",
              "      <td>0</td>\n",
              "      <td>0</td>\n",
              "      <td>0</td>\n",
              "      <td>0</td>\n",
              "      <td>0</td>\n",
              "      <td>0</td>\n",
              "      <td>0</td>\n",
              "      <td>0</td>\n",
              "      <td>0</td>\n",
              "      <td>0</td>\n",
              "      <td>0</td>\n",
              "      <td>0</td>\n",
              "      <td>0</td>\n",
              "      <td>0</td>\n",
              "      <td>0</td>\n",
              "      <td>0</td>\n",
              "      <td>0</td>\n",
              "      <td>0</td>\n",
              "      <td>0</td>\n",
              "      <td>0</td>\n",
              "      <td>0</td>\n",
              "      <td>0</td>\n",
              "      <td>0</td>\n",
              "      <td>0</td>\n",
              "      <td>0</td>\n",
              "      <td>0</td>\n",
              "      <td>0</td>\n",
              "      <td>0</td>\n",
              "      <td>0</td>\n",
              "      <td>0</td>\n",
              "      <td>0</td>\n",
              "      <td>0</td>\n",
              "      <td>0</td>\n",
              "      <td>0</td>\n",
              "      <td>0</td>\n",
              "      <td>0</td>\n",
              "      <td>0</td>\n",
              "      <td>0</td>\n",
              "      <td>0</td>\n",
              "    </tr>\n",
              "  </tbody>\n",
              "</table>\n",
              "<p>5 rows × 549 columns</p>\n",
              "</div>"
            ],
            "text/plain": [
              "   property_type     price  ... Zaraj Housing Scheme Zubaida Park\n",
              "4          House  21000000  ...                    0            0\n",
              "6          House  16500000  ...                    0            0\n",
              "10         House  13500000  ...                    0            0\n",
              "12         House   8500000  ...                    0            0\n",
              "15         House  23500000  ...                    0            0\n",
              "\n",
              "[5 rows x 549 columns]"
            ]
          },
          "metadata": {
            "tags": []
          },
          "execution_count": 276
        }
      ]
    },
    {
      "cell_type": "code",
      "metadata": {
        "colab": {
          "base_uri": "https://localhost:8080/",
          "height": 667
        },
        "id": "YcZZb8Xl1YRV",
        "outputId": "a51760e9-ba5a-409d-a2d5-f8aed5257a47"
      },
      "source": [
        "df10[df10.location == 'North Karachi']"
      ],
      "execution_count": null,
      "outputs": [
        {
          "output_type": "execute_result",
          "data": {
            "text/html": [
              "<div>\n",
              "<style scoped>\n",
              "    .dataframe tbody tr th:only-of-type {\n",
              "        vertical-align: middle;\n",
              "    }\n",
              "\n",
              "    .dataframe tbody tr th {\n",
              "        vertical-align: top;\n",
              "    }\n",
              "\n",
              "    .dataframe thead th {\n",
              "        text-align: right;\n",
              "    }\n",
              "</style>\n",
              "<table border=\"1\" class=\"dataframe\">\n",
              "  <thead>\n",
              "    <tr style=\"text-align: right;\">\n",
              "      <th></th>\n",
              "      <th>property_type</th>\n",
              "      <th>price</th>\n",
              "      <th>location</th>\n",
              "      <th>city</th>\n",
              "      <th>latitude</th>\n",
              "      <th>longitude</th>\n",
              "      <th>baths</th>\n",
              "      <th>area_sqft</th>\n",
              "      <th>bedrooms</th>\n",
              "      <th>year</th>\n",
              "      <th>month</th>\n",
              "      <th>day</th>\n",
              "      <th>price_per_sqft</th>\n",
              "      <th>ASF Tower</th>\n",
              "      <th>AWT Army Welfare Trust</th>\n",
              "      <th>Aashiana Road</th>\n",
              "      <th>Abdalians Cooperative Housing Society</th>\n",
              "      <th>Abul Hassan Isphani Road</th>\n",
              "      <th>Adiala Road</th>\n",
              "      <th>Afshan Colony</th>\n",
              "      <th>Ahmadabad</th>\n",
              "      <th>Airline Housing Society</th>\n",
              "      <th>Airport</th>\n",
              "      <th>Airport Housing Society</th>\n",
              "      <th>Airport Road</th>\n",
              "      <th>Aisha Manzil</th>\n",
              "      <th>Aitchison Society</th>\n",
              "      <th>Al Faisal Town</th>\n",
              "      <th>Al Fayaz Colony</th>\n",
              "      <th>Al Hafeez Gardens</th>\n",
              "      <th>Al Hamad Colony</th>\n",
              "      <th>Al Jalil Garden</th>\n",
              "      <th>Al Kareem Garden</th>\n",
              "      <th>Al Najaf Colony</th>\n",
              "      <th>Al Noor Garden</th>\n",
              "      <th>Al Rehman Garden</th>\n",
              "      <th>Al-Hafiz Town</th>\n",
              "      <th>Al-Hamad Colony (AIT)</th>\n",
              "      <th>Al-Hamd Park</th>\n",
              "      <th>Al-Jannat Housing Society - Kahna</th>\n",
              "      <th>...</th>\n",
              "      <th>Sunny Park</th>\n",
              "      <th>Suparco Road</th>\n",
              "      <th>Super Highway</th>\n",
              "      <th>Super Town</th>\n",
              "      <th>Swan Garden</th>\n",
              "      <th>T &amp; T Aabpara Housing Society</th>\n",
              "      <th>Taj Bagh Scheme</th>\n",
              "      <th>Tajpura</th>\n",
              "      <th>Taramrri</th>\n",
              "      <th>Tariq Gardens</th>\n",
              "      <th>Tariq Road</th>\n",
              "      <th>Tarlai</th>\n",
              "      <th>Tarnol</th>\n",
              "      <th>Tarogill</th>\n",
              "      <th>Tench Bhata</th>\n",
              "      <th>Thanda Pani</th>\n",
              "      <th>The Springs</th>\n",
              "      <th>Thokar Niaz Baig</th>\n",
              "      <th>Township</th>\n",
              "      <th>Transformer Chowk</th>\n",
              "      <th>Tulsa Road</th>\n",
              "      <th>UET Housing Society</th>\n",
              "      <th>University Road</th>\n",
              "      <th>Valencia Housing Society</th>\n",
              "      <th>Wafaqi Colony</th>\n",
              "      <th>Wahdat Colony</th>\n",
              "      <th>Wahdat Road</th>\n",
              "      <th>Walled City</th>\n",
              "      <th>Walton Road</th>\n",
              "      <th>Wapda City</th>\n",
              "      <th>Wapda Town</th>\n",
              "      <th>Wassanpura</th>\n",
              "      <th>Wazir Town</th>\n",
              "      <th>Westridge</th>\n",
              "      <th>Yousaf Colony</th>\n",
              "      <th>Yousaf Town</th>\n",
              "      <th>Zaheer Villas</th>\n",
              "      <th>Zaitoon - New Lahore City</th>\n",
              "      <th>Zaraj Housing Scheme</th>\n",
              "      <th>Zubaida Park</th>\n",
              "    </tr>\n",
              "  </thead>\n",
              "  <tbody>\n",
              "    <tr>\n",
              "      <th>329</th>\n",
              "      <td>House</td>\n",
              "      <td>7000000</td>\n",
              "      <td>North Karachi</td>\n",
              "      <td>Karachi</td>\n",
              "      <td>24.969758</td>\n",
              "      <td>67.072692</td>\n",
              "      <td>3</td>\n",
              "      <td>925.65</td>\n",
              "      <td>3</td>\n",
              "      <td>2019</td>\n",
              "      <td>6</td>\n",
              "      <td>7</td>\n",
              "      <td>7562.253552</td>\n",
              "      <td>0</td>\n",
              "      <td>0</td>\n",
              "      <td>0</td>\n",
              "      <td>0</td>\n",
              "      <td>0</td>\n",
              "      <td>0</td>\n",
              "      <td>0</td>\n",
              "      <td>0</td>\n",
              "      <td>0</td>\n",
              "      <td>0</td>\n",
              "      <td>0</td>\n",
              "      <td>0</td>\n",
              "      <td>0</td>\n",
              "      <td>0</td>\n",
              "      <td>0</td>\n",
              "      <td>0</td>\n",
              "      <td>0</td>\n",
              "      <td>0</td>\n",
              "      <td>0</td>\n",
              "      <td>0</td>\n",
              "      <td>0</td>\n",
              "      <td>0</td>\n",
              "      <td>0</td>\n",
              "      <td>0</td>\n",
              "      <td>0</td>\n",
              "      <td>0</td>\n",
              "      <td>0</td>\n",
              "      <td>...</td>\n",
              "      <td>0</td>\n",
              "      <td>0</td>\n",
              "      <td>0</td>\n",
              "      <td>0</td>\n",
              "      <td>0</td>\n",
              "      <td>0</td>\n",
              "      <td>0</td>\n",
              "      <td>0</td>\n",
              "      <td>0</td>\n",
              "      <td>0</td>\n",
              "      <td>0</td>\n",
              "      <td>0</td>\n",
              "      <td>0</td>\n",
              "      <td>0</td>\n",
              "      <td>0</td>\n",
              "      <td>0</td>\n",
              "      <td>0</td>\n",
              "      <td>0</td>\n",
              "      <td>0</td>\n",
              "      <td>0</td>\n",
              "      <td>0</td>\n",
              "      <td>0</td>\n",
              "      <td>0</td>\n",
              "      <td>0</td>\n",
              "      <td>0</td>\n",
              "      <td>0</td>\n",
              "      <td>0</td>\n",
              "      <td>0</td>\n",
              "      <td>0</td>\n",
              "      <td>0</td>\n",
              "      <td>0</td>\n",
              "      <td>0</td>\n",
              "      <td>0</td>\n",
              "      <td>0</td>\n",
              "      <td>0</td>\n",
              "      <td>0</td>\n",
              "      <td>0</td>\n",
              "      <td>0</td>\n",
              "      <td>0</td>\n",
              "      <td>0</td>\n",
              "    </tr>\n",
              "    <tr>\n",
              "      <th>369</th>\n",
              "      <td>House</td>\n",
              "      <td>16000000</td>\n",
              "      <td>North Karachi</td>\n",
              "      <td>Karachi</td>\n",
              "      <td>24.974660</td>\n",
              "      <td>67.054667</td>\n",
              "      <td>5</td>\n",
              "      <td>1306.80</td>\n",
              "      <td>5</td>\n",
              "      <td>2019</td>\n",
              "      <td>7</td>\n",
              "      <td>18</td>\n",
              "      <td>12243.648607</td>\n",
              "      <td>0</td>\n",
              "      <td>0</td>\n",
              "      <td>0</td>\n",
              "      <td>0</td>\n",
              "      <td>0</td>\n",
              "      <td>0</td>\n",
              "      <td>0</td>\n",
              "      <td>0</td>\n",
              "      <td>0</td>\n",
              "      <td>0</td>\n",
              "      <td>0</td>\n",
              "      <td>0</td>\n",
              "      <td>0</td>\n",
              "      <td>0</td>\n",
              "      <td>0</td>\n",
              "      <td>0</td>\n",
              "      <td>0</td>\n",
              "      <td>0</td>\n",
              "      <td>0</td>\n",
              "      <td>0</td>\n",
              "      <td>0</td>\n",
              "      <td>0</td>\n",
              "      <td>0</td>\n",
              "      <td>0</td>\n",
              "      <td>0</td>\n",
              "      <td>0</td>\n",
              "      <td>0</td>\n",
              "      <td>...</td>\n",
              "      <td>0</td>\n",
              "      <td>0</td>\n",
              "      <td>0</td>\n",
              "      <td>0</td>\n",
              "      <td>0</td>\n",
              "      <td>0</td>\n",
              "      <td>0</td>\n",
              "      <td>0</td>\n",
              "      <td>0</td>\n",
              "      <td>0</td>\n",
              "      <td>0</td>\n",
              "      <td>0</td>\n",
              "      <td>0</td>\n",
              "      <td>0</td>\n",
              "      <td>0</td>\n",
              "      <td>0</td>\n",
              "      <td>0</td>\n",
              "      <td>0</td>\n",
              "      <td>0</td>\n",
              "      <td>0</td>\n",
              "      <td>0</td>\n",
              "      <td>0</td>\n",
              "      <td>0</td>\n",
              "      <td>0</td>\n",
              "      <td>0</td>\n",
              "      <td>0</td>\n",
              "      <td>0</td>\n",
              "      <td>0</td>\n",
              "      <td>0</td>\n",
              "      <td>0</td>\n",
              "      <td>0</td>\n",
              "      <td>0</td>\n",
              "      <td>0</td>\n",
              "      <td>0</td>\n",
              "      <td>0</td>\n",
              "      <td>0</td>\n",
              "      <td>0</td>\n",
              "      <td>0</td>\n",
              "      <td>0</td>\n",
              "      <td>0</td>\n",
              "    </tr>\n",
              "    <tr>\n",
              "      <th>1420</th>\n",
              "      <td>Flat</td>\n",
              "      <td>4000000</td>\n",
              "      <td>North Karachi</td>\n",
              "      <td>Karachi</td>\n",
              "      <td>24.972287</td>\n",
              "      <td>67.066298</td>\n",
              "      <td>2</td>\n",
              "      <td>871.20</td>\n",
              "      <td>3</td>\n",
              "      <td>2019</td>\n",
              "      <td>7</td>\n",
              "      <td>18</td>\n",
              "      <td>4591.368228</td>\n",
              "      <td>0</td>\n",
              "      <td>0</td>\n",
              "      <td>0</td>\n",
              "      <td>0</td>\n",
              "      <td>0</td>\n",
              "      <td>0</td>\n",
              "      <td>0</td>\n",
              "      <td>0</td>\n",
              "      <td>0</td>\n",
              "      <td>0</td>\n",
              "      <td>0</td>\n",
              "      <td>0</td>\n",
              "      <td>0</td>\n",
              "      <td>0</td>\n",
              "      <td>0</td>\n",
              "      <td>0</td>\n",
              "      <td>0</td>\n",
              "      <td>0</td>\n",
              "      <td>0</td>\n",
              "      <td>0</td>\n",
              "      <td>0</td>\n",
              "      <td>0</td>\n",
              "      <td>0</td>\n",
              "      <td>0</td>\n",
              "      <td>0</td>\n",
              "      <td>0</td>\n",
              "      <td>0</td>\n",
              "      <td>...</td>\n",
              "      <td>0</td>\n",
              "      <td>0</td>\n",
              "      <td>0</td>\n",
              "      <td>0</td>\n",
              "      <td>0</td>\n",
              "      <td>0</td>\n",
              "      <td>0</td>\n",
              "      <td>0</td>\n",
              "      <td>0</td>\n",
              "      <td>0</td>\n",
              "      <td>0</td>\n",
              "      <td>0</td>\n",
              "      <td>0</td>\n",
              "      <td>0</td>\n",
              "      <td>0</td>\n",
              "      <td>0</td>\n",
              "      <td>0</td>\n",
              "      <td>0</td>\n",
              "      <td>0</td>\n",
              "      <td>0</td>\n",
              "      <td>0</td>\n",
              "      <td>0</td>\n",
              "      <td>0</td>\n",
              "      <td>0</td>\n",
              "      <td>0</td>\n",
              "      <td>0</td>\n",
              "      <td>0</td>\n",
              "      <td>0</td>\n",
              "      <td>0</td>\n",
              "      <td>0</td>\n",
              "      <td>0</td>\n",
              "      <td>0</td>\n",
              "      <td>0</td>\n",
              "      <td>0</td>\n",
              "      <td>0</td>\n",
              "      <td>0</td>\n",
              "      <td>0</td>\n",
              "      <td>0</td>\n",
              "      <td>0</td>\n",
              "      <td>0</td>\n",
              "    </tr>\n",
              "    <tr>\n",
              "      <th>1425</th>\n",
              "      <td>House</td>\n",
              "      <td>14000000</td>\n",
              "      <td>North Karachi</td>\n",
              "      <td>Karachi</td>\n",
              "      <td>24.959785</td>\n",
              "      <td>67.070190</td>\n",
              "      <td>6</td>\n",
              "      <td>1361.25</td>\n",
              "      <td>6</td>\n",
              "      <td>2019</td>\n",
              "      <td>7</td>\n",
              "      <td>18</td>\n",
              "      <td>10284.664830</td>\n",
              "      <td>0</td>\n",
              "      <td>0</td>\n",
              "      <td>0</td>\n",
              "      <td>0</td>\n",
              "      <td>0</td>\n",
              "      <td>0</td>\n",
              "      <td>0</td>\n",
              "      <td>0</td>\n",
              "      <td>0</td>\n",
              "      <td>0</td>\n",
              "      <td>0</td>\n",
              "      <td>0</td>\n",
              "      <td>0</td>\n",
              "      <td>0</td>\n",
              "      <td>0</td>\n",
              "      <td>0</td>\n",
              "      <td>0</td>\n",
              "      <td>0</td>\n",
              "      <td>0</td>\n",
              "      <td>0</td>\n",
              "      <td>0</td>\n",
              "      <td>0</td>\n",
              "      <td>0</td>\n",
              "      <td>0</td>\n",
              "      <td>0</td>\n",
              "      <td>0</td>\n",
              "      <td>0</td>\n",
              "      <td>...</td>\n",
              "      <td>0</td>\n",
              "      <td>0</td>\n",
              "      <td>0</td>\n",
              "      <td>0</td>\n",
              "      <td>0</td>\n",
              "      <td>0</td>\n",
              "      <td>0</td>\n",
              "      <td>0</td>\n",
              "      <td>0</td>\n",
              "      <td>0</td>\n",
              "      <td>0</td>\n",
              "      <td>0</td>\n",
              "      <td>0</td>\n",
              "      <td>0</td>\n",
              "      <td>0</td>\n",
              "      <td>0</td>\n",
              "      <td>0</td>\n",
              "      <td>0</td>\n",
              "      <td>0</td>\n",
              "      <td>0</td>\n",
              "      <td>0</td>\n",
              "      <td>0</td>\n",
              "      <td>0</td>\n",
              "      <td>0</td>\n",
              "      <td>0</td>\n",
              "      <td>0</td>\n",
              "      <td>0</td>\n",
              "      <td>0</td>\n",
              "      <td>0</td>\n",
              "      <td>0</td>\n",
              "      <td>0</td>\n",
              "      <td>0</td>\n",
              "      <td>0</td>\n",
              "      <td>0</td>\n",
              "      <td>0</td>\n",
              "      <td>0</td>\n",
              "      <td>0</td>\n",
              "      <td>0</td>\n",
              "      <td>0</td>\n",
              "      <td>0</td>\n",
              "    </tr>\n",
              "    <tr>\n",
              "      <th>1478</th>\n",
              "      <td>House</td>\n",
              "      <td>12000000</td>\n",
              "      <td>North Karachi</td>\n",
              "      <td>Karachi</td>\n",
              "      <td>24.959785</td>\n",
              "      <td>67.070190</td>\n",
              "      <td>4</td>\n",
              "      <td>1306.80</td>\n",
              "      <td>5</td>\n",
              "      <td>2019</td>\n",
              "      <td>7</td>\n",
              "      <td>18</td>\n",
              "      <td>9182.736455</td>\n",
              "      <td>0</td>\n",
              "      <td>0</td>\n",
              "      <td>0</td>\n",
              "      <td>0</td>\n",
              "      <td>0</td>\n",
              "      <td>0</td>\n",
              "      <td>0</td>\n",
              "      <td>0</td>\n",
              "      <td>0</td>\n",
              "      <td>0</td>\n",
              "      <td>0</td>\n",
              "      <td>0</td>\n",
              "      <td>0</td>\n",
              "      <td>0</td>\n",
              "      <td>0</td>\n",
              "      <td>0</td>\n",
              "      <td>0</td>\n",
              "      <td>0</td>\n",
              "      <td>0</td>\n",
              "      <td>0</td>\n",
              "      <td>0</td>\n",
              "      <td>0</td>\n",
              "      <td>0</td>\n",
              "      <td>0</td>\n",
              "      <td>0</td>\n",
              "      <td>0</td>\n",
              "      <td>0</td>\n",
              "      <td>...</td>\n",
              "      <td>0</td>\n",
              "      <td>0</td>\n",
              "      <td>0</td>\n",
              "      <td>0</td>\n",
              "      <td>0</td>\n",
              "      <td>0</td>\n",
              "      <td>0</td>\n",
              "      <td>0</td>\n",
              "      <td>0</td>\n",
              "      <td>0</td>\n",
              "      <td>0</td>\n",
              "      <td>0</td>\n",
              "      <td>0</td>\n",
              "      <td>0</td>\n",
              "      <td>0</td>\n",
              "      <td>0</td>\n",
              "      <td>0</td>\n",
              "      <td>0</td>\n",
              "      <td>0</td>\n",
              "      <td>0</td>\n",
              "      <td>0</td>\n",
              "      <td>0</td>\n",
              "      <td>0</td>\n",
              "      <td>0</td>\n",
              "      <td>0</td>\n",
              "      <td>0</td>\n",
              "      <td>0</td>\n",
              "      <td>0</td>\n",
              "      <td>0</td>\n",
              "      <td>0</td>\n",
              "      <td>0</td>\n",
              "      <td>0</td>\n",
              "      <td>0</td>\n",
              "      <td>0</td>\n",
              "      <td>0</td>\n",
              "      <td>0</td>\n",
              "      <td>0</td>\n",
              "      <td>0</td>\n",
              "      <td>0</td>\n",
              "      <td>0</td>\n",
              "    </tr>\n",
              "    <tr>\n",
              "      <th>...</th>\n",
              "      <td>...</td>\n",
              "      <td>...</td>\n",
              "      <td>...</td>\n",
              "      <td>...</td>\n",
              "      <td>...</td>\n",
              "      <td>...</td>\n",
              "      <td>...</td>\n",
              "      <td>...</td>\n",
              "      <td>...</td>\n",
              "      <td>...</td>\n",
              "      <td>...</td>\n",
              "      <td>...</td>\n",
              "      <td>...</td>\n",
              "      <td>...</td>\n",
              "      <td>...</td>\n",
              "      <td>...</td>\n",
              "      <td>...</td>\n",
              "      <td>...</td>\n",
              "      <td>...</td>\n",
              "      <td>...</td>\n",
              "      <td>...</td>\n",
              "      <td>...</td>\n",
              "      <td>...</td>\n",
              "      <td>...</td>\n",
              "      <td>...</td>\n",
              "      <td>...</td>\n",
              "      <td>...</td>\n",
              "      <td>...</td>\n",
              "      <td>...</td>\n",
              "      <td>...</td>\n",
              "      <td>...</td>\n",
              "      <td>...</td>\n",
              "      <td>...</td>\n",
              "      <td>...</td>\n",
              "      <td>...</td>\n",
              "      <td>...</td>\n",
              "      <td>...</td>\n",
              "      <td>...</td>\n",
              "      <td>...</td>\n",
              "      <td>...</td>\n",
              "      <td>...</td>\n",
              "      <td>...</td>\n",
              "      <td>...</td>\n",
              "      <td>...</td>\n",
              "      <td>...</td>\n",
              "      <td>...</td>\n",
              "      <td>...</td>\n",
              "      <td>...</td>\n",
              "      <td>...</td>\n",
              "      <td>...</td>\n",
              "      <td>...</td>\n",
              "      <td>...</td>\n",
              "      <td>...</td>\n",
              "      <td>...</td>\n",
              "      <td>...</td>\n",
              "      <td>...</td>\n",
              "      <td>...</td>\n",
              "      <td>...</td>\n",
              "      <td>...</td>\n",
              "      <td>...</td>\n",
              "      <td>...</td>\n",
              "      <td>...</td>\n",
              "      <td>...</td>\n",
              "      <td>...</td>\n",
              "      <td>...</td>\n",
              "      <td>...</td>\n",
              "      <td>...</td>\n",
              "      <td>...</td>\n",
              "      <td>...</td>\n",
              "      <td>...</td>\n",
              "      <td>...</td>\n",
              "      <td>...</td>\n",
              "      <td>...</td>\n",
              "      <td>...</td>\n",
              "      <td>...</td>\n",
              "      <td>...</td>\n",
              "      <td>...</td>\n",
              "      <td>...</td>\n",
              "      <td>...</td>\n",
              "      <td>...</td>\n",
              "      <td>...</td>\n",
              "    </tr>\n",
              "    <tr>\n",
              "      <th>169095</th>\n",
              "      <td>Flat</td>\n",
              "      <td>1850000</td>\n",
              "      <td>North Karachi</td>\n",
              "      <td>Karachi</td>\n",
              "      <td>24.981857</td>\n",
              "      <td>67.060118</td>\n",
              "      <td>1</td>\n",
              "      <td>490.05</td>\n",
              "      <td>1</td>\n",
              "      <td>2019</td>\n",
              "      <td>7</td>\n",
              "      <td>17</td>\n",
              "      <td>3775.124987</td>\n",
              "      <td>0</td>\n",
              "      <td>0</td>\n",
              "      <td>0</td>\n",
              "      <td>0</td>\n",
              "      <td>0</td>\n",
              "      <td>0</td>\n",
              "      <td>0</td>\n",
              "      <td>0</td>\n",
              "      <td>0</td>\n",
              "      <td>0</td>\n",
              "      <td>0</td>\n",
              "      <td>0</td>\n",
              "      <td>0</td>\n",
              "      <td>0</td>\n",
              "      <td>0</td>\n",
              "      <td>0</td>\n",
              "      <td>0</td>\n",
              "      <td>0</td>\n",
              "      <td>0</td>\n",
              "      <td>0</td>\n",
              "      <td>0</td>\n",
              "      <td>0</td>\n",
              "      <td>0</td>\n",
              "      <td>0</td>\n",
              "      <td>0</td>\n",
              "      <td>0</td>\n",
              "      <td>0</td>\n",
              "      <td>...</td>\n",
              "      <td>0</td>\n",
              "      <td>0</td>\n",
              "      <td>0</td>\n",
              "      <td>0</td>\n",
              "      <td>0</td>\n",
              "      <td>0</td>\n",
              "      <td>0</td>\n",
              "      <td>0</td>\n",
              "      <td>0</td>\n",
              "      <td>0</td>\n",
              "      <td>0</td>\n",
              "      <td>0</td>\n",
              "      <td>0</td>\n",
              "      <td>0</td>\n",
              "      <td>0</td>\n",
              "      <td>0</td>\n",
              "      <td>0</td>\n",
              "      <td>0</td>\n",
              "      <td>0</td>\n",
              "      <td>0</td>\n",
              "      <td>0</td>\n",
              "      <td>0</td>\n",
              "      <td>0</td>\n",
              "      <td>0</td>\n",
              "      <td>0</td>\n",
              "      <td>0</td>\n",
              "      <td>0</td>\n",
              "      <td>0</td>\n",
              "      <td>0</td>\n",
              "      <td>0</td>\n",
              "      <td>0</td>\n",
              "      <td>0</td>\n",
              "      <td>0</td>\n",
              "      <td>0</td>\n",
              "      <td>0</td>\n",
              "      <td>0</td>\n",
              "      <td>0</td>\n",
              "      <td>0</td>\n",
              "      <td>0</td>\n",
              "      <td>0</td>\n",
              "    </tr>\n",
              "    <tr>\n",
              "      <th>170046</th>\n",
              "      <td>Flat</td>\n",
              "      <td>4600000</td>\n",
              "      <td>North Karachi</td>\n",
              "      <td>Karachi</td>\n",
              "      <td>24.990234</td>\n",
              "      <td>67.066505</td>\n",
              "      <td>2</td>\n",
              "      <td>1089.00</td>\n",
              "      <td>3</td>\n",
              "      <td>2019</td>\n",
              "      <td>7</td>\n",
              "      <td>17</td>\n",
              "      <td>4224.058770</td>\n",
              "      <td>0</td>\n",
              "      <td>0</td>\n",
              "      <td>0</td>\n",
              "      <td>0</td>\n",
              "      <td>0</td>\n",
              "      <td>0</td>\n",
              "      <td>0</td>\n",
              "      <td>0</td>\n",
              "      <td>0</td>\n",
              "      <td>0</td>\n",
              "      <td>0</td>\n",
              "      <td>0</td>\n",
              "      <td>0</td>\n",
              "      <td>0</td>\n",
              "      <td>0</td>\n",
              "      <td>0</td>\n",
              "      <td>0</td>\n",
              "      <td>0</td>\n",
              "      <td>0</td>\n",
              "      <td>0</td>\n",
              "      <td>0</td>\n",
              "      <td>0</td>\n",
              "      <td>0</td>\n",
              "      <td>0</td>\n",
              "      <td>0</td>\n",
              "      <td>0</td>\n",
              "      <td>0</td>\n",
              "      <td>...</td>\n",
              "      <td>0</td>\n",
              "      <td>0</td>\n",
              "      <td>0</td>\n",
              "      <td>0</td>\n",
              "      <td>0</td>\n",
              "      <td>0</td>\n",
              "      <td>0</td>\n",
              "      <td>0</td>\n",
              "      <td>0</td>\n",
              "      <td>0</td>\n",
              "      <td>0</td>\n",
              "      <td>0</td>\n",
              "      <td>0</td>\n",
              "      <td>0</td>\n",
              "      <td>0</td>\n",
              "      <td>0</td>\n",
              "      <td>0</td>\n",
              "      <td>0</td>\n",
              "      <td>0</td>\n",
              "      <td>0</td>\n",
              "      <td>0</td>\n",
              "      <td>0</td>\n",
              "      <td>0</td>\n",
              "      <td>0</td>\n",
              "      <td>0</td>\n",
              "      <td>0</td>\n",
              "      <td>0</td>\n",
              "      <td>0</td>\n",
              "      <td>0</td>\n",
              "      <td>0</td>\n",
              "      <td>0</td>\n",
              "      <td>0</td>\n",
              "      <td>0</td>\n",
              "      <td>0</td>\n",
              "      <td>0</td>\n",
              "      <td>0</td>\n",
              "      <td>0</td>\n",
              "      <td>0</td>\n",
              "      <td>0</td>\n",
              "      <td>0</td>\n",
              "    </tr>\n",
              "    <tr>\n",
              "      <th>175449</th>\n",
              "      <td>House</td>\n",
              "      <td>6600000</td>\n",
              "      <td>North Karachi</td>\n",
              "      <td>Karachi</td>\n",
              "      <td>24.972287</td>\n",
              "      <td>67.066298</td>\n",
              "      <td>3</td>\n",
              "      <td>1334.03</td>\n",
              "      <td>3</td>\n",
              "      <td>2019</td>\n",
              "      <td>7</td>\n",
              "      <td>17</td>\n",
              "      <td>4947.414976</td>\n",
              "      <td>0</td>\n",
              "      <td>0</td>\n",
              "      <td>0</td>\n",
              "      <td>0</td>\n",
              "      <td>0</td>\n",
              "      <td>0</td>\n",
              "      <td>0</td>\n",
              "      <td>0</td>\n",
              "      <td>0</td>\n",
              "      <td>0</td>\n",
              "      <td>0</td>\n",
              "      <td>0</td>\n",
              "      <td>0</td>\n",
              "      <td>0</td>\n",
              "      <td>0</td>\n",
              "      <td>0</td>\n",
              "      <td>0</td>\n",
              "      <td>0</td>\n",
              "      <td>0</td>\n",
              "      <td>0</td>\n",
              "      <td>0</td>\n",
              "      <td>0</td>\n",
              "      <td>0</td>\n",
              "      <td>0</td>\n",
              "      <td>0</td>\n",
              "      <td>0</td>\n",
              "      <td>0</td>\n",
              "      <td>...</td>\n",
              "      <td>0</td>\n",
              "      <td>0</td>\n",
              "      <td>0</td>\n",
              "      <td>0</td>\n",
              "      <td>0</td>\n",
              "      <td>0</td>\n",
              "      <td>0</td>\n",
              "      <td>0</td>\n",
              "      <td>0</td>\n",
              "      <td>0</td>\n",
              "      <td>0</td>\n",
              "      <td>0</td>\n",
              "      <td>0</td>\n",
              "      <td>0</td>\n",
              "      <td>0</td>\n",
              "      <td>0</td>\n",
              "      <td>0</td>\n",
              "      <td>0</td>\n",
              "      <td>0</td>\n",
              "      <td>0</td>\n",
              "      <td>0</td>\n",
              "      <td>0</td>\n",
              "      <td>0</td>\n",
              "      <td>0</td>\n",
              "      <td>0</td>\n",
              "      <td>0</td>\n",
              "      <td>0</td>\n",
              "      <td>0</td>\n",
              "      <td>0</td>\n",
              "      <td>0</td>\n",
              "      <td>0</td>\n",
              "      <td>0</td>\n",
              "      <td>0</td>\n",
              "      <td>0</td>\n",
              "      <td>0</td>\n",
              "      <td>0</td>\n",
              "      <td>0</td>\n",
              "      <td>0</td>\n",
              "      <td>0</td>\n",
              "      <td>0</td>\n",
              "    </tr>\n",
              "    <tr>\n",
              "      <th>177494</th>\n",
              "      <td>House</td>\n",
              "      <td>12600000</td>\n",
              "      <td>North Karachi</td>\n",
              "      <td>Karachi</td>\n",
              "      <td>24.974660</td>\n",
              "      <td>67.054667</td>\n",
              "      <td>2</td>\n",
              "      <td>1306.80</td>\n",
              "      <td>2</td>\n",
              "      <td>2019</td>\n",
              "      <td>7</td>\n",
              "      <td>17</td>\n",
              "      <td>9641.873278</td>\n",
              "      <td>0</td>\n",
              "      <td>0</td>\n",
              "      <td>0</td>\n",
              "      <td>0</td>\n",
              "      <td>0</td>\n",
              "      <td>0</td>\n",
              "      <td>0</td>\n",
              "      <td>0</td>\n",
              "      <td>0</td>\n",
              "      <td>0</td>\n",
              "      <td>0</td>\n",
              "      <td>0</td>\n",
              "      <td>0</td>\n",
              "      <td>0</td>\n",
              "      <td>0</td>\n",
              "      <td>0</td>\n",
              "      <td>0</td>\n",
              "      <td>0</td>\n",
              "      <td>0</td>\n",
              "      <td>0</td>\n",
              "      <td>0</td>\n",
              "      <td>0</td>\n",
              "      <td>0</td>\n",
              "      <td>0</td>\n",
              "      <td>0</td>\n",
              "      <td>0</td>\n",
              "      <td>0</td>\n",
              "      <td>...</td>\n",
              "      <td>0</td>\n",
              "      <td>0</td>\n",
              "      <td>0</td>\n",
              "      <td>0</td>\n",
              "      <td>0</td>\n",
              "      <td>0</td>\n",
              "      <td>0</td>\n",
              "      <td>0</td>\n",
              "      <td>0</td>\n",
              "      <td>0</td>\n",
              "      <td>0</td>\n",
              "      <td>0</td>\n",
              "      <td>0</td>\n",
              "      <td>0</td>\n",
              "      <td>0</td>\n",
              "      <td>0</td>\n",
              "      <td>0</td>\n",
              "      <td>0</td>\n",
              "      <td>0</td>\n",
              "      <td>0</td>\n",
              "      <td>0</td>\n",
              "      <td>0</td>\n",
              "      <td>0</td>\n",
              "      <td>0</td>\n",
              "      <td>0</td>\n",
              "      <td>0</td>\n",
              "      <td>0</td>\n",
              "      <td>0</td>\n",
              "      <td>0</td>\n",
              "      <td>0</td>\n",
              "      <td>0</td>\n",
              "      <td>0</td>\n",
              "      <td>0</td>\n",
              "      <td>0</td>\n",
              "      <td>0</td>\n",
              "      <td>0</td>\n",
              "      <td>0</td>\n",
              "      <td>0</td>\n",
              "      <td>0</td>\n",
              "      <td>0</td>\n",
              "    </tr>\n",
              "    <tr>\n",
              "      <th>178224</th>\n",
              "      <td>House</td>\n",
              "      <td>12000000</td>\n",
              "      <td>North Karachi</td>\n",
              "      <td>Karachi</td>\n",
              "      <td>24.965722</td>\n",
              "      <td>67.048622</td>\n",
              "      <td>5</td>\n",
              "      <td>1306.80</td>\n",
              "      <td>5</td>\n",
              "      <td>2019</td>\n",
              "      <td>7</td>\n",
              "      <td>18</td>\n",
              "      <td>9182.736455</td>\n",
              "      <td>0</td>\n",
              "      <td>0</td>\n",
              "      <td>0</td>\n",
              "      <td>0</td>\n",
              "      <td>0</td>\n",
              "      <td>0</td>\n",
              "      <td>0</td>\n",
              "      <td>0</td>\n",
              "      <td>0</td>\n",
              "      <td>0</td>\n",
              "      <td>0</td>\n",
              "      <td>0</td>\n",
              "      <td>0</td>\n",
              "      <td>0</td>\n",
              "      <td>0</td>\n",
              "      <td>0</td>\n",
              "      <td>0</td>\n",
              "      <td>0</td>\n",
              "      <td>0</td>\n",
              "      <td>0</td>\n",
              "      <td>0</td>\n",
              "      <td>0</td>\n",
              "      <td>0</td>\n",
              "      <td>0</td>\n",
              "      <td>0</td>\n",
              "      <td>0</td>\n",
              "      <td>0</td>\n",
              "      <td>...</td>\n",
              "      <td>0</td>\n",
              "      <td>0</td>\n",
              "      <td>0</td>\n",
              "      <td>0</td>\n",
              "      <td>0</td>\n",
              "      <td>0</td>\n",
              "      <td>0</td>\n",
              "      <td>0</td>\n",
              "      <td>0</td>\n",
              "      <td>0</td>\n",
              "      <td>0</td>\n",
              "      <td>0</td>\n",
              "      <td>0</td>\n",
              "      <td>0</td>\n",
              "      <td>0</td>\n",
              "      <td>0</td>\n",
              "      <td>0</td>\n",
              "      <td>0</td>\n",
              "      <td>0</td>\n",
              "      <td>0</td>\n",
              "      <td>0</td>\n",
              "      <td>0</td>\n",
              "      <td>0</td>\n",
              "      <td>0</td>\n",
              "      <td>0</td>\n",
              "      <td>0</td>\n",
              "      <td>0</td>\n",
              "      <td>0</td>\n",
              "      <td>0</td>\n",
              "      <td>0</td>\n",
              "      <td>0</td>\n",
              "      <td>0</td>\n",
              "      <td>0</td>\n",
              "      <td>0</td>\n",
              "      <td>0</td>\n",
              "      <td>0</td>\n",
              "      <td>0</td>\n",
              "      <td>0</td>\n",
              "      <td>0</td>\n",
              "      <td>0</td>\n",
              "    </tr>\n",
              "  </tbody>\n",
              "</table>\n",
              "<p>1275 rows × 549 columns</p>\n",
              "</div>"
            ],
            "text/plain": [
              "       property_type     price  ... Zaraj Housing Scheme Zubaida Park\n",
              "329            House   7000000  ...                    0            0\n",
              "369            House  16000000  ...                    0            0\n",
              "1420            Flat   4000000  ...                    0            0\n",
              "1425           House  14000000  ...                    0            0\n",
              "1478           House  12000000  ...                    0            0\n",
              "...              ...       ...  ...                  ...          ...\n",
              "169095          Flat   1850000  ...                    0            0\n",
              "170046          Flat   4600000  ...                    0            0\n",
              "175449         House   6600000  ...                    0            0\n",
              "177494         House  12600000  ...                    0            0\n",
              "178224         House  12000000  ...                    0            0\n",
              "\n",
              "[1275 rows x 549 columns]"
            ]
          },
          "metadata": {
            "tags": []
          },
          "execution_count": 277
        }
      ]
    },
    {
      "cell_type": "code",
      "metadata": {
        "colab": {
          "base_uri": "https://localhost:8080/",
          "height": 225
        },
        "id": "Nmw5y1uv8TVU",
        "outputId": "c23f24d6-3341-429b-b1fb-75fae2bbfd3d"
      },
      "source": [
        "df11 = df10.drop(['location','city','latitude','longitude','property_type', 'year', 'month', 'day'],axis=1)\n",
        "df11.head(2)"
      ],
      "execution_count": null,
      "outputs": [
        {
          "output_type": "execute_result",
          "data": {
            "text/html": [
              "<div>\n",
              "<style scoped>\n",
              "    .dataframe tbody tr th:only-of-type {\n",
              "        vertical-align: middle;\n",
              "    }\n",
              "\n",
              "    .dataframe tbody tr th {\n",
              "        vertical-align: top;\n",
              "    }\n",
              "\n",
              "    .dataframe thead th {\n",
              "        text-align: right;\n",
              "    }\n",
              "</style>\n",
              "<table border=\"1\" class=\"dataframe\">\n",
              "  <thead>\n",
              "    <tr style=\"text-align: right;\">\n",
              "      <th></th>\n",
              "      <th>price</th>\n",
              "      <th>baths</th>\n",
              "      <th>area_sqft</th>\n",
              "      <th>bedrooms</th>\n",
              "      <th>price_per_sqft</th>\n",
              "      <th>ASF Tower</th>\n",
              "      <th>AWT Army Welfare Trust</th>\n",
              "      <th>Aashiana Road</th>\n",
              "      <th>Abdalians Cooperative Housing Society</th>\n",
              "      <th>Abul Hassan Isphani Road</th>\n",
              "      <th>Adiala Road</th>\n",
              "      <th>Afshan Colony</th>\n",
              "      <th>Ahmadabad</th>\n",
              "      <th>Airline Housing Society</th>\n",
              "      <th>Airport</th>\n",
              "      <th>Airport Housing Society</th>\n",
              "      <th>Airport Road</th>\n",
              "      <th>Aisha Manzil</th>\n",
              "      <th>Aitchison Society</th>\n",
              "      <th>Al Faisal Town</th>\n",
              "      <th>Al Fayaz Colony</th>\n",
              "      <th>Al Hafeez Gardens</th>\n",
              "      <th>Al Hamad Colony</th>\n",
              "      <th>Al Jalil Garden</th>\n",
              "      <th>Al Kareem Garden</th>\n",
              "      <th>Al Najaf Colony</th>\n",
              "      <th>Al Noor Garden</th>\n",
              "      <th>Al Rehman Garden</th>\n",
              "      <th>Al-Hafiz Town</th>\n",
              "      <th>Al-Hamad Colony (AIT)</th>\n",
              "      <th>Al-Hamd Park</th>\n",
              "      <th>Al-Jannat Housing Society - Kahna</th>\n",
              "      <th>Al-Kabir Town</th>\n",
              "      <th>Al-Noor Colony</th>\n",
              "      <th>Alfalah Town</th>\n",
              "      <th>Ali Alam Garden</th>\n",
              "      <th>Ali Pur</th>\n",
              "      <th>Ali Town</th>\n",
              "      <th>Ali View Garden</th>\n",
              "      <th>Ali View Park</th>\n",
              "      <th>...</th>\n",
              "      <th>Sunny Park</th>\n",
              "      <th>Suparco Road</th>\n",
              "      <th>Super Highway</th>\n",
              "      <th>Super Town</th>\n",
              "      <th>Swan Garden</th>\n",
              "      <th>T &amp; T Aabpara Housing Society</th>\n",
              "      <th>Taj Bagh Scheme</th>\n",
              "      <th>Tajpura</th>\n",
              "      <th>Taramrri</th>\n",
              "      <th>Tariq Gardens</th>\n",
              "      <th>Tariq Road</th>\n",
              "      <th>Tarlai</th>\n",
              "      <th>Tarnol</th>\n",
              "      <th>Tarogill</th>\n",
              "      <th>Tench Bhata</th>\n",
              "      <th>Thanda Pani</th>\n",
              "      <th>The Springs</th>\n",
              "      <th>Thokar Niaz Baig</th>\n",
              "      <th>Township</th>\n",
              "      <th>Transformer Chowk</th>\n",
              "      <th>Tulsa Road</th>\n",
              "      <th>UET Housing Society</th>\n",
              "      <th>University Road</th>\n",
              "      <th>Valencia Housing Society</th>\n",
              "      <th>Wafaqi Colony</th>\n",
              "      <th>Wahdat Colony</th>\n",
              "      <th>Wahdat Road</th>\n",
              "      <th>Walled City</th>\n",
              "      <th>Walton Road</th>\n",
              "      <th>Wapda City</th>\n",
              "      <th>Wapda Town</th>\n",
              "      <th>Wassanpura</th>\n",
              "      <th>Wazir Town</th>\n",
              "      <th>Westridge</th>\n",
              "      <th>Yousaf Colony</th>\n",
              "      <th>Yousaf Town</th>\n",
              "      <th>Zaheer Villas</th>\n",
              "      <th>Zaitoon - New Lahore City</th>\n",
              "      <th>Zaraj Housing Scheme</th>\n",
              "      <th>Zubaida Park</th>\n",
              "    </tr>\n",
              "  </thead>\n",
              "  <tbody>\n",
              "    <tr>\n",
              "      <th>4</th>\n",
              "      <td>21000000</td>\n",
              "      <td>5</td>\n",
              "      <td>2994.76</td>\n",
              "      <td>6</td>\n",
              "      <td>7012.248060</td>\n",
              "      <td>0</td>\n",
              "      <td>0</td>\n",
              "      <td>0</td>\n",
              "      <td>0</td>\n",
              "      <td>0</td>\n",
              "      <td>0</td>\n",
              "      <td>0</td>\n",
              "      <td>0</td>\n",
              "      <td>0</td>\n",
              "      <td>0</td>\n",
              "      <td>0</td>\n",
              "      <td>0</td>\n",
              "      <td>0</td>\n",
              "      <td>0</td>\n",
              "      <td>0</td>\n",
              "      <td>0</td>\n",
              "      <td>0</td>\n",
              "      <td>0</td>\n",
              "      <td>0</td>\n",
              "      <td>0</td>\n",
              "      <td>0</td>\n",
              "      <td>0</td>\n",
              "      <td>0</td>\n",
              "      <td>0</td>\n",
              "      <td>0</td>\n",
              "      <td>0</td>\n",
              "      <td>0</td>\n",
              "      <td>0</td>\n",
              "      <td>0</td>\n",
              "      <td>0</td>\n",
              "      <td>0</td>\n",
              "      <td>0</td>\n",
              "      <td>0</td>\n",
              "      <td>0</td>\n",
              "      <td>0</td>\n",
              "      <td>...</td>\n",
              "      <td>0</td>\n",
              "      <td>0</td>\n",
              "      <td>0</td>\n",
              "      <td>0</td>\n",
              "      <td>0</td>\n",
              "      <td>0</td>\n",
              "      <td>0</td>\n",
              "      <td>0</td>\n",
              "      <td>0</td>\n",
              "      <td>0</td>\n",
              "      <td>0</td>\n",
              "      <td>0</td>\n",
              "      <td>0</td>\n",
              "      <td>0</td>\n",
              "      <td>0</td>\n",
              "      <td>0</td>\n",
              "      <td>0</td>\n",
              "      <td>0</td>\n",
              "      <td>0</td>\n",
              "      <td>0</td>\n",
              "      <td>0</td>\n",
              "      <td>0</td>\n",
              "      <td>0</td>\n",
              "      <td>0</td>\n",
              "      <td>0</td>\n",
              "      <td>0</td>\n",
              "      <td>0</td>\n",
              "      <td>0</td>\n",
              "      <td>0</td>\n",
              "      <td>0</td>\n",
              "      <td>0</td>\n",
              "      <td>0</td>\n",
              "      <td>0</td>\n",
              "      <td>0</td>\n",
              "      <td>0</td>\n",
              "      <td>0</td>\n",
              "      <td>0</td>\n",
              "      <td>0</td>\n",
              "      <td>0</td>\n",
              "      <td>0</td>\n",
              "    </tr>\n",
              "    <tr>\n",
              "      <th>6</th>\n",
              "      <td>16500000</td>\n",
              "      <td>7</td>\n",
              "      <td>2178.01</td>\n",
              "      <td>6</td>\n",
              "      <td>7575.722793</td>\n",
              "      <td>0</td>\n",
              "      <td>0</td>\n",
              "      <td>0</td>\n",
              "      <td>0</td>\n",
              "      <td>0</td>\n",
              "      <td>0</td>\n",
              "      <td>0</td>\n",
              "      <td>0</td>\n",
              "      <td>0</td>\n",
              "      <td>0</td>\n",
              "      <td>0</td>\n",
              "      <td>0</td>\n",
              "      <td>0</td>\n",
              "      <td>0</td>\n",
              "      <td>0</td>\n",
              "      <td>0</td>\n",
              "      <td>0</td>\n",
              "      <td>0</td>\n",
              "      <td>0</td>\n",
              "      <td>0</td>\n",
              "      <td>0</td>\n",
              "      <td>0</td>\n",
              "      <td>0</td>\n",
              "      <td>0</td>\n",
              "      <td>0</td>\n",
              "      <td>0</td>\n",
              "      <td>0</td>\n",
              "      <td>0</td>\n",
              "      <td>0</td>\n",
              "      <td>0</td>\n",
              "      <td>0</td>\n",
              "      <td>0</td>\n",
              "      <td>0</td>\n",
              "      <td>0</td>\n",
              "      <td>0</td>\n",
              "      <td>...</td>\n",
              "      <td>0</td>\n",
              "      <td>0</td>\n",
              "      <td>0</td>\n",
              "      <td>0</td>\n",
              "      <td>0</td>\n",
              "      <td>0</td>\n",
              "      <td>0</td>\n",
              "      <td>0</td>\n",
              "      <td>0</td>\n",
              "      <td>0</td>\n",
              "      <td>0</td>\n",
              "      <td>0</td>\n",
              "      <td>0</td>\n",
              "      <td>0</td>\n",
              "      <td>0</td>\n",
              "      <td>0</td>\n",
              "      <td>0</td>\n",
              "      <td>0</td>\n",
              "      <td>0</td>\n",
              "      <td>0</td>\n",
              "      <td>0</td>\n",
              "      <td>0</td>\n",
              "      <td>0</td>\n",
              "      <td>0</td>\n",
              "      <td>0</td>\n",
              "      <td>0</td>\n",
              "      <td>0</td>\n",
              "      <td>0</td>\n",
              "      <td>0</td>\n",
              "      <td>0</td>\n",
              "      <td>0</td>\n",
              "      <td>0</td>\n",
              "      <td>0</td>\n",
              "      <td>0</td>\n",
              "      <td>0</td>\n",
              "      <td>0</td>\n",
              "      <td>0</td>\n",
              "      <td>0</td>\n",
              "      <td>0</td>\n",
              "      <td>0</td>\n",
              "    </tr>\n",
              "  </tbody>\n",
              "</table>\n",
              "<p>2 rows × 541 columns</p>\n",
              "</div>"
            ],
            "text/plain": [
              "      price  baths  ...  Zaraj Housing Scheme  Zubaida Park\n",
              "4  21000000      5  ...                     0             0\n",
              "6  16500000      7  ...                     0             0\n",
              "\n",
              "[2 rows x 541 columns]"
            ]
          },
          "metadata": {
            "tags": []
          },
          "execution_count": 299
        }
      ]
    },
    {
      "cell_type": "code",
      "metadata": {
        "colab": {
          "base_uri": "https://localhost:8080/"
        },
        "id": "rjSiObD68onZ",
        "outputId": "75284c0d-819a-4e8e-90c0-b49848850886"
      },
      "source": [
        "df11['North Karachi']"
      ],
      "execution_count": null,
      "outputs": [
        {
          "output_type": "execute_result",
          "data": {
            "text/plain": [
              "4         0\n",
              "6         0\n",
              "10        0\n",
              "12        0\n",
              "15        0\n",
              "         ..\n",
              "190966    0\n",
              "190967    0\n",
              "190969    0\n",
              "190970    0\n",
              "190971    0\n",
              "Name: North Karachi, Length: 65244, dtype: uint8"
            ]
          },
          "metadata": {
            "tags": []
          },
          "execution_count": 300
        }
      ]
    },
    {
      "cell_type": "code",
      "metadata": {
        "colab": {
          "base_uri": "https://localhost:8080/"
        },
        "id": "RfBAsipScAOW",
        "outputId": "e5af4bf3-21c7-47f7-b903-bd9f1fc9a596"
      },
      "source": [
        "df11.shape\n"
      ],
      "execution_count": null,
      "outputs": [
        {
          "output_type": "execute_result",
          "data": {
            "text/plain": [
              "(65244, 541)"
            ]
          },
          "metadata": {
            "tags": []
          },
          "execution_count": 301
        }
      ]
    },
    {
      "cell_type": "code",
      "metadata": {
        "colab": {
          "base_uri": "https://localhost:8080/",
          "height": 255
        },
        "id": "TGot10C58ujg",
        "outputId": "11a46588-0cbc-4ac8-ef87-da8212d8fa8f"
      },
      "source": [
        "X = df11.drop(['price'],axis='columns')\n",
        "X.head(3)"
      ],
      "execution_count": null,
      "outputs": [
        {
          "output_type": "execute_result",
          "data": {
            "text/html": [
              "<div>\n",
              "<style scoped>\n",
              "    .dataframe tbody tr th:only-of-type {\n",
              "        vertical-align: middle;\n",
              "    }\n",
              "\n",
              "    .dataframe tbody tr th {\n",
              "        vertical-align: top;\n",
              "    }\n",
              "\n",
              "    .dataframe thead th {\n",
              "        text-align: right;\n",
              "    }\n",
              "</style>\n",
              "<table border=\"1\" class=\"dataframe\">\n",
              "  <thead>\n",
              "    <tr style=\"text-align: right;\">\n",
              "      <th></th>\n",
              "      <th>baths</th>\n",
              "      <th>area_sqft</th>\n",
              "      <th>bedrooms</th>\n",
              "      <th>price_per_sqft</th>\n",
              "      <th>ASF Tower</th>\n",
              "      <th>AWT Army Welfare Trust</th>\n",
              "      <th>Aashiana Road</th>\n",
              "      <th>Abdalians Cooperative Housing Society</th>\n",
              "      <th>Abul Hassan Isphani Road</th>\n",
              "      <th>Adiala Road</th>\n",
              "      <th>Afshan Colony</th>\n",
              "      <th>Ahmadabad</th>\n",
              "      <th>Airline Housing Society</th>\n",
              "      <th>Airport</th>\n",
              "      <th>Airport Housing Society</th>\n",
              "      <th>Airport Road</th>\n",
              "      <th>Aisha Manzil</th>\n",
              "      <th>Aitchison Society</th>\n",
              "      <th>Al Faisal Town</th>\n",
              "      <th>Al Fayaz Colony</th>\n",
              "      <th>Al Hafeez Gardens</th>\n",
              "      <th>Al Hamad Colony</th>\n",
              "      <th>Al Jalil Garden</th>\n",
              "      <th>Al Kareem Garden</th>\n",
              "      <th>Al Najaf Colony</th>\n",
              "      <th>Al Noor Garden</th>\n",
              "      <th>Al Rehman Garden</th>\n",
              "      <th>Al-Hafiz Town</th>\n",
              "      <th>Al-Hamad Colony (AIT)</th>\n",
              "      <th>Al-Hamd Park</th>\n",
              "      <th>Al-Jannat Housing Society - Kahna</th>\n",
              "      <th>Al-Kabir Town</th>\n",
              "      <th>Al-Noor Colony</th>\n",
              "      <th>Alfalah Town</th>\n",
              "      <th>Ali Alam Garden</th>\n",
              "      <th>Ali Pur</th>\n",
              "      <th>Ali Town</th>\n",
              "      <th>Ali View Garden</th>\n",
              "      <th>Ali View Park</th>\n",
              "      <th>Alipur Farash</th>\n",
              "      <th>...</th>\n",
              "      <th>Sunny Park</th>\n",
              "      <th>Suparco Road</th>\n",
              "      <th>Super Highway</th>\n",
              "      <th>Super Town</th>\n",
              "      <th>Swan Garden</th>\n",
              "      <th>T &amp; T Aabpara Housing Society</th>\n",
              "      <th>Taj Bagh Scheme</th>\n",
              "      <th>Tajpura</th>\n",
              "      <th>Taramrri</th>\n",
              "      <th>Tariq Gardens</th>\n",
              "      <th>Tariq Road</th>\n",
              "      <th>Tarlai</th>\n",
              "      <th>Tarnol</th>\n",
              "      <th>Tarogill</th>\n",
              "      <th>Tench Bhata</th>\n",
              "      <th>Thanda Pani</th>\n",
              "      <th>The Springs</th>\n",
              "      <th>Thokar Niaz Baig</th>\n",
              "      <th>Township</th>\n",
              "      <th>Transformer Chowk</th>\n",
              "      <th>Tulsa Road</th>\n",
              "      <th>UET Housing Society</th>\n",
              "      <th>University Road</th>\n",
              "      <th>Valencia Housing Society</th>\n",
              "      <th>Wafaqi Colony</th>\n",
              "      <th>Wahdat Colony</th>\n",
              "      <th>Wahdat Road</th>\n",
              "      <th>Walled City</th>\n",
              "      <th>Walton Road</th>\n",
              "      <th>Wapda City</th>\n",
              "      <th>Wapda Town</th>\n",
              "      <th>Wassanpura</th>\n",
              "      <th>Wazir Town</th>\n",
              "      <th>Westridge</th>\n",
              "      <th>Yousaf Colony</th>\n",
              "      <th>Yousaf Town</th>\n",
              "      <th>Zaheer Villas</th>\n",
              "      <th>Zaitoon - New Lahore City</th>\n",
              "      <th>Zaraj Housing Scheme</th>\n",
              "      <th>Zubaida Park</th>\n",
              "    </tr>\n",
              "  </thead>\n",
              "  <tbody>\n",
              "    <tr>\n",
              "      <th>4</th>\n",
              "      <td>5</td>\n",
              "      <td>2994.76</td>\n",
              "      <td>6</td>\n",
              "      <td>7012.248060</td>\n",
              "      <td>0</td>\n",
              "      <td>0</td>\n",
              "      <td>0</td>\n",
              "      <td>0</td>\n",
              "      <td>0</td>\n",
              "      <td>0</td>\n",
              "      <td>0</td>\n",
              "      <td>0</td>\n",
              "      <td>0</td>\n",
              "      <td>0</td>\n",
              "      <td>0</td>\n",
              "      <td>0</td>\n",
              "      <td>0</td>\n",
              "      <td>0</td>\n",
              "      <td>0</td>\n",
              "      <td>0</td>\n",
              "      <td>0</td>\n",
              "      <td>0</td>\n",
              "      <td>0</td>\n",
              "      <td>0</td>\n",
              "      <td>0</td>\n",
              "      <td>0</td>\n",
              "      <td>0</td>\n",
              "      <td>0</td>\n",
              "      <td>0</td>\n",
              "      <td>0</td>\n",
              "      <td>0</td>\n",
              "      <td>0</td>\n",
              "      <td>0</td>\n",
              "      <td>0</td>\n",
              "      <td>0</td>\n",
              "      <td>0</td>\n",
              "      <td>0</td>\n",
              "      <td>0</td>\n",
              "      <td>0</td>\n",
              "      <td>0</td>\n",
              "      <td>...</td>\n",
              "      <td>0</td>\n",
              "      <td>0</td>\n",
              "      <td>0</td>\n",
              "      <td>0</td>\n",
              "      <td>0</td>\n",
              "      <td>0</td>\n",
              "      <td>0</td>\n",
              "      <td>0</td>\n",
              "      <td>0</td>\n",
              "      <td>0</td>\n",
              "      <td>0</td>\n",
              "      <td>0</td>\n",
              "      <td>0</td>\n",
              "      <td>0</td>\n",
              "      <td>0</td>\n",
              "      <td>0</td>\n",
              "      <td>0</td>\n",
              "      <td>0</td>\n",
              "      <td>0</td>\n",
              "      <td>0</td>\n",
              "      <td>0</td>\n",
              "      <td>0</td>\n",
              "      <td>0</td>\n",
              "      <td>0</td>\n",
              "      <td>0</td>\n",
              "      <td>0</td>\n",
              "      <td>0</td>\n",
              "      <td>0</td>\n",
              "      <td>0</td>\n",
              "      <td>0</td>\n",
              "      <td>0</td>\n",
              "      <td>0</td>\n",
              "      <td>0</td>\n",
              "      <td>0</td>\n",
              "      <td>0</td>\n",
              "      <td>0</td>\n",
              "      <td>0</td>\n",
              "      <td>0</td>\n",
              "      <td>0</td>\n",
              "      <td>0</td>\n",
              "    </tr>\n",
              "    <tr>\n",
              "      <th>6</th>\n",
              "      <td>7</td>\n",
              "      <td>2178.01</td>\n",
              "      <td>6</td>\n",
              "      <td>7575.722793</td>\n",
              "      <td>0</td>\n",
              "      <td>0</td>\n",
              "      <td>0</td>\n",
              "      <td>0</td>\n",
              "      <td>0</td>\n",
              "      <td>0</td>\n",
              "      <td>0</td>\n",
              "      <td>0</td>\n",
              "      <td>0</td>\n",
              "      <td>0</td>\n",
              "      <td>0</td>\n",
              "      <td>0</td>\n",
              "      <td>0</td>\n",
              "      <td>0</td>\n",
              "      <td>0</td>\n",
              "      <td>0</td>\n",
              "      <td>0</td>\n",
              "      <td>0</td>\n",
              "      <td>0</td>\n",
              "      <td>0</td>\n",
              "      <td>0</td>\n",
              "      <td>0</td>\n",
              "      <td>0</td>\n",
              "      <td>0</td>\n",
              "      <td>0</td>\n",
              "      <td>0</td>\n",
              "      <td>0</td>\n",
              "      <td>0</td>\n",
              "      <td>0</td>\n",
              "      <td>0</td>\n",
              "      <td>0</td>\n",
              "      <td>0</td>\n",
              "      <td>0</td>\n",
              "      <td>0</td>\n",
              "      <td>0</td>\n",
              "      <td>0</td>\n",
              "      <td>...</td>\n",
              "      <td>0</td>\n",
              "      <td>0</td>\n",
              "      <td>0</td>\n",
              "      <td>0</td>\n",
              "      <td>0</td>\n",
              "      <td>0</td>\n",
              "      <td>0</td>\n",
              "      <td>0</td>\n",
              "      <td>0</td>\n",
              "      <td>0</td>\n",
              "      <td>0</td>\n",
              "      <td>0</td>\n",
              "      <td>0</td>\n",
              "      <td>0</td>\n",
              "      <td>0</td>\n",
              "      <td>0</td>\n",
              "      <td>0</td>\n",
              "      <td>0</td>\n",
              "      <td>0</td>\n",
              "      <td>0</td>\n",
              "      <td>0</td>\n",
              "      <td>0</td>\n",
              "      <td>0</td>\n",
              "      <td>0</td>\n",
              "      <td>0</td>\n",
              "      <td>0</td>\n",
              "      <td>0</td>\n",
              "      <td>0</td>\n",
              "      <td>0</td>\n",
              "      <td>0</td>\n",
              "      <td>0</td>\n",
              "      <td>0</td>\n",
              "      <td>0</td>\n",
              "      <td>0</td>\n",
              "      <td>0</td>\n",
              "      <td>0</td>\n",
              "      <td>0</td>\n",
              "      <td>0</td>\n",
              "      <td>0</td>\n",
              "      <td>0</td>\n",
              "    </tr>\n",
              "    <tr>\n",
              "      <th>10</th>\n",
              "      <td>4</td>\n",
              "      <td>2041.88</td>\n",
              "      <td>4</td>\n",
              "      <td>6611.554058</td>\n",
              "      <td>0</td>\n",
              "      <td>0</td>\n",
              "      <td>0</td>\n",
              "      <td>0</td>\n",
              "      <td>0</td>\n",
              "      <td>0</td>\n",
              "      <td>0</td>\n",
              "      <td>0</td>\n",
              "      <td>0</td>\n",
              "      <td>0</td>\n",
              "      <td>0</td>\n",
              "      <td>0</td>\n",
              "      <td>0</td>\n",
              "      <td>0</td>\n",
              "      <td>0</td>\n",
              "      <td>0</td>\n",
              "      <td>0</td>\n",
              "      <td>0</td>\n",
              "      <td>0</td>\n",
              "      <td>0</td>\n",
              "      <td>0</td>\n",
              "      <td>0</td>\n",
              "      <td>0</td>\n",
              "      <td>0</td>\n",
              "      <td>0</td>\n",
              "      <td>0</td>\n",
              "      <td>0</td>\n",
              "      <td>0</td>\n",
              "      <td>0</td>\n",
              "      <td>0</td>\n",
              "      <td>0</td>\n",
              "      <td>0</td>\n",
              "      <td>0</td>\n",
              "      <td>0</td>\n",
              "      <td>0</td>\n",
              "      <td>0</td>\n",
              "      <td>...</td>\n",
              "      <td>0</td>\n",
              "      <td>0</td>\n",
              "      <td>0</td>\n",
              "      <td>0</td>\n",
              "      <td>0</td>\n",
              "      <td>0</td>\n",
              "      <td>0</td>\n",
              "      <td>0</td>\n",
              "      <td>0</td>\n",
              "      <td>0</td>\n",
              "      <td>0</td>\n",
              "      <td>0</td>\n",
              "      <td>0</td>\n",
              "      <td>0</td>\n",
              "      <td>0</td>\n",
              "      <td>0</td>\n",
              "      <td>0</td>\n",
              "      <td>0</td>\n",
              "      <td>0</td>\n",
              "      <td>0</td>\n",
              "      <td>0</td>\n",
              "      <td>0</td>\n",
              "      <td>0</td>\n",
              "      <td>0</td>\n",
              "      <td>0</td>\n",
              "      <td>0</td>\n",
              "      <td>0</td>\n",
              "      <td>0</td>\n",
              "      <td>0</td>\n",
              "      <td>0</td>\n",
              "      <td>0</td>\n",
              "      <td>0</td>\n",
              "      <td>0</td>\n",
              "      <td>0</td>\n",
              "      <td>0</td>\n",
              "      <td>0</td>\n",
              "      <td>0</td>\n",
              "      <td>0</td>\n",
              "      <td>0</td>\n",
              "      <td>0</td>\n",
              "    </tr>\n",
              "  </tbody>\n",
              "</table>\n",
              "<p>3 rows × 540 columns</p>\n",
              "</div>"
            ],
            "text/plain": [
              "    baths  area_sqft  ...  Zaraj Housing Scheme  Zubaida Park\n",
              "4       5    2994.76  ...                     0             0\n",
              "6       7    2178.01  ...                     0             0\n",
              "10      4    2041.88  ...                     0             0\n",
              "\n",
              "[3 rows x 540 columns]"
            ]
          },
          "metadata": {
            "tags": []
          },
          "execution_count": 302
        }
      ]
    },
    {
      "cell_type": "code",
      "metadata": {
        "id": "pQtuaXhE9Gdr"
      },
      "source": [
        "y = df11.price"
      ],
      "execution_count": null,
      "outputs": []
    },
    {
      "cell_type": "markdown",
      "metadata": {
        "id": "GVEngEZID4dU"
      },
      "source": [
        "# Model training"
      ]
    },
    {
      "cell_type": "code",
      "metadata": {
        "id": "UVey58ZP81PI"
      },
      "source": [
        "from sklearn.model_selection import train_test_split\n",
        "X_train, X_test, y_train, y_test = train_test_split(X,y,test_size=0.3,random_state=8)"
      ],
      "execution_count": null,
      "outputs": []
    },
    {
      "cell_type": "markdown",
      "metadata": {
        "id": "b06rhjnqD_Wi"
      },
      "source": [
        "# Fitting and checking score of a model"
      ]
    },
    {
      "cell_type": "code",
      "metadata": {
        "colab": {
          "base_uri": "https://localhost:8080/"
        },
        "id": "TL3JKpdE88sr",
        "outputId": "2f7c2997-8a10-43b4-f8db-1c328ca10ffa"
      },
      "source": [
        "from sklearn.linear_model import LinearRegression\n",
        "lr = LinearRegression()\n",
        "lr.fit(X_train,y_train)\n",
        "lr.score(X_test,y_test)"
      ],
      "execution_count": null,
      "outputs": [
        {
          "output_type": "execute_result",
          "data": {
            "text/plain": [
              "0.9440191406152163"
            ]
          },
          "metadata": {
            "tags": []
          },
          "execution_count": 305
        }
      ]
    },
    {
      "cell_type": "markdown",
      "metadata": {
        "id": "A64xmbNIEGWT"
      },
      "source": [
        "## Finding predicted y"
      ]
    },
    {
      "cell_type": "code",
      "metadata": {
        "id": "q04qb_RxaaWp"
      },
      "source": [
        "pred_ylr = lr.predict(X_test)"
      ],
      "execution_count": null,
      "outputs": []
    },
    {
      "cell_type": "code",
      "metadata": {
        "colab": {
          "base_uri": "https://localhost:8080/"
        },
        "id": "Cws5Z8JlaRDu",
        "outputId": "8d7fa4da-1862-4388-f995-82bdd4ce2e07"
      },
      "source": [
        "from sklearn import metrics\n",
        "print('Linear Regressor Performance\\n')\n",
        "print('MAE:', round(metrics.mean_absolute_error(y_test, pred_ylr),2)) \n",
        "print('MSE:', round(metrics.mean_squared_error(y_test, pred_ylr),2))\n",
        "print('RMSE:', round(np.sqrt(metrics.mean_squared_error(y_test, pred_ylr)),2)) "
      ],
      "execution_count": null,
      "outputs": [
        {
          "output_type": "stream",
          "text": [
            "Linear Regressor Performance\n",
            "\n",
            "MAE: 1121814.25\n",
            "MSE: 2471080239072.32\n",
            "RMSE: 1571967.0\n"
          ],
          "name": "stdout"
        }
      ]
    },
    {
      "cell_type": "code",
      "metadata": {
        "colab": {
          "base_uri": "https://localhost:8080/",
          "height": 414
        },
        "id": "NGdf5r0xa0Pb",
        "outputId": "277ddfa9-c2a5-47ee-ecfe-faf7ac143d59"
      },
      "source": [
        "pd.DataFrame(lr.coef_  ,X.columns, columns=['Coeffecient'])"
      ],
      "execution_count": null,
      "outputs": [
        {
          "output_type": "execute_result",
          "data": {
            "text/html": [
              "<div>\n",
              "<style scoped>\n",
              "    .dataframe tbody tr th:only-of-type {\n",
              "        vertical-align: middle;\n",
              "    }\n",
              "\n",
              "    .dataframe tbody tr th {\n",
              "        vertical-align: top;\n",
              "    }\n",
              "\n",
              "    .dataframe thead th {\n",
              "        text-align: right;\n",
              "    }\n",
              "</style>\n",
              "<table border=\"1\" class=\"dataframe\">\n",
              "  <thead>\n",
              "    <tr style=\"text-align: right;\">\n",
              "      <th></th>\n",
              "      <th>Coeffecient</th>\n",
              "    </tr>\n",
              "  </thead>\n",
              "  <tbody>\n",
              "    <tr>\n",
              "      <th>baths</th>\n",
              "      <td>89082.376909</td>\n",
              "    </tr>\n",
              "    <tr>\n",
              "      <th>area_sqft</th>\n",
              "      <td>6477.366944</td>\n",
              "    </tr>\n",
              "    <tr>\n",
              "      <th>bedrooms</th>\n",
              "      <td>17580.059832</td>\n",
              "    </tr>\n",
              "    <tr>\n",
              "      <th>price_per_sqft</th>\n",
              "      <td>1526.472461</td>\n",
              "    </tr>\n",
              "    <tr>\n",
              "      <th>ASF Tower</th>\n",
              "      <td>-674301.940585</td>\n",
              "    </tr>\n",
              "    <tr>\n",
              "      <th>...</th>\n",
              "      <td>...</td>\n",
              "    </tr>\n",
              "    <tr>\n",
              "      <th>Yousaf Town</th>\n",
              "      <td>370639.024367</td>\n",
              "    </tr>\n",
              "    <tr>\n",
              "      <th>Zaheer Villas</th>\n",
              "      <td>-256250.265372</td>\n",
              "    </tr>\n",
              "    <tr>\n",
              "      <th>Zaitoon - New Lahore City</th>\n",
              "      <td>179255.058927</td>\n",
              "    </tr>\n",
              "    <tr>\n",
              "      <th>Zaraj Housing Scheme</th>\n",
              "      <td>393806.258530</td>\n",
              "    </tr>\n",
              "    <tr>\n",
              "      <th>Zubaida Park</th>\n",
              "      <td>-25945.455391</td>\n",
              "    </tr>\n",
              "  </tbody>\n",
              "</table>\n",
              "<p>540 rows × 1 columns</p>\n",
              "</div>"
            ],
            "text/plain": [
              "                             Coeffecient\n",
              "baths                       89082.376909\n",
              "area_sqft                    6477.366944\n",
              "bedrooms                    17580.059832\n",
              "price_per_sqft               1526.472461\n",
              "ASF Tower                 -674301.940585\n",
              "...                                  ...\n",
              "Yousaf Town                370639.024367\n",
              "Zaheer Villas             -256250.265372\n",
              "Zaitoon - New Lahore City  179255.058927\n",
              "Zaraj Housing Scheme       393806.258530\n",
              "Zubaida Park               -25945.455391\n",
              "\n",
              "[540 rows x 1 columns]"
            ]
          },
          "metadata": {
            "tags": []
          },
          "execution_count": 308
        }
      ]
    },
    {
      "cell_type": "code",
      "metadata": {
        "id": "3nrVRootBzO4"
      },
      "source": [
        "def predict_price(location,baths,area_sqft,bedrooms,price_per_sqft):    \n",
        "    loc_index = np.where(X.columns==location)[0][0]\n",
        "   \n",
        "    x = np.zeros(len(X.columns))\n",
        "    x[0] = baths\n",
        "    x[1] = area_sqft\n",
        "    x[2] = bedrooms\n",
        "    x[3] = price_per_sqft\n",
        "    if loc_index >= 0:\n",
        "        x[loc_index] = 1\n",
        "    return lr.predict([x])[0]\n",
        "  "
      ],
      "execution_count": null,
      "outputs": []
    },
    {
      "cell_type": "markdown",
      "metadata": {
        "id": "_HxQ3sboBqr-"
      },
      "source": [
        "# For understanding that how does predict_price() work"
      ]
    },
    {
      "cell_type": "code",
      "metadata": {
        "colab": {
          "base_uri": "https://localhost:8080/"
        },
        "id": "aXYGddhC9krp",
        "outputId": "17129a05-1448-436c-b1cd-7240f91a317a"
      },
      "source": [
        "loc_index = np.where(X.columns=='ASF Tower')[0][0]\n",
        "loc_index"
      ],
      "execution_count": null,
      "outputs": [
        {
          "output_type": "execute_result",
          "data": {
            "text/plain": [
              "4"
            ]
          },
          "metadata": {
            "tags": []
          },
          "execution_count": 339
        }
      ]
    },
    {
      "cell_type": "code",
      "metadata": {
        "colab": {
          "base_uri": "https://localhost:8080/"
        },
        "id": "wK34lJjR_wWs",
        "outputId": "4c49ce42-37b0-42fc-8ed0-7469a2550f16"
      },
      "source": [
        "X.columns"
      ],
      "execution_count": null,
      "outputs": [
        {
          "output_type": "execute_result",
          "data": {
            "text/plain": [
              "Index(['baths', 'area_sqft', 'bedrooms', 'price_per_sqft', 'ASF Tower',\n",
              "       'AWT Army Welfare Trust', 'Aashiana Road',\n",
              "       'Abdalians Cooperative Housing Society', 'Abul Hassan Isphani Road',\n",
              "       'Adiala Road',\n",
              "       ...\n",
              "       'Wapda Town', 'Wassanpura', 'Wazir Town', 'Westridge', 'Yousaf Colony',\n",
              "       'Yousaf Town', 'Zaheer Villas', 'Zaitoon - New Lahore City',\n",
              "       'Zaraj Housing Scheme', 'Zubaida Park'],\n",
              "      dtype='object', length=540)"
            ]
          },
          "metadata": {
            "tags": []
          },
          "execution_count": 338
        }
      ]
    },
    {
      "cell_type": "code",
      "metadata": {
        "colab": {
          "base_uri": "https://localhost:8080/"
        },
        "id": "XWBMZDFE7QGb",
        "outputId": "9a5f89c1-28f8-4c5c-b204-beb6bf211036"
      },
      "source": [
        "x= np.zeros(20)\n",
        "x"
      ],
      "execution_count": null,
      "outputs": [
        {
          "output_type": "execute_result",
          "data": {
            "text/plain": [
              "array([0., 0., 0., 0., 0., 0., 0., 0., 0., 0., 0., 0., 0., 0., 0., 0., 0.,\n",
              "       0., 0., 0.])"
            ]
          },
          "metadata": {
            "tags": []
          },
          "execution_count": 319
        }
      ]
    },
    {
      "cell_type": "code",
      "metadata": {
        "id": "H1PYCkph7mtZ"
      },
      "source": [
        "x[0] = 5\n",
        "x[1] = 2100\n",
        "x[2] = 6\n",
        "x[3] = 9800"
      ],
      "execution_count": null,
      "outputs": []
    },
    {
      "cell_type": "code",
      "metadata": {
        "colab": {
          "base_uri": "https://localhost:8080/"
        },
        "id": "O9aYtFp17xzG",
        "outputId": "b10012d0-60d3-49c5-8a5a-fdfa59b98c61"
      },
      "source": [
        "x[2]"
      ],
      "execution_count": null,
      "outputs": [
        {
          "output_type": "execute_result",
          "data": {
            "text/plain": [
              "6.0"
            ]
          },
          "metadata": {
            "tags": []
          },
          "execution_count": 322
        }
      ]
    },
    {
      "cell_type": "code",
      "metadata": {
        "colab": {
          "base_uri": "https://localhost:8080/"
        },
        "id": "he5FWSyAB55u",
        "outputId": "bf6009eb-2e38-40ec-fb0c-4e520dd7556d"
      },
      "source": [
        "#First argument is location\n",
        "#Second argument is bathrooms\n",
        "#Third argument is area of square feet\n",
        "#Last and fourth argument is bedrooms\n",
        "print(\"Rs:\",predict_price('ASF Tower',3\t,2178.01,\t3,9182.694294\t))"
      ],
      "execution_count": null,
      "outputs": [
        {
          "output_type": "stream",
          "text": [
            "4\n",
            "Rs: 17473702.175123733\n"
          ],
          "name": "stdout"
        }
      ]
    },
    {
      "cell_type": "code",
      "metadata": {
        "colab": {
          "base_uri": "https://localhost:8080/"
        },
        "id": "9qPmoGBuefff",
        "outputId": "3735e0c6-d45c-45c5-9d28-d4f287e0aae2"
      },
      "source": [
        "\n",
        "from sklearn.model_selection import ShuffleSplit\n",
        "from sklearn.model_selection import cross_val_score\n",
        "\n",
        "cv = ShuffleSplit(n_splits=5, test_size=0.2, random_state=0)\n",
        "\n",
        "cross_val_score(LinearRegression(), X, y, cv=cv)"
      ],
      "execution_count": null,
      "outputs": [
        {
          "output_type": "execute_result",
          "data": {
            "text/plain": [
              "array([ 9.42174922e-01, -2.28242445e+12,  9.42874071e-01,  9.44232628e-01,\n",
              "       -3.01524407e+12])"
            ]
          },
          "metadata": {
            "tags": []
          },
          "execution_count": 343
        }
      ]
    },
    {
      "cell_type": "code",
      "metadata": {
        "colab": {
          "base_uri": "https://localhost:8080/",
          "height": 141
        },
        "id": "zwsp1WnSDMD2",
        "outputId": "21895ecc-8027-4333-b2c0-314c989519bb"
      },
      "source": [
        "from sklearn.model_selection import GridSearchCV\n",
        "\n",
        "from sklearn.linear_model import Lasso\n",
        "from sklearn.tree import DecisionTreeRegressor\n",
        "\n",
        "def find_best_model_using_gridsearchcv(X,y):\n",
        "    algos = {\n",
        "        'linear_regression' : {\n",
        "            'model': LinearRegression(),\n",
        "            'params': {\n",
        "                'normalize': [True, False]\n",
        "            }\n",
        "        },\n",
        "        'lasso': {\n",
        "            'model': Lasso(),\n",
        "            'params': {\n",
        "                'alpha': [1,2],\n",
        "                'selection': ['random', 'cyclic']\n",
        "            }\n",
        "        },\n",
        "        'decision_tree': {\n",
        "            'model': DecisionTreeRegressor(),\n",
        "            'params': {\n",
        "                'criterion' : ['mse','friedman_mse'],\n",
        "                'splitter': ['best','random']\n",
        "            }\n",
        "        }\n",
        "    }\n",
        "    scores = []\n",
        "    cv = ShuffleSplit(n_splits=5, test_size=0.2, random_state=0)\n",
        "    for algo_name, config in algos.items():\n",
        "        gs =  GridSearchCV(config['model'], config['params'], cv=cv, return_train_score=False)\n",
        "        gs.fit(X,y)\n",
        "        scores.append({\n",
        "            'model': algo_name,\n",
        "            'best_score': gs.best_score_,\n",
        "            'best_params': gs.best_params_\n",
        "        })\n",
        "\n",
        "    return pd.DataFrame(scores,columns=['model','best_score','best_params'])\n",
        "\n",
        "find_best_model_using_gridsearchcv(X,y)"
      ],
      "execution_count": null,
      "outputs": [
        {
          "output_type": "execute_result",
          "data": {
            "text/html": [
              "<div>\n",
              "<style scoped>\n",
              "    .dataframe tbody tr th:only-of-type {\n",
              "        vertical-align: middle;\n",
              "    }\n",
              "\n",
              "    .dataframe tbody tr th {\n",
              "        vertical-align: top;\n",
              "    }\n",
              "\n",
              "    .dataframe thead th {\n",
              "        text-align: right;\n",
              "    }\n",
              "</style>\n",
              "<table border=\"1\" class=\"dataframe\">\n",
              "  <thead>\n",
              "    <tr style=\"text-align: right;\">\n",
              "      <th></th>\n",
              "      <th>model</th>\n",
              "      <th>best_score</th>\n",
              "      <th>best_params</th>\n",
              "    </tr>\n",
              "  </thead>\n",
              "  <tbody>\n",
              "    <tr>\n",
              "      <th>0</th>\n",
              "      <td>linear_regression</td>\n",
              "      <td>-1.054600e+13</td>\n",
              "      <td>{'normalize': False}</td>\n",
              "    </tr>\n",
              "    <tr>\n",
              "      <th>1</th>\n",
              "      <td>lasso</td>\n",
              "      <td>9.436214e-01</td>\n",
              "      <td>{'alpha': 2, 'selection': 'random'}</td>\n",
              "    </tr>\n",
              "    <tr>\n",
              "      <th>2</th>\n",
              "      <td>decision_tree</td>\n",
              "      <td>9.998697e-01</td>\n",
              "      <td>{'criterion': 'friedman_mse', 'splitter': 'best'}</td>\n",
              "    </tr>\n",
              "  </tbody>\n",
              "</table>\n",
              "</div>"
            ],
            "text/plain": [
              "               model  ...                                        best_params\n",
              "0  linear_regression  ...                               {'normalize': False}\n",
              "1              lasso  ...                {'alpha': 2, 'selection': 'random'}\n",
              "2      decision_tree  ...  {'criterion': 'friedman_mse', 'splitter': 'best'}\n",
              "\n",
              "[3 rows x 3 columns]"
            ]
          },
          "metadata": {
            "tags": []
          },
          "execution_count": 344
        }
      ]
    }
  ]
}